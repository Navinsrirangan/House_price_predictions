{
 "cells": [
  {
   "cell_type": "markdown",
   "id": "9bfa5d02",
   "metadata": {
    "papermill": {
     "duration": 0.04333,
     "end_time": "2021-10-06T07:26:32.792619",
     "exception": false,
     "start_time": "2021-10-06T07:26:32.749289",
     "status": "completed"
    },
    "tags": []
   },
   "source": [
    "# Housing Price Prediction in King County, USA"
   ]
  },
  {
   "cell_type": "markdown",
   "id": "b80d277d",
   "metadata": {
    "papermill": {
     "duration": 0.04101,
     "end_time": "2021-10-06T07:26:32.874436",
     "exception": false,
     "start_time": "2021-10-06T07:26:32.833426",
     "status": "completed"
    },
    "tags": []
   },
   "source": [
    "Real Estate Investment Trust would like to start investing in Residential real estate. To determining the market price of a house given a set of features. Analyze and predict housing prices using attributes or features such as square footage, number of bedrooms, number of floors, and so on. "
   ]
  },
  {
   "cell_type": "markdown",
   "id": "bb37f19e",
   "metadata": {
    "papermill": {
     "duration": 0.041074,
     "end_time": "2021-10-06T07:26:32.956627",
     "exception": false,
     "start_time": "2021-10-06T07:26:32.915553",
     "status": "completed"
    },
    "tags": []
   },
   "source": [
    "## Dataset Description\n",
    "\n",
    "This dataset contains house sale prices for King County, which includes Seattle. It includes homes sold between May 2014 and May 2015. It was taken from here. Here is the description of the data:\n",
    "\n",
    "### Variable\tDescription\n",
    "id:\tA notation for a house\n",
    "date:\tDate house was sold\n",
    "price:\tPrice is prediction target\n",
    "bedrooms:\tNumber of bedrooms\n",
    "bathrooms:\tNumber of bathrooms\n",
    "sqft_living:\tSquare footage of the home\n",
    "sqft_lot:\tSquare footage of the lot\n",
    "floors:\tTotal floors (levels) in house\n",
    "waterfront:\tHouse which has a view to a waterfront\n",
    "view:\tHas been viewed\n",
    "condition:\tHow good the condition is overall\n",
    "grade:\toverall grade given to the housing unit, based on King County grading system\n",
    "sqft_above:\tSquare footage of house apart from basement\n",
    "sqft_basement:\tSquare footage of the basement\n",
    "yr_built:\tBuilt Year\n",
    "yr_renovated:\tYear when house was renovated\n",
    "zipcode:\tZip code\n",
    "lat:\tLatitude coordinate\n",
    "long:\tLongitude coordinate\n",
    "sqft_living15:\tLiving room area in 2015(implies-- some renovations) This might or might not have affected the lotsize area\n",
    "sqft_lot15:\tLotSize area in 2015(implies-- some renovations)"
   ]
  },
  {
   "cell_type": "markdown",
   "id": "ef0df041",
   "metadata": {
    "papermill": {
     "duration": 0.043944,
     "end_time": "2021-10-06T07:26:33.042971",
     "exception": false,
     "start_time": "2021-10-06T07:26:32.999027",
     "status": "completed"
    },
    "tags": []
   },
   "source": [
    "#### Before analysing the dataset we need to understand it's distribution.\n",
    "\n",
    "Inorder to do that, we will be using describe, isnull, info, dtypes and some plot to analyse the distribution of the dataset."
   ]
  },
  {
   "cell_type": "code",
   "execution_count": 1,
   "id": "699ba90d",
   "metadata": {
    "execution": {
     "iopub.execute_input": "2021-10-06T07:26:33.138186Z",
     "iopub.status.busy": "2021-10-06T07:26:33.137342Z",
     "iopub.status.idle": "2021-10-06T07:26:33.993454Z",
     "shell.execute_reply": "2021-10-06T07:26:33.994407Z",
     "shell.execute_reply.started": "2021-10-06T05:05:34.889104Z"
    },
    "papermill": {
     "duration": 0.91058,
     "end_time": "2021-10-06T07:26:33.994768",
     "exception": false,
     "start_time": "2021-10-06T07:26:33.084188",
     "status": "completed"
    },
    "tags": []
   },
   "outputs": [
    {
     "name": "stdout",
     "output_type": "stream",
     "text": [
      "/kaggle/input/housesalesprediction/kc_house_data.csv\n"
     ]
    }
   ],
   "source": [
    "# This Python 3 environment comes with many helpful analytics libraries installed\n",
    "# It is defined by the kaggle/python Docker image: https://github.com/kaggle/docker-python\n",
    "# For example, here's several helpful packages to load\n",
    "\n",
    "import numpy as np # linear algebra\n",
    "import pandas as pd # data processing, CSV file I/O (e.g. pd.read_csv)\n",
    "import os\n",
    "import matplotlib.pyplot as plt\n",
    "import seaborn as sn\n",
    "# Input data files are available in the read-only \"../input/\" directory\n",
    "# For example, running this (by clicking run or pressing Shift+Enter) will list all files under the input directory\n",
    "\n",
    "import os\n",
    "for dirname, _, filenames in os.walk('/kaggle/input'):\n",
    "    for filename in filenames:\n",
    "        print(os.path.join(dirname, filename))\n",
    "\n",
    "# You can write up to 20GB to the current directory (/kaggle/working/) that gets preserved as output when you create a version using \"Save & Run All\" \n",
    "# You can also write temporary files to /kaggle/temp/, but they won't be saved outside of the current session"
   ]
  },
  {
   "cell_type": "code",
   "execution_count": 2,
   "id": "2ed34719",
   "metadata": {
    "execution": {
     "iopub.execute_input": "2021-10-06T07:26:34.081230Z",
     "iopub.status.busy": "2021-10-06T07:26:34.080635Z",
     "iopub.status.idle": "2021-10-06T07:26:34.178450Z",
     "shell.execute_reply": "2021-10-06T07:26:34.178869Z",
     "shell.execute_reply.started": "2021-10-06T05:05:35.777098Z"
    },
    "papermill": {
     "duration": 0.141876,
     "end_time": "2021-10-06T07:26:34.179071",
     "exception": false,
     "start_time": "2021-10-06T07:26:34.037195",
     "status": "completed"
    },
    "tags": []
   },
   "outputs": [],
   "source": [
    "# reading the csv file.\n",
    "housing_data = pd.read_csv('../input/housesalesprediction/kc_house_data.csv')"
   ]
  },
  {
   "cell_type": "code",
   "execution_count": 3,
   "id": "a6961d87",
   "metadata": {
    "execution": {
     "iopub.execute_input": "2021-10-06T07:26:34.264417Z",
     "iopub.status.busy": "2021-10-06T07:26:34.263808Z",
     "iopub.status.idle": "2021-10-06T07:26:34.346372Z",
     "shell.execute_reply": "2021-10-06T07:26:34.346806Z",
     "shell.execute_reply.started": "2021-10-06T05:05:35.893703Z"
    },
    "papermill": {
     "duration": 0.126663,
     "end_time": "2021-10-06T07:26:34.346994",
     "exception": false,
     "start_time": "2021-10-06T07:26:34.220331",
     "status": "completed"
    },
    "tags": []
   },
   "outputs": [
    {
     "data": {
      "text/html": [
       "<div>\n",
       "<style scoped>\n",
       "    .dataframe tbody tr th:only-of-type {\n",
       "        vertical-align: middle;\n",
       "    }\n",
       "\n",
       "    .dataframe tbody tr th {\n",
       "        vertical-align: top;\n",
       "    }\n",
       "\n",
       "    .dataframe thead th {\n",
       "        text-align: right;\n",
       "    }\n",
       "</style>\n",
       "<table border=\"1\" class=\"dataframe\">\n",
       "  <thead>\n",
       "    <tr style=\"text-align: right;\">\n",
       "      <th></th>\n",
       "      <th>id</th>\n",
       "      <th>price</th>\n",
       "      <th>bedrooms</th>\n",
       "      <th>bathrooms</th>\n",
       "      <th>sqft_living</th>\n",
       "      <th>sqft_lot</th>\n",
       "      <th>floors</th>\n",
       "      <th>waterfront</th>\n",
       "      <th>view</th>\n",
       "      <th>condition</th>\n",
       "      <th>grade</th>\n",
       "      <th>sqft_above</th>\n",
       "      <th>sqft_basement</th>\n",
       "      <th>yr_built</th>\n",
       "      <th>yr_renovated</th>\n",
       "      <th>zipcode</th>\n",
       "      <th>lat</th>\n",
       "      <th>long</th>\n",
       "      <th>sqft_living15</th>\n",
       "      <th>sqft_lot15</th>\n",
       "    </tr>\n",
       "  </thead>\n",
       "  <tbody>\n",
       "    <tr>\n",
       "      <th>count</th>\n",
       "      <td>2.161300e+04</td>\n",
       "      <td>2.161300e+04</td>\n",
       "      <td>21613.000000</td>\n",
       "      <td>21613.000000</td>\n",
       "      <td>21613.000000</td>\n",
       "      <td>2.161300e+04</td>\n",
       "      <td>21613.000000</td>\n",
       "      <td>21613.000000</td>\n",
       "      <td>21613.000000</td>\n",
       "      <td>21613.000000</td>\n",
       "      <td>21613.000000</td>\n",
       "      <td>21613.000000</td>\n",
       "      <td>21613.000000</td>\n",
       "      <td>21613.000000</td>\n",
       "      <td>21613.000000</td>\n",
       "      <td>21613.000000</td>\n",
       "      <td>21613.000000</td>\n",
       "      <td>21613.000000</td>\n",
       "      <td>21613.000000</td>\n",
       "      <td>21613.000000</td>\n",
       "    </tr>\n",
       "    <tr>\n",
       "      <th>mean</th>\n",
       "      <td>4.580302e+09</td>\n",
       "      <td>5.400881e+05</td>\n",
       "      <td>3.370842</td>\n",
       "      <td>2.114757</td>\n",
       "      <td>2079.899736</td>\n",
       "      <td>1.510697e+04</td>\n",
       "      <td>1.494309</td>\n",
       "      <td>0.007542</td>\n",
       "      <td>0.234303</td>\n",
       "      <td>3.409430</td>\n",
       "      <td>7.656873</td>\n",
       "      <td>1788.390691</td>\n",
       "      <td>291.509045</td>\n",
       "      <td>1971.005136</td>\n",
       "      <td>84.402258</td>\n",
       "      <td>98077.939805</td>\n",
       "      <td>47.560053</td>\n",
       "      <td>-122.213896</td>\n",
       "      <td>1986.552492</td>\n",
       "      <td>12768.455652</td>\n",
       "    </tr>\n",
       "    <tr>\n",
       "      <th>std</th>\n",
       "      <td>2.876566e+09</td>\n",
       "      <td>3.671272e+05</td>\n",
       "      <td>0.930062</td>\n",
       "      <td>0.770163</td>\n",
       "      <td>918.440897</td>\n",
       "      <td>4.142051e+04</td>\n",
       "      <td>0.539989</td>\n",
       "      <td>0.086517</td>\n",
       "      <td>0.766318</td>\n",
       "      <td>0.650743</td>\n",
       "      <td>1.175459</td>\n",
       "      <td>828.090978</td>\n",
       "      <td>442.575043</td>\n",
       "      <td>29.373411</td>\n",
       "      <td>401.679240</td>\n",
       "      <td>53.505026</td>\n",
       "      <td>0.138564</td>\n",
       "      <td>0.140828</td>\n",
       "      <td>685.391304</td>\n",
       "      <td>27304.179631</td>\n",
       "    </tr>\n",
       "    <tr>\n",
       "      <th>min</th>\n",
       "      <td>1.000102e+06</td>\n",
       "      <td>7.500000e+04</td>\n",
       "      <td>0.000000</td>\n",
       "      <td>0.000000</td>\n",
       "      <td>290.000000</td>\n",
       "      <td>5.200000e+02</td>\n",
       "      <td>1.000000</td>\n",
       "      <td>0.000000</td>\n",
       "      <td>0.000000</td>\n",
       "      <td>1.000000</td>\n",
       "      <td>1.000000</td>\n",
       "      <td>290.000000</td>\n",
       "      <td>0.000000</td>\n",
       "      <td>1900.000000</td>\n",
       "      <td>0.000000</td>\n",
       "      <td>98001.000000</td>\n",
       "      <td>47.155900</td>\n",
       "      <td>-122.519000</td>\n",
       "      <td>399.000000</td>\n",
       "      <td>651.000000</td>\n",
       "    </tr>\n",
       "    <tr>\n",
       "      <th>25%</th>\n",
       "      <td>2.123049e+09</td>\n",
       "      <td>3.219500e+05</td>\n",
       "      <td>3.000000</td>\n",
       "      <td>1.750000</td>\n",
       "      <td>1427.000000</td>\n",
       "      <td>5.040000e+03</td>\n",
       "      <td>1.000000</td>\n",
       "      <td>0.000000</td>\n",
       "      <td>0.000000</td>\n",
       "      <td>3.000000</td>\n",
       "      <td>7.000000</td>\n",
       "      <td>1190.000000</td>\n",
       "      <td>0.000000</td>\n",
       "      <td>1951.000000</td>\n",
       "      <td>0.000000</td>\n",
       "      <td>98033.000000</td>\n",
       "      <td>47.471000</td>\n",
       "      <td>-122.328000</td>\n",
       "      <td>1490.000000</td>\n",
       "      <td>5100.000000</td>\n",
       "    </tr>\n",
       "    <tr>\n",
       "      <th>50%</th>\n",
       "      <td>3.904930e+09</td>\n",
       "      <td>4.500000e+05</td>\n",
       "      <td>3.000000</td>\n",
       "      <td>2.250000</td>\n",
       "      <td>1910.000000</td>\n",
       "      <td>7.618000e+03</td>\n",
       "      <td>1.500000</td>\n",
       "      <td>0.000000</td>\n",
       "      <td>0.000000</td>\n",
       "      <td>3.000000</td>\n",
       "      <td>7.000000</td>\n",
       "      <td>1560.000000</td>\n",
       "      <td>0.000000</td>\n",
       "      <td>1975.000000</td>\n",
       "      <td>0.000000</td>\n",
       "      <td>98065.000000</td>\n",
       "      <td>47.571800</td>\n",
       "      <td>-122.230000</td>\n",
       "      <td>1840.000000</td>\n",
       "      <td>7620.000000</td>\n",
       "    </tr>\n",
       "    <tr>\n",
       "      <th>75%</th>\n",
       "      <td>7.308900e+09</td>\n",
       "      <td>6.450000e+05</td>\n",
       "      <td>4.000000</td>\n",
       "      <td>2.500000</td>\n",
       "      <td>2550.000000</td>\n",
       "      <td>1.068800e+04</td>\n",
       "      <td>2.000000</td>\n",
       "      <td>0.000000</td>\n",
       "      <td>0.000000</td>\n",
       "      <td>4.000000</td>\n",
       "      <td>8.000000</td>\n",
       "      <td>2210.000000</td>\n",
       "      <td>560.000000</td>\n",
       "      <td>1997.000000</td>\n",
       "      <td>0.000000</td>\n",
       "      <td>98118.000000</td>\n",
       "      <td>47.678000</td>\n",
       "      <td>-122.125000</td>\n",
       "      <td>2360.000000</td>\n",
       "      <td>10083.000000</td>\n",
       "    </tr>\n",
       "    <tr>\n",
       "      <th>max</th>\n",
       "      <td>9.900000e+09</td>\n",
       "      <td>7.700000e+06</td>\n",
       "      <td>33.000000</td>\n",
       "      <td>8.000000</td>\n",
       "      <td>13540.000000</td>\n",
       "      <td>1.651359e+06</td>\n",
       "      <td>3.500000</td>\n",
       "      <td>1.000000</td>\n",
       "      <td>4.000000</td>\n",
       "      <td>5.000000</td>\n",
       "      <td>13.000000</td>\n",
       "      <td>9410.000000</td>\n",
       "      <td>4820.000000</td>\n",
       "      <td>2015.000000</td>\n",
       "      <td>2015.000000</td>\n",
       "      <td>98199.000000</td>\n",
       "      <td>47.777600</td>\n",
       "      <td>-121.315000</td>\n",
       "      <td>6210.000000</td>\n",
       "      <td>871200.000000</td>\n",
       "    </tr>\n",
       "  </tbody>\n",
       "</table>\n",
       "</div>"
      ],
      "text/plain": [
       "                 id         price      bedrooms     bathrooms   sqft_living  \\\n",
       "count  2.161300e+04  2.161300e+04  21613.000000  21613.000000  21613.000000   \n",
       "mean   4.580302e+09  5.400881e+05      3.370842      2.114757   2079.899736   \n",
       "std    2.876566e+09  3.671272e+05      0.930062      0.770163    918.440897   \n",
       "min    1.000102e+06  7.500000e+04      0.000000      0.000000    290.000000   \n",
       "25%    2.123049e+09  3.219500e+05      3.000000      1.750000   1427.000000   \n",
       "50%    3.904930e+09  4.500000e+05      3.000000      2.250000   1910.000000   \n",
       "75%    7.308900e+09  6.450000e+05      4.000000      2.500000   2550.000000   \n",
       "max    9.900000e+09  7.700000e+06     33.000000      8.000000  13540.000000   \n",
       "\n",
       "           sqft_lot        floors    waterfront          view     condition  \\\n",
       "count  2.161300e+04  21613.000000  21613.000000  21613.000000  21613.000000   \n",
       "mean   1.510697e+04      1.494309      0.007542      0.234303      3.409430   \n",
       "std    4.142051e+04      0.539989      0.086517      0.766318      0.650743   \n",
       "min    5.200000e+02      1.000000      0.000000      0.000000      1.000000   \n",
       "25%    5.040000e+03      1.000000      0.000000      0.000000      3.000000   \n",
       "50%    7.618000e+03      1.500000      0.000000      0.000000      3.000000   \n",
       "75%    1.068800e+04      2.000000      0.000000      0.000000      4.000000   \n",
       "max    1.651359e+06      3.500000      1.000000      4.000000      5.000000   \n",
       "\n",
       "              grade    sqft_above  sqft_basement      yr_built  yr_renovated  \\\n",
       "count  21613.000000  21613.000000   21613.000000  21613.000000  21613.000000   \n",
       "mean       7.656873   1788.390691     291.509045   1971.005136     84.402258   \n",
       "std        1.175459    828.090978     442.575043     29.373411    401.679240   \n",
       "min        1.000000    290.000000       0.000000   1900.000000      0.000000   \n",
       "25%        7.000000   1190.000000       0.000000   1951.000000      0.000000   \n",
       "50%        7.000000   1560.000000       0.000000   1975.000000      0.000000   \n",
       "75%        8.000000   2210.000000     560.000000   1997.000000      0.000000   \n",
       "max       13.000000   9410.000000    4820.000000   2015.000000   2015.000000   \n",
       "\n",
       "            zipcode           lat          long  sqft_living15     sqft_lot15  \n",
       "count  21613.000000  21613.000000  21613.000000   21613.000000   21613.000000  \n",
       "mean   98077.939805     47.560053   -122.213896    1986.552492   12768.455652  \n",
       "std       53.505026      0.138564      0.140828     685.391304   27304.179631  \n",
       "min    98001.000000     47.155900   -122.519000     399.000000     651.000000  \n",
       "25%    98033.000000     47.471000   -122.328000    1490.000000    5100.000000  \n",
       "50%    98065.000000     47.571800   -122.230000    1840.000000    7620.000000  \n",
       "75%    98118.000000     47.678000   -122.125000    2360.000000   10083.000000  \n",
       "max    98199.000000     47.777600   -121.315000    6210.000000  871200.000000  "
      ]
     },
     "execution_count": 3,
     "metadata": {},
     "output_type": "execute_result"
    }
   ],
   "source": [
    "# viewing the dataset and it's distribution.\n",
    "housing_data.describe()"
   ]
  },
  {
   "cell_type": "code",
   "execution_count": 4,
   "id": "36840c4c",
   "metadata": {
    "execution": {
     "iopub.execute_input": "2021-10-06T07:26:34.436461Z",
     "iopub.status.busy": "2021-10-06T07:26:34.435565Z",
     "iopub.status.idle": "2021-10-06T07:26:34.455662Z",
     "shell.execute_reply": "2021-10-06T07:26:34.456163Z",
     "shell.execute_reply.started": "2021-10-06T05:05:35.990285Z"
    },
    "papermill": {
     "duration": 0.066161,
     "end_time": "2021-10-06T07:26:34.456324",
     "exception": false,
     "start_time": "2021-10-06T07:26:34.390163",
     "status": "completed"
    },
    "tags": []
   },
   "outputs": [
    {
     "data": {
      "text/html": [
       "<div>\n",
       "<style scoped>\n",
       "    .dataframe tbody tr th:only-of-type {\n",
       "        vertical-align: middle;\n",
       "    }\n",
       "\n",
       "    .dataframe tbody tr th {\n",
       "        vertical-align: top;\n",
       "    }\n",
       "\n",
       "    .dataframe thead th {\n",
       "        text-align: right;\n",
       "    }\n",
       "</style>\n",
       "<table border=\"1\" class=\"dataframe\">\n",
       "  <thead>\n",
       "    <tr style=\"text-align: right;\">\n",
       "      <th></th>\n",
       "      <th>id</th>\n",
       "      <th>date</th>\n",
       "      <th>price</th>\n",
       "      <th>bedrooms</th>\n",
       "      <th>bathrooms</th>\n",
       "      <th>sqft_living</th>\n",
       "      <th>sqft_lot</th>\n",
       "      <th>floors</th>\n",
       "      <th>waterfront</th>\n",
       "      <th>view</th>\n",
       "      <th>...</th>\n",
       "      <th>grade</th>\n",
       "      <th>sqft_above</th>\n",
       "      <th>sqft_basement</th>\n",
       "      <th>yr_built</th>\n",
       "      <th>yr_renovated</th>\n",
       "      <th>zipcode</th>\n",
       "      <th>lat</th>\n",
       "      <th>long</th>\n",
       "      <th>sqft_living15</th>\n",
       "      <th>sqft_lot15</th>\n",
       "    </tr>\n",
       "  </thead>\n",
       "  <tbody>\n",
       "    <tr>\n",
       "      <th>0</th>\n",
       "      <td>7129300520</td>\n",
       "      <td>20141013T000000</td>\n",
       "      <td>221900.0</td>\n",
       "      <td>3</td>\n",
       "      <td>1.00</td>\n",
       "      <td>1180</td>\n",
       "      <td>5650</td>\n",
       "      <td>1.0</td>\n",
       "      <td>0</td>\n",
       "      <td>0</td>\n",
       "      <td>...</td>\n",
       "      <td>7</td>\n",
       "      <td>1180</td>\n",
       "      <td>0</td>\n",
       "      <td>1955</td>\n",
       "      <td>0</td>\n",
       "      <td>98178</td>\n",
       "      <td>47.5112</td>\n",
       "      <td>-122.257</td>\n",
       "      <td>1340</td>\n",
       "      <td>5650</td>\n",
       "    </tr>\n",
       "    <tr>\n",
       "      <th>1</th>\n",
       "      <td>6414100192</td>\n",
       "      <td>20141209T000000</td>\n",
       "      <td>538000.0</td>\n",
       "      <td>3</td>\n",
       "      <td>2.25</td>\n",
       "      <td>2570</td>\n",
       "      <td>7242</td>\n",
       "      <td>2.0</td>\n",
       "      <td>0</td>\n",
       "      <td>0</td>\n",
       "      <td>...</td>\n",
       "      <td>7</td>\n",
       "      <td>2170</td>\n",
       "      <td>400</td>\n",
       "      <td>1951</td>\n",
       "      <td>1991</td>\n",
       "      <td>98125</td>\n",
       "      <td>47.7210</td>\n",
       "      <td>-122.319</td>\n",
       "      <td>1690</td>\n",
       "      <td>7639</td>\n",
       "    </tr>\n",
       "    <tr>\n",
       "      <th>2</th>\n",
       "      <td>5631500400</td>\n",
       "      <td>20150225T000000</td>\n",
       "      <td>180000.0</td>\n",
       "      <td>2</td>\n",
       "      <td>1.00</td>\n",
       "      <td>770</td>\n",
       "      <td>10000</td>\n",
       "      <td>1.0</td>\n",
       "      <td>0</td>\n",
       "      <td>0</td>\n",
       "      <td>...</td>\n",
       "      <td>6</td>\n",
       "      <td>770</td>\n",
       "      <td>0</td>\n",
       "      <td>1933</td>\n",
       "      <td>0</td>\n",
       "      <td>98028</td>\n",
       "      <td>47.7379</td>\n",
       "      <td>-122.233</td>\n",
       "      <td>2720</td>\n",
       "      <td>8062</td>\n",
       "    </tr>\n",
       "    <tr>\n",
       "      <th>3</th>\n",
       "      <td>2487200875</td>\n",
       "      <td>20141209T000000</td>\n",
       "      <td>604000.0</td>\n",
       "      <td>4</td>\n",
       "      <td>3.00</td>\n",
       "      <td>1960</td>\n",
       "      <td>5000</td>\n",
       "      <td>1.0</td>\n",
       "      <td>0</td>\n",
       "      <td>0</td>\n",
       "      <td>...</td>\n",
       "      <td>7</td>\n",
       "      <td>1050</td>\n",
       "      <td>910</td>\n",
       "      <td>1965</td>\n",
       "      <td>0</td>\n",
       "      <td>98136</td>\n",
       "      <td>47.5208</td>\n",
       "      <td>-122.393</td>\n",
       "      <td>1360</td>\n",
       "      <td>5000</td>\n",
       "    </tr>\n",
       "    <tr>\n",
       "      <th>4</th>\n",
       "      <td>1954400510</td>\n",
       "      <td>20150218T000000</td>\n",
       "      <td>510000.0</td>\n",
       "      <td>3</td>\n",
       "      <td>2.00</td>\n",
       "      <td>1680</td>\n",
       "      <td>8080</td>\n",
       "      <td>1.0</td>\n",
       "      <td>0</td>\n",
       "      <td>0</td>\n",
       "      <td>...</td>\n",
       "      <td>8</td>\n",
       "      <td>1680</td>\n",
       "      <td>0</td>\n",
       "      <td>1987</td>\n",
       "      <td>0</td>\n",
       "      <td>98074</td>\n",
       "      <td>47.6168</td>\n",
       "      <td>-122.045</td>\n",
       "      <td>1800</td>\n",
       "      <td>7503</td>\n",
       "    </tr>\n",
       "  </tbody>\n",
       "</table>\n",
       "<p>5 rows × 21 columns</p>\n",
       "</div>"
      ],
      "text/plain": [
       "           id             date     price  bedrooms  bathrooms  sqft_living  \\\n",
       "0  7129300520  20141013T000000  221900.0         3       1.00         1180   \n",
       "1  6414100192  20141209T000000  538000.0         3       2.25         2570   \n",
       "2  5631500400  20150225T000000  180000.0         2       1.00          770   \n",
       "3  2487200875  20141209T000000  604000.0         4       3.00         1960   \n",
       "4  1954400510  20150218T000000  510000.0         3       2.00         1680   \n",
       "\n",
       "   sqft_lot  floors  waterfront  view  ...  grade  sqft_above  sqft_basement  \\\n",
       "0      5650     1.0           0     0  ...      7        1180              0   \n",
       "1      7242     2.0           0     0  ...      7        2170            400   \n",
       "2     10000     1.0           0     0  ...      6         770              0   \n",
       "3      5000     1.0           0     0  ...      7        1050            910   \n",
       "4      8080     1.0           0     0  ...      8        1680              0   \n",
       "\n",
       "   yr_built  yr_renovated  zipcode      lat     long  sqft_living15  \\\n",
       "0      1955             0    98178  47.5112 -122.257           1340   \n",
       "1      1951          1991    98125  47.7210 -122.319           1690   \n",
       "2      1933             0    98028  47.7379 -122.233           2720   \n",
       "3      1965             0    98136  47.5208 -122.393           1360   \n",
       "4      1987             0    98074  47.6168 -122.045           1800   \n",
       "\n",
       "   sqft_lot15  \n",
       "0        5650  \n",
       "1        7639  \n",
       "2        8062  \n",
       "3        5000  \n",
       "4        7503  \n",
       "\n",
       "[5 rows x 21 columns]"
      ]
     },
     "execution_count": 4,
     "metadata": {},
     "output_type": "execute_result"
    }
   ],
   "source": [
    "#disp the first 5 rows of data.\n",
    "housing_data.head()"
   ]
  },
  {
   "cell_type": "code",
   "execution_count": 5,
   "id": "62e64d32",
   "metadata": {
    "execution": {
     "iopub.execute_input": "2021-10-06T07:26:34.548587Z",
     "iopub.status.busy": "2021-10-06T07:26:34.547833Z",
     "iopub.status.idle": "2021-10-06T07:26:34.551303Z",
     "shell.execute_reply": "2021-10-06T07:26:34.550826Z",
     "shell.execute_reply.started": "2021-10-06T05:05:36.016004Z"
    },
    "papermill": {
     "duration": 0.052098,
     "end_time": "2021-10-06T07:26:34.551449",
     "exception": false,
     "start_time": "2021-10-06T07:26:34.499351",
     "status": "completed"
    },
    "tags": []
   },
   "outputs": [
    {
     "data": {
      "text/plain": [
       "id                 int64\n",
       "date              object\n",
       "price            float64\n",
       "bedrooms           int64\n",
       "bathrooms        float64\n",
       "sqft_living        int64\n",
       "sqft_lot           int64\n",
       "floors           float64\n",
       "waterfront         int64\n",
       "view               int64\n",
       "condition          int64\n",
       "grade              int64\n",
       "sqft_above         int64\n",
       "sqft_basement      int64\n",
       "yr_built           int64\n",
       "yr_renovated       int64\n",
       "zipcode            int64\n",
       "lat              float64\n",
       "long             float64\n",
       "sqft_living15      int64\n",
       "sqft_lot15         int64\n",
       "dtype: object"
      ]
     },
     "execution_count": 5,
     "metadata": {},
     "output_type": "execute_result"
    }
   ],
   "source": [
    "# checking all the data types and is there any inconsistencies.\n",
    "housing_data.dtypes"
   ]
  },
  {
   "cell_type": "code",
   "execution_count": 6,
   "id": "b370ea82",
   "metadata": {
    "execution": {
     "iopub.execute_input": "2021-10-06T07:26:34.652541Z",
     "iopub.status.busy": "2021-10-06T07:26:34.641349Z",
     "iopub.status.idle": "2021-10-06T07:26:34.664679Z",
     "shell.execute_reply": "2021-10-06T07:26:34.665232Z",
     "shell.execute_reply.started": "2021-10-06T05:05:36.029734Z"
    },
    "papermill": {
     "duration": 0.07047,
     "end_time": "2021-10-06T07:26:34.665401",
     "exception": false,
     "start_time": "2021-10-06T07:26:34.594931",
     "status": "completed"
    },
    "tags": []
   },
   "outputs": [
    {
     "data": {
      "text/html": [
       "<div>\n",
       "<style scoped>\n",
       "    .dataframe tbody tr th:only-of-type {\n",
       "        vertical-align: middle;\n",
       "    }\n",
       "\n",
       "    .dataframe tbody tr th {\n",
       "        vertical-align: top;\n",
       "    }\n",
       "\n",
       "    .dataframe thead th {\n",
       "        text-align: right;\n",
       "    }\n",
       "</style>\n",
       "<table border=\"1\" class=\"dataframe\">\n",
       "  <thead>\n",
       "    <tr style=\"text-align: right;\">\n",
       "      <th></th>\n",
       "      <th>id</th>\n",
       "      <th>date</th>\n",
       "      <th>price</th>\n",
       "      <th>bedrooms</th>\n",
       "      <th>bathrooms</th>\n",
       "      <th>sqft_living</th>\n",
       "      <th>sqft_lot</th>\n",
       "      <th>floors</th>\n",
       "      <th>waterfront</th>\n",
       "      <th>view</th>\n",
       "      <th>...</th>\n",
       "      <th>grade</th>\n",
       "      <th>sqft_above</th>\n",
       "      <th>sqft_basement</th>\n",
       "      <th>yr_built</th>\n",
       "      <th>yr_renovated</th>\n",
       "      <th>zipcode</th>\n",
       "      <th>lat</th>\n",
       "      <th>long</th>\n",
       "      <th>sqft_living15</th>\n",
       "      <th>sqft_lot15</th>\n",
       "    </tr>\n",
       "  </thead>\n",
       "  <tbody>\n",
       "    <tr>\n",
       "      <th>0</th>\n",
       "      <td>False</td>\n",
       "      <td>False</td>\n",
       "      <td>False</td>\n",
       "      <td>False</td>\n",
       "      <td>False</td>\n",
       "      <td>False</td>\n",
       "      <td>False</td>\n",
       "      <td>False</td>\n",
       "      <td>False</td>\n",
       "      <td>False</td>\n",
       "      <td>...</td>\n",
       "      <td>False</td>\n",
       "      <td>False</td>\n",
       "      <td>False</td>\n",
       "      <td>False</td>\n",
       "      <td>False</td>\n",
       "      <td>False</td>\n",
       "      <td>False</td>\n",
       "      <td>False</td>\n",
       "      <td>False</td>\n",
       "      <td>False</td>\n",
       "    </tr>\n",
       "    <tr>\n",
       "      <th>1</th>\n",
       "      <td>False</td>\n",
       "      <td>False</td>\n",
       "      <td>False</td>\n",
       "      <td>False</td>\n",
       "      <td>False</td>\n",
       "      <td>False</td>\n",
       "      <td>False</td>\n",
       "      <td>False</td>\n",
       "      <td>False</td>\n",
       "      <td>False</td>\n",
       "      <td>...</td>\n",
       "      <td>False</td>\n",
       "      <td>False</td>\n",
       "      <td>False</td>\n",
       "      <td>False</td>\n",
       "      <td>False</td>\n",
       "      <td>False</td>\n",
       "      <td>False</td>\n",
       "      <td>False</td>\n",
       "      <td>False</td>\n",
       "      <td>False</td>\n",
       "    </tr>\n",
       "    <tr>\n",
       "      <th>2</th>\n",
       "      <td>False</td>\n",
       "      <td>False</td>\n",
       "      <td>False</td>\n",
       "      <td>False</td>\n",
       "      <td>False</td>\n",
       "      <td>False</td>\n",
       "      <td>False</td>\n",
       "      <td>False</td>\n",
       "      <td>False</td>\n",
       "      <td>False</td>\n",
       "      <td>...</td>\n",
       "      <td>False</td>\n",
       "      <td>False</td>\n",
       "      <td>False</td>\n",
       "      <td>False</td>\n",
       "      <td>False</td>\n",
       "      <td>False</td>\n",
       "      <td>False</td>\n",
       "      <td>False</td>\n",
       "      <td>False</td>\n",
       "      <td>False</td>\n",
       "    </tr>\n",
       "    <tr>\n",
       "      <th>3</th>\n",
       "      <td>False</td>\n",
       "      <td>False</td>\n",
       "      <td>False</td>\n",
       "      <td>False</td>\n",
       "      <td>False</td>\n",
       "      <td>False</td>\n",
       "      <td>False</td>\n",
       "      <td>False</td>\n",
       "      <td>False</td>\n",
       "      <td>False</td>\n",
       "      <td>...</td>\n",
       "      <td>False</td>\n",
       "      <td>False</td>\n",
       "      <td>False</td>\n",
       "      <td>False</td>\n",
       "      <td>False</td>\n",
       "      <td>False</td>\n",
       "      <td>False</td>\n",
       "      <td>False</td>\n",
       "      <td>False</td>\n",
       "      <td>False</td>\n",
       "    </tr>\n",
       "    <tr>\n",
       "      <th>4</th>\n",
       "      <td>False</td>\n",
       "      <td>False</td>\n",
       "      <td>False</td>\n",
       "      <td>False</td>\n",
       "      <td>False</td>\n",
       "      <td>False</td>\n",
       "      <td>False</td>\n",
       "      <td>False</td>\n",
       "      <td>False</td>\n",
       "      <td>False</td>\n",
       "      <td>...</td>\n",
       "      <td>False</td>\n",
       "      <td>False</td>\n",
       "      <td>False</td>\n",
       "      <td>False</td>\n",
       "      <td>False</td>\n",
       "      <td>False</td>\n",
       "      <td>False</td>\n",
       "      <td>False</td>\n",
       "      <td>False</td>\n",
       "      <td>False</td>\n",
       "    </tr>\n",
       "  </tbody>\n",
       "</table>\n",
       "<p>5 rows × 21 columns</p>\n",
       "</div>"
      ],
      "text/plain": [
       "      id   date  price  bedrooms  bathrooms  sqft_living  sqft_lot  floors  \\\n",
       "0  False  False  False     False      False        False     False   False   \n",
       "1  False  False  False     False      False        False     False   False   \n",
       "2  False  False  False     False      False        False     False   False   \n",
       "3  False  False  False     False      False        False     False   False   \n",
       "4  False  False  False     False      False        False     False   False   \n",
       "\n",
       "   waterfront   view  ...  grade  sqft_above  sqft_basement  yr_built  \\\n",
       "0       False  False  ...  False       False          False     False   \n",
       "1       False  False  ...  False       False          False     False   \n",
       "2       False  False  ...  False       False          False     False   \n",
       "3       False  False  ...  False       False          False     False   \n",
       "4       False  False  ...  False       False          False     False   \n",
       "\n",
       "   yr_renovated  zipcode    lat   long  sqft_living15  sqft_lot15  \n",
       "0         False    False  False  False          False       False  \n",
       "1         False    False  False  False          False       False  \n",
       "2         False    False  False  False          False       False  \n",
       "3         False    False  False  False          False       False  \n",
       "4         False    False  False  False          False       False  \n",
       "\n",
       "[5 rows x 21 columns]"
      ]
     },
     "execution_count": 6,
     "metadata": {},
     "output_type": "execute_result"
    }
   ],
   "source": [
    "# checking is there any missing data in the datasset.\n",
    "missing_data = housing_data.isnull()\n",
    "missing_data.head(5)"
   ]
  },
  {
   "cell_type": "code",
   "execution_count": 7,
   "id": "2e8718ad",
   "metadata": {
    "execution": {
     "iopub.execute_input": "2021-10-06T07:26:34.755966Z",
     "iopub.status.busy": "2021-10-06T07:26:34.755071Z",
     "iopub.status.idle": "2021-10-06T07:26:34.757864Z",
     "shell.execute_reply": "2021-10-06T07:26:34.757296Z",
     "shell.execute_reply.started": "2021-10-06T05:05:36.06632Z"
    },
    "papermill": {
     "duration": 0.049775,
     "end_time": "2021-10-06T07:26:34.758016",
     "exception": false,
     "start_time": "2021-10-06T07:26:34.708241",
     "status": "completed"
    },
    "tags": []
   },
   "outputs": [],
   "source": [
    "housing_floors = housing_data"
   ]
  },
  {
   "cell_type": "code",
   "execution_count": 8,
   "id": "aa55058f",
   "metadata": {
    "execution": {
     "iopub.execute_input": "2021-10-06T07:26:34.854057Z",
     "iopub.status.busy": "2021-10-06T07:26:34.853452Z",
     "iopub.status.idle": "2021-10-06T07:26:34.855743Z",
     "shell.execute_reply": "2021-10-06T07:26:34.856169Z",
     "shell.execute_reply.started": "2021-10-06T05:05:36.072324Z"
    },
    "papermill": {
     "duration": 0.054765,
     "end_time": "2021-10-06T07:26:34.856332",
     "exception": false,
     "start_time": "2021-10-06T07:26:34.801567",
     "status": "completed"
    },
    "tags": []
   },
   "outputs": [
    {
     "data": {
      "text/plain": [
       "1.0    10680\n",
       "2.0     8241\n",
       "1.5     1910\n",
       "3.0      613\n",
       "2.5      161\n",
       "3.5        8\n",
       "Name: floors, dtype: int64"
      ]
     },
     "execution_count": 8,
     "metadata": {},
     "output_type": "execute_result"
    }
   ],
   "source": [
    "housing_data['floors'].value_counts()"
   ]
  },
  {
   "cell_type": "code",
   "execution_count": 9,
   "id": "fca913fc",
   "metadata": {
    "execution": {
     "iopub.execute_input": "2021-10-06T07:26:34.945559Z",
     "iopub.status.busy": "2021-10-06T07:26:34.944962Z",
     "iopub.status.idle": "2021-10-06T07:26:34.952955Z",
     "shell.execute_reply": "2021-10-06T07:26:34.952458Z",
     "shell.execute_reply.started": "2021-10-06T05:05:36.089455Z"
    },
    "papermill": {
     "duration": 0.053511,
     "end_time": "2021-10-06T07:26:34.953093",
     "exception": false,
     "start_time": "2021-10-06T07:26:34.899582",
     "status": "completed"
    },
    "tags": []
   },
   "outputs": [],
   "source": [
    "#Dropping id and date from the housing dataset.\n",
    "housing_floors=housing_floors.drop(\"id\",axis=1)\n",
    "housing_floors=housing_floors.drop(\"date\", axis=1)"
   ]
  },
  {
   "cell_type": "code",
   "execution_count": 10,
   "id": "7db38711",
   "metadata": {
    "execution": {
     "iopub.execute_input": "2021-10-06T07:26:35.046863Z",
     "iopub.status.busy": "2021-10-06T07:26:35.046259Z",
     "iopub.status.idle": "2021-10-06T07:26:35.107740Z",
     "shell.execute_reply": "2021-10-06T07:26:35.107247Z",
     "shell.execute_reply.started": "2021-10-06T05:05:36.103347Z"
    },
    "papermill": {
     "duration": 0.111718,
     "end_time": "2021-10-06T07:26:35.107873",
     "exception": false,
     "start_time": "2021-10-06T07:26:34.996155",
     "status": "completed"
    },
    "tags": []
   },
   "outputs": [
    {
     "data": {
      "text/html": [
       "<div>\n",
       "<style scoped>\n",
       "    .dataframe tbody tr th:only-of-type {\n",
       "        vertical-align: middle;\n",
       "    }\n",
       "\n",
       "    .dataframe tbody tr th {\n",
       "        vertical-align: top;\n",
       "    }\n",
       "\n",
       "    .dataframe thead th {\n",
       "        text-align: right;\n",
       "    }\n",
       "</style>\n",
       "<table border=\"1\" class=\"dataframe\">\n",
       "  <thead>\n",
       "    <tr style=\"text-align: right;\">\n",
       "      <th></th>\n",
       "      <th>price</th>\n",
       "      <th>bedrooms</th>\n",
       "      <th>bathrooms</th>\n",
       "      <th>sqft_living</th>\n",
       "      <th>sqft_lot</th>\n",
       "      <th>floors</th>\n",
       "      <th>waterfront</th>\n",
       "      <th>view</th>\n",
       "      <th>condition</th>\n",
       "      <th>grade</th>\n",
       "      <th>sqft_above</th>\n",
       "      <th>sqft_basement</th>\n",
       "      <th>yr_built</th>\n",
       "      <th>yr_renovated</th>\n",
       "      <th>zipcode</th>\n",
       "      <th>lat</th>\n",
       "      <th>long</th>\n",
       "      <th>sqft_living15</th>\n",
       "      <th>sqft_lot15</th>\n",
       "    </tr>\n",
       "  </thead>\n",
       "  <tbody>\n",
       "    <tr>\n",
       "      <th>count</th>\n",
       "      <td>2.161300e+04</td>\n",
       "      <td>21613.000000</td>\n",
       "      <td>21613.000000</td>\n",
       "      <td>21613.000000</td>\n",
       "      <td>2.161300e+04</td>\n",
       "      <td>21613.000000</td>\n",
       "      <td>21613.000000</td>\n",
       "      <td>21613.000000</td>\n",
       "      <td>21613.000000</td>\n",
       "      <td>21613.000000</td>\n",
       "      <td>21613.000000</td>\n",
       "      <td>21613.000000</td>\n",
       "      <td>21613.000000</td>\n",
       "      <td>21613.000000</td>\n",
       "      <td>21613.000000</td>\n",
       "      <td>21613.000000</td>\n",
       "      <td>21613.000000</td>\n",
       "      <td>21613.000000</td>\n",
       "      <td>21613.000000</td>\n",
       "    </tr>\n",
       "    <tr>\n",
       "      <th>mean</th>\n",
       "      <td>5.400881e+05</td>\n",
       "      <td>3.370842</td>\n",
       "      <td>2.114757</td>\n",
       "      <td>2079.899736</td>\n",
       "      <td>1.510697e+04</td>\n",
       "      <td>1.494309</td>\n",
       "      <td>0.007542</td>\n",
       "      <td>0.234303</td>\n",
       "      <td>3.409430</td>\n",
       "      <td>7.656873</td>\n",
       "      <td>1788.390691</td>\n",
       "      <td>291.509045</td>\n",
       "      <td>1971.005136</td>\n",
       "      <td>84.402258</td>\n",
       "      <td>98077.939805</td>\n",
       "      <td>47.560053</td>\n",
       "      <td>-122.213896</td>\n",
       "      <td>1986.552492</td>\n",
       "      <td>12768.455652</td>\n",
       "    </tr>\n",
       "    <tr>\n",
       "      <th>std</th>\n",
       "      <td>3.671272e+05</td>\n",
       "      <td>0.930062</td>\n",
       "      <td>0.770163</td>\n",
       "      <td>918.440897</td>\n",
       "      <td>4.142051e+04</td>\n",
       "      <td>0.539989</td>\n",
       "      <td>0.086517</td>\n",
       "      <td>0.766318</td>\n",
       "      <td>0.650743</td>\n",
       "      <td>1.175459</td>\n",
       "      <td>828.090978</td>\n",
       "      <td>442.575043</td>\n",
       "      <td>29.373411</td>\n",
       "      <td>401.679240</td>\n",
       "      <td>53.505026</td>\n",
       "      <td>0.138564</td>\n",
       "      <td>0.140828</td>\n",
       "      <td>685.391304</td>\n",
       "      <td>27304.179631</td>\n",
       "    </tr>\n",
       "    <tr>\n",
       "      <th>min</th>\n",
       "      <td>7.500000e+04</td>\n",
       "      <td>0.000000</td>\n",
       "      <td>0.000000</td>\n",
       "      <td>290.000000</td>\n",
       "      <td>5.200000e+02</td>\n",
       "      <td>1.000000</td>\n",
       "      <td>0.000000</td>\n",
       "      <td>0.000000</td>\n",
       "      <td>1.000000</td>\n",
       "      <td>1.000000</td>\n",
       "      <td>290.000000</td>\n",
       "      <td>0.000000</td>\n",
       "      <td>1900.000000</td>\n",
       "      <td>0.000000</td>\n",
       "      <td>98001.000000</td>\n",
       "      <td>47.155900</td>\n",
       "      <td>-122.519000</td>\n",
       "      <td>399.000000</td>\n",
       "      <td>651.000000</td>\n",
       "    </tr>\n",
       "    <tr>\n",
       "      <th>25%</th>\n",
       "      <td>3.219500e+05</td>\n",
       "      <td>3.000000</td>\n",
       "      <td>1.750000</td>\n",
       "      <td>1427.000000</td>\n",
       "      <td>5.040000e+03</td>\n",
       "      <td>1.000000</td>\n",
       "      <td>0.000000</td>\n",
       "      <td>0.000000</td>\n",
       "      <td>3.000000</td>\n",
       "      <td>7.000000</td>\n",
       "      <td>1190.000000</td>\n",
       "      <td>0.000000</td>\n",
       "      <td>1951.000000</td>\n",
       "      <td>0.000000</td>\n",
       "      <td>98033.000000</td>\n",
       "      <td>47.471000</td>\n",
       "      <td>-122.328000</td>\n",
       "      <td>1490.000000</td>\n",
       "      <td>5100.000000</td>\n",
       "    </tr>\n",
       "    <tr>\n",
       "      <th>50%</th>\n",
       "      <td>4.500000e+05</td>\n",
       "      <td>3.000000</td>\n",
       "      <td>2.250000</td>\n",
       "      <td>1910.000000</td>\n",
       "      <td>7.618000e+03</td>\n",
       "      <td>1.500000</td>\n",
       "      <td>0.000000</td>\n",
       "      <td>0.000000</td>\n",
       "      <td>3.000000</td>\n",
       "      <td>7.000000</td>\n",
       "      <td>1560.000000</td>\n",
       "      <td>0.000000</td>\n",
       "      <td>1975.000000</td>\n",
       "      <td>0.000000</td>\n",
       "      <td>98065.000000</td>\n",
       "      <td>47.571800</td>\n",
       "      <td>-122.230000</td>\n",
       "      <td>1840.000000</td>\n",
       "      <td>7620.000000</td>\n",
       "    </tr>\n",
       "    <tr>\n",
       "      <th>75%</th>\n",
       "      <td>6.450000e+05</td>\n",
       "      <td>4.000000</td>\n",
       "      <td>2.500000</td>\n",
       "      <td>2550.000000</td>\n",
       "      <td>1.068800e+04</td>\n",
       "      <td>2.000000</td>\n",
       "      <td>0.000000</td>\n",
       "      <td>0.000000</td>\n",
       "      <td>4.000000</td>\n",
       "      <td>8.000000</td>\n",
       "      <td>2210.000000</td>\n",
       "      <td>560.000000</td>\n",
       "      <td>1997.000000</td>\n",
       "      <td>0.000000</td>\n",
       "      <td>98118.000000</td>\n",
       "      <td>47.678000</td>\n",
       "      <td>-122.125000</td>\n",
       "      <td>2360.000000</td>\n",
       "      <td>10083.000000</td>\n",
       "    </tr>\n",
       "    <tr>\n",
       "      <th>max</th>\n",
       "      <td>7.700000e+06</td>\n",
       "      <td>33.000000</td>\n",
       "      <td>8.000000</td>\n",
       "      <td>13540.000000</td>\n",
       "      <td>1.651359e+06</td>\n",
       "      <td>3.500000</td>\n",
       "      <td>1.000000</td>\n",
       "      <td>4.000000</td>\n",
       "      <td>5.000000</td>\n",
       "      <td>13.000000</td>\n",
       "      <td>9410.000000</td>\n",
       "      <td>4820.000000</td>\n",
       "      <td>2015.000000</td>\n",
       "      <td>2015.000000</td>\n",
       "      <td>98199.000000</td>\n",
       "      <td>47.777600</td>\n",
       "      <td>-121.315000</td>\n",
       "      <td>6210.000000</td>\n",
       "      <td>871200.000000</td>\n",
       "    </tr>\n",
       "  </tbody>\n",
       "</table>\n",
       "</div>"
      ],
      "text/plain": [
       "              price      bedrooms     bathrooms   sqft_living      sqft_lot  \\\n",
       "count  2.161300e+04  21613.000000  21613.000000  21613.000000  2.161300e+04   \n",
       "mean   5.400881e+05      3.370842      2.114757   2079.899736  1.510697e+04   \n",
       "std    3.671272e+05      0.930062      0.770163    918.440897  4.142051e+04   \n",
       "min    7.500000e+04      0.000000      0.000000    290.000000  5.200000e+02   \n",
       "25%    3.219500e+05      3.000000      1.750000   1427.000000  5.040000e+03   \n",
       "50%    4.500000e+05      3.000000      2.250000   1910.000000  7.618000e+03   \n",
       "75%    6.450000e+05      4.000000      2.500000   2550.000000  1.068800e+04   \n",
       "max    7.700000e+06     33.000000      8.000000  13540.000000  1.651359e+06   \n",
       "\n",
       "             floors    waterfront          view     condition         grade  \\\n",
       "count  21613.000000  21613.000000  21613.000000  21613.000000  21613.000000   \n",
       "mean       1.494309      0.007542      0.234303      3.409430      7.656873   \n",
       "std        0.539989      0.086517      0.766318      0.650743      1.175459   \n",
       "min        1.000000      0.000000      0.000000      1.000000      1.000000   \n",
       "25%        1.000000      0.000000      0.000000      3.000000      7.000000   \n",
       "50%        1.500000      0.000000      0.000000      3.000000      7.000000   \n",
       "75%        2.000000      0.000000      0.000000      4.000000      8.000000   \n",
       "max        3.500000      1.000000      4.000000      5.000000     13.000000   \n",
       "\n",
       "         sqft_above  sqft_basement      yr_built  yr_renovated       zipcode  \\\n",
       "count  21613.000000   21613.000000  21613.000000  21613.000000  21613.000000   \n",
       "mean    1788.390691     291.509045   1971.005136     84.402258  98077.939805   \n",
       "std      828.090978     442.575043     29.373411    401.679240     53.505026   \n",
       "min      290.000000       0.000000   1900.000000      0.000000  98001.000000   \n",
       "25%     1190.000000       0.000000   1951.000000      0.000000  98033.000000   \n",
       "50%     1560.000000       0.000000   1975.000000      0.000000  98065.000000   \n",
       "75%     2210.000000     560.000000   1997.000000      0.000000  98118.000000   \n",
       "max     9410.000000    4820.000000   2015.000000   2015.000000  98199.000000   \n",
       "\n",
       "                lat          long  sqft_living15     sqft_lot15  \n",
       "count  21613.000000  21613.000000   21613.000000   21613.000000  \n",
       "mean      47.560053   -122.213896    1986.552492   12768.455652  \n",
       "std        0.138564      0.140828     685.391304   27304.179631  \n",
       "min       47.155900   -122.519000     399.000000     651.000000  \n",
       "25%       47.471000   -122.328000    1490.000000    5100.000000  \n",
       "50%       47.571800   -122.230000    1840.000000    7620.000000  \n",
       "75%       47.678000   -122.125000    2360.000000   10083.000000  \n",
       "max       47.777600   -121.315000    6210.000000  871200.000000  "
      ]
     },
     "execution_count": 10,
     "metadata": {},
     "output_type": "execute_result"
    }
   ],
   "source": [
    "housing_floors.describe()"
   ]
  },
  {
   "cell_type": "code",
   "execution_count": 11,
   "id": "0ebc86f5",
   "metadata": {
    "execution": {
     "iopub.execute_input": "2021-10-06T07:26:35.202190Z",
     "iopub.status.busy": "2021-10-06T07:26:35.201556Z",
     "iopub.status.idle": "2021-10-06T07:26:35.208404Z",
     "shell.execute_reply": "2021-10-06T07:26:35.207808Z",
     "shell.execute_reply.started": "2021-10-06T05:05:36.18333Z"
    },
    "papermill": {
     "duration": 0.056163,
     "end_time": "2021-10-06T07:26:35.208538",
     "exception": false,
     "start_time": "2021-10-06T07:26:35.152375",
     "status": "completed"
    },
    "tags": []
   },
   "outputs": [
    {
     "data": {
      "text/plain": [
       "id               0\n",
       "date             0\n",
       "price            0\n",
       "bedrooms         0\n",
       "bathrooms        0\n",
       "sqft_living      0\n",
       "sqft_lot         0\n",
       "floors           0\n",
       "waterfront       0\n",
       "view             0\n",
       "condition        0\n",
       "grade            0\n",
       "sqft_above       0\n",
       "sqft_basement    0\n",
       "yr_built         0\n",
       "yr_renovated     0\n",
       "zipcode          0\n",
       "lat              0\n",
       "long             0\n",
       "sqft_living15    0\n",
       "sqft_lot15       0\n",
       "dtype: int64"
      ]
     },
     "execution_count": 11,
     "metadata": {},
     "output_type": "execute_result"
    }
   ],
   "source": [
    "# checking for missing data.\n",
    "housing_data.isnull().sum()"
   ]
  },
  {
   "cell_type": "code",
   "execution_count": 12,
   "id": "4001697e",
   "metadata": {
    "execution": {
     "iopub.execute_input": "2021-10-06T07:26:35.301534Z",
     "iopub.status.busy": "2021-10-06T07:26:35.300797Z",
     "iopub.status.idle": "2021-10-06T07:26:35.304057Z",
     "shell.execute_reply": "2021-10-06T07:26:35.303588Z",
     "shell.execute_reply.started": "2021-10-06T05:05:36.197164Z"
    },
    "papermill": {
     "duration": 0.051981,
     "end_time": "2021-10-06T07:26:35.304191",
     "exception": false,
     "start_time": "2021-10-06T07:26:35.252210",
     "status": "completed"
    },
    "tags": []
   },
   "outputs": [
    {
     "data": {
      "text/plain": [
       "(21613, 21)"
      ]
     },
     "execution_count": 12,
     "metadata": {},
     "output_type": "execute_result"
    }
   ],
   "source": [
    "#checking the shape of the dataset.\n",
    "housing_data.shape"
   ]
  },
  {
   "cell_type": "code",
   "execution_count": 13,
   "id": "2ded05cd",
   "metadata": {
    "execution": {
     "iopub.execute_input": "2021-10-06T07:26:35.401939Z",
     "iopub.status.busy": "2021-10-06T07:26:35.401150Z",
     "iopub.status.idle": "2021-10-06T07:26:35.405317Z",
     "shell.execute_reply": "2021-10-06T07:26:35.404497Z",
     "shell.execute_reply.started": "2021-10-06T05:05:36.204128Z"
    },
    "papermill": {
     "duration": 0.057384,
     "end_time": "2021-10-06T07:26:35.405510",
     "exception": false,
     "start_time": "2021-10-06T07:26:35.348126",
     "status": "completed"
    },
    "tags": []
   },
   "outputs": [
    {
     "data": {
      "text/plain": [
       "Index(['price', 'bedrooms', 'bathrooms', 'sqft_living', 'sqft_lot', 'floors',\n",
       "       'waterfront', 'view', 'condition', 'grade', 'sqft_above',\n",
       "       'sqft_basement', 'yr_built', 'yr_renovated', 'zipcode', 'lat', 'long',\n",
       "       'sqft_living15', 'sqft_lot15'],\n",
       "      dtype='object')"
      ]
     },
     "execution_count": 13,
     "metadata": {},
     "output_type": "execute_result"
    }
   ],
   "source": [
    "#checking whether the column id and date are dropped.\n",
    "housing_floors.columns"
   ]
  },
  {
   "cell_type": "code",
   "execution_count": 14,
   "id": "f118be2d",
   "metadata": {
    "execution": {
     "iopub.execute_input": "2021-10-06T07:26:35.527193Z",
     "iopub.status.busy": "2021-10-06T07:26:35.526129Z",
     "iopub.status.idle": "2021-10-06T07:26:35.661111Z",
     "shell.execute_reply": "2021-10-06T07:26:35.661551Z",
     "shell.execute_reply.started": "2021-10-06T05:05:36.214547Z"
    },
    "papermill": {
     "duration": 0.192431,
     "end_time": "2021-10-06T07:26:35.661710",
     "exception": false,
     "start_time": "2021-10-06T07:26:35.469279",
     "status": "completed"
    },
    "tags": []
   },
   "outputs": [
    {
     "name": "stderr",
     "output_type": "stream",
     "text": [
      "/opt/conda/lib/python3.7/site-packages/ipykernel_launcher.py:5: FutureWarning: this method is deprecated in favour of `Styler.format(precision=..)`\n",
      "  \"\"\"\n"
     ]
    },
    {
     "data": {
      "text/html": [
       "<style type=\"text/css\">\n",
       "#T_ec7fc_row0_col0, #T_ec7fc_row1_col1, #T_ec7fc_row2_col2, #T_ec7fc_row3_col3, #T_ec7fc_row4_col4, #T_ec7fc_row5_col5, #T_ec7fc_row6_col6, #T_ec7fc_row7_col7, #T_ec7fc_row8_col8, #T_ec7fc_row9_col9, #T_ec7fc_row10_col10, #T_ec7fc_row11_col11, #T_ec7fc_row12_col12, #T_ec7fc_row13_col13, #T_ec7fc_row14_col14, #T_ec7fc_row15_col15, #T_ec7fc_row16_col16, #T_ec7fc_row17_col17, #T_ec7fc_row18_col18, #T_ec7fc_row19_col19 {\n",
       "  background-color: #b40426;\n",
       "  color: #f1f1f1;\n",
       "}\n",
       "#T_ec7fc_row0_col1, #T_ec7fc_row2_col7, #T_ec7fc_row9_col10 {\n",
       "  background-color: #445acc;\n",
       "  color: #f1f1f1;\n",
       "}\n",
       "#T_ec7fc_row0_col2, #T_ec7fc_row5_col1, #T_ec7fc_row7_col5, #T_ec7fc_row8_col16, #T_ec7fc_row9_col14, #T_ec7fc_row14_col19 {\n",
       "  background-color: #6485ec;\n",
       "  color: #f1f1f1;\n",
       "}\n",
       "#T_ec7fc_row0_col3, #T_ec7fc_row3_col9, #T_ec7fc_row4_col16, #T_ec7fc_row6_col16 {\n",
       "  background-color: #7295f4;\n",
       "  color: #f1f1f1;\n",
       "}\n",
       "#T_ec7fc_row0_col4, #T_ec7fc_row2_col19, #T_ec7fc_row7_col19, #T_ec7fc_row11_col12, #T_ec7fc_row14_col16 {\n",
       "  background-color: #6b8df0;\n",
       "  color: #f1f1f1;\n",
       "}\n",
       "#T_ec7fc_row0_col5, #T_ec7fc_row6_col12, #T_ec7fc_row9_col6, #T_ec7fc_row9_col13, #T_ec7fc_row13_col9, #T_ec7fc_row13_col14, #T_ec7fc_row13_col16, #T_ec7fc_row15_col1, #T_ec7fc_row15_col2, #T_ec7fc_row15_col3, #T_ec7fc_row15_col4, #T_ec7fc_row15_col5, #T_ec7fc_row15_col10, #T_ec7fc_row15_col11, #T_ec7fc_row15_col17, #T_ec7fc_row15_col18, #T_ec7fc_row15_col19, #T_ec7fc_row17_col7, #T_ec7fc_row17_col8, #T_ec7fc_row17_col15, #T_ec7fc_row19_col0 {\n",
       "  background-color: #3b4cc0;\n",
       "  color: #f1f1f1;\n",
       "}\n",
       "#T_ec7fc_row0_col6, #T_ec7fc_row3_col14, #T_ec7fc_row7_col10, #T_ec7fc_row8_col13, #T_ec7fc_row12_col16, #T_ec7fc_row14_col11 {\n",
       "  background-color: #84a7fc;\n",
       "  color: #f1f1f1;\n",
       "}\n",
       "#T_ec7fc_row0_col7 {\n",
       "  background-color: #455cce;\n",
       "  color: #f1f1f1;\n",
       "}\n",
       "#T_ec7fc_row0_col8, #T_ec7fc_row9_col1 {\n",
       "  background-color: #5470de;\n",
       "  color: #f1f1f1;\n",
       "}\n",
       "#T_ec7fc_row0_col9, #T_ec7fc_row3_col8, #T_ec7fc_row7_col13, #T_ec7fc_row16_col6 {\n",
       "  background-color: #8caffe;\n",
       "  color: #000000;\n",
       "}\n",
       "#T_ec7fc_row0_col10, #T_ec7fc_row13_col5, #T_ec7fc_row15_col6 {\n",
       "  background-color: #6e90f2;\n",
       "  color: #f1f1f1;\n",
       "}\n",
       "#T_ec7fc_row0_col11, #T_ec7fc_row1_col5, #T_ec7fc_row2_col14, #T_ec7fc_row10_col14, #T_ec7fc_row18_col9 {\n",
       "  background-color: #7a9df8;\n",
       "  color: #f1f1f1;\n",
       "}\n",
       "#T_ec7fc_row0_col12, #T_ec7fc_row3_col5, #T_ec7fc_row8_col19, #T_ec7fc_row11_col15 {\n",
       "  background-color: #799cf8;\n",
       "  color: #f1f1f1;\n",
       "}\n",
       "#T_ec7fc_row0_col13, #T_ec7fc_row5_col15, #T_ec7fc_row7_col9, #T_ec7fc_row11_col5 {\n",
       "  background-color: #97b8ff;\n",
       "  color: #000000;\n",
       "}\n",
       "#T_ec7fc_row0_col14, #T_ec7fc_row14_col1, #T_ec7fc_row14_col8, #T_ec7fc_row14_col10, #T_ec7fc_row18_col16 {\n",
       "  background-color: #7093f3;\n",
       "  color: #f1f1f1;\n",
       "}\n",
       "#T_ec7fc_row0_col15, #T_ec7fc_row5_col11, #T_ec7fc_row17_col3 {\n",
       "  background-color: #b1cbfc;\n",
       "  color: #000000;\n",
       "}\n",
       "#T_ec7fc_row0_col16, #T_ec7fc_row3_col0, #T_ec7fc_row7_col2, #T_ec7fc_row9_col19, #T_ec7fc_row11_col16, #T_ec7fc_row17_col14, #T_ec7fc_row19_col1 {\n",
       "  background-color: #6282ea;\n",
       "  color: #f1f1f1;\n",
       "}\n",
       "#T_ec7fc_row0_col17, #T_ec7fc_row1_col17, #T_ec7fc_row12_col18 {\n",
       "  background-color: #b7cff9;\n",
       "  color: #000000;\n",
       "}\n",
       "#T_ec7fc_row0_col18, #T_ec7fc_row10_col5, #T_ec7fc_row14_col18 {\n",
       "  background-color: #81a4fb;\n",
       "  color: #f1f1f1;\n",
       "}\n",
       "#T_ec7fc_row0_col19, #T_ec7fc_row5_col0 {\n",
       "  background-color: #3c4ec2;\n",
       "  color: #f1f1f1;\n",
       "}\n",
       "#T_ec7fc_row1_col0, #T_ec7fc_row9_col5, #T_ec7fc_row14_col0 {\n",
       "  background-color: #5b7ae5;\n",
       "  color: #f1f1f1;\n",
       "}\n",
       "#T_ec7fc_row1_col2, #T_ec7fc_row14_col15 {\n",
       "  background-color: #c0d4f5;\n",
       "  color: #000000;\n",
       "}\n",
       "#T_ec7fc_row1_col3, #T_ec7fc_row18_col1 {\n",
       "  background-color: #f2c9b4;\n",
       "  color: #000000;\n",
       "}\n",
       "#T_ec7fc_row1_col4, #T_ec7fc_row3_col11, #T_ec7fc_row19_col5 {\n",
       "  background-color: #f4987a;\n",
       "  color: #000000;\n",
       "}\n",
       "#T_ec7fc_row1_col6 {\n",
       "  background-color: #c4d5f3;\n",
       "  color: #000000;\n",
       "}\n",
       "#T_ec7fc_row1_col7, #T_ec7fc_row6_col1 {\n",
       "  background-color: #9dbdff;\n",
       "  color: #000000;\n",
       "}\n",
       "#T_ec7fc_row1_col8, #T_ec7fc_row2_col12, #T_ec7fc_row6_col17 {\n",
       "  background-color: #ccd9ed;\n",
       "  color: #000000;\n",
       "}\n",
       "#T_ec7fc_row1_col9, #T_ec7fc_row9_col17 {\n",
       "  background-color: #9bbcff;\n",
       "  color: #000000;\n",
       "}\n",
       "#T_ec7fc_row1_col10, #T_ec7fc_row10_col3 {\n",
       "  background-color: #f6a586;\n",
       "  color: #000000;\n",
       "}\n",
       "#T_ec7fc_row1_col11, #T_ec7fc_row10_col1 {\n",
       "  background-color: #f7b194;\n",
       "  color: #000000;\n",
       "}\n",
       "#T_ec7fc_row1_col12, #T_ec7fc_row2_col10 {\n",
       "  background-color: #d2dbe8;\n",
       "  color: #000000;\n",
       "}\n",
       "#T_ec7fc_row1_col13, #T_ec7fc_row10_col8, #T_ec7fc_row17_col6 {\n",
       "  background-color: #a1c0ff;\n",
       "  color: #000000;\n",
       "}\n",
       "#T_ec7fc_row1_col14, #T_ec7fc_row2_col9, #T_ec7fc_row4_col19, #T_ec7fc_row7_col18, #T_ec7fc_row16_col12, #T_ec7fc_row18_col19 {\n",
       "  background-color: #9abbff;\n",
       "  color: #000000;\n",
       "}\n",
       "#T_ec7fc_row1_col15, #T_ec7fc_row8_col3 {\n",
       "  background-color: #a7c5fe;\n",
       "  color: #000000;\n",
       "}\n",
       "#T_ec7fc_row1_col16, #T_ec7fc_row12_col2 {\n",
       "  background-color: #bfd3f6;\n",
       "  color: #000000;\n",
       "}\n",
       "#T_ec7fc_row1_col18 {\n",
       "  background-color: #f7b497;\n",
       "  color: #000000;\n",
       "}\n",
       "#T_ec7fc_row1_col19, #T_ec7fc_row8_col2, #T_ec7fc_row11_col14, #T_ec7fc_row19_col6 {\n",
       "  background-color: #7b9ff9;\n",
       "  color: #f1f1f1;\n",
       "}\n",
       "#T_ec7fc_row2_col0, #T_ec7fc_row2_col16, #T_ec7fc_row14_col5, #T_ec7fc_row16_col2, #T_ec7fc_row18_col7 {\n",
       "  background-color: #6180e9;\n",
       "  color: #f1f1f1;\n",
       "}\n",
       "#T_ec7fc_row2_col1, #T_ec7fc_row8_col11, #T_ec7fc_row16_col1 {\n",
       "  background-color: #adc9fd;\n",
       "  color: #000000;\n",
       "}\n",
       "#T_ec7fc_row2_col3 {\n",
       "  background-color: #f2cbb7;\n",
       "  color: #000000;\n",
       "}\n",
       "#T_ec7fc_row2_col4 {\n",
       "  background-color: #f6bea4;\n",
       "  color: #000000;\n",
       "}\n",
       "#T_ec7fc_row2_col5, #T_ec7fc_row2_col8, #T_ec7fc_row9_col18 {\n",
       "  background-color: #688aef;\n",
       "  color: #f1f1f1;\n",
       "}\n",
       "#T_ec7fc_row2_col6 {\n",
       "  background-color: #aec9fc;\n",
       "  color: #000000;\n",
       "}\n",
       "#T_ec7fc_row2_col11, #T_ec7fc_row6_col3 {\n",
       "  background-color: #efcebd;\n",
       "  color: #000000;\n",
       "}\n",
       "#T_ec7fc_row2_col13 {\n",
       "  background-color: #b9d0f9;\n",
       "  color: #000000;\n",
       "}\n",
       "#T_ec7fc_row2_col15, #T_ec7fc_row7_col11, #T_ec7fc_row7_col12, #T_ec7fc_row19_col9 {\n",
       "  background-color: #92b4fe;\n",
       "  color: #000000;\n",
       "}\n",
       "#T_ec7fc_row2_col17, #T_ec7fc_row10_col2 {\n",
       "  background-color: #cdd9ec;\n",
       "  color: #000000;\n",
       "}\n",
       "#T_ec7fc_row2_col18 {\n",
       "  background-color: #e3d9d3;\n",
       "  color: #000000;\n",
       "}\n",
       "#T_ec7fc_row3_col1 {\n",
       "  background-color: #e9d5cb;\n",
       "  color: #000000;\n",
       "}\n",
       "#T_ec7fc_row3_col2, #T_ec7fc_row11_col17 {\n",
       "  background-color: #efcfbf;\n",
       "  color: #000000;\n",
       "}\n",
       "#T_ec7fc_row3_col4, #T_ec7fc_row4_col3, #T_ec7fc_row11_col10 {\n",
       "  background-color: #ee8669;\n",
       "  color: #f1f1f1;\n",
       "}\n",
       "#T_ec7fc_row3_col6 {\n",
       "  background-color: #f2cab5;\n",
       "  color: #000000;\n",
       "}\n",
       "#T_ec7fc_row3_col7, #T_ec7fc_row6_col8, #T_ec7fc_row9_col0, #T_ec7fc_row14_col13 {\n",
       "  background-color: #5977e3;\n",
       "  color: #f1f1f1;\n",
       "}\n",
       "#T_ec7fc_row3_col10, #T_ec7fc_row4_col1 {\n",
       "  background-color: #f7a688;\n",
       "  color: #000000;\n",
       "}\n",
       "#T_ec7fc_row3_col12 {\n",
       "  background-color: #c7d7f0;\n",
       "  color: #000000;\n",
       "}\n",
       "#T_ec7fc_row3_col13 {\n",
       "  background-color: #f5c0a7;\n",
       "  color: #000000;\n",
       "}\n",
       "#T_ec7fc_row3_col15, #T_ec7fc_row4_col14, #T_ec7fc_row7_col6, #T_ec7fc_row10_col16, #T_ec7fc_row11_col8 {\n",
       "  background-color: #85a8fc;\n",
       "  color: #f1f1f1;\n",
       "}\n",
       "#T_ec7fc_row3_col16, #T_ec7fc_row11_col9, #T_ec7fc_row14_col2, #T_ec7fc_row15_col8 {\n",
       "  background-color: #6a8bef;\n",
       "  color: #f1f1f1;\n",
       "}\n",
       "#T_ec7fc_row3_col17 {\n",
       "  background-color: #dddcdc;\n",
       "  color: #000000;\n",
       "}\n",
       "#T_ec7fc_row3_col18 {\n",
       "  background-color: #f7b99e;\n",
       "  color: #000000;\n",
       "}\n",
       "#T_ec7fc_row3_col19, #T_ec7fc_row5_col6, #T_ec7fc_row16_col11 {\n",
       "  background-color: #7da0f9;\n",
       "  color: #f1f1f1;\n",
       "}\n",
       "#T_ec7fc_row4_col0, #T_ec7fc_row6_col5, #T_ec7fc_row11_col0, #T_ec7fc_row11_col7 {\n",
       "  background-color: #5d7ce6;\n",
       "  color: #f1f1f1;\n",
       "}\n",
       "#T_ec7fc_row4_col2 {\n",
       "  background-color: #f5c2aa;\n",
       "  color: #000000;\n",
       "}\n",
       "#T_ec7fc_row4_col5, #T_ec7fc_row8_col14, #T_ec7fc_row12_col17, #T_ec7fc_row13_col2, #T_ec7fc_row15_col9, #T_ec7fc_row19_col15 {\n",
       "  background-color: #93b5fe;\n",
       "  color: #000000;\n",
       "}\n",
       "#T_ec7fc_row4_col6 {\n",
       "  background-color: #dadce0;\n",
       "  color: #000000;\n",
       "}\n",
       "#T_ec7fc_row4_col7, #T_ec7fc_row6_col0, #T_ec7fc_row13_col15, #T_ec7fc_row17_col0, #T_ec7fc_row19_col8 {\n",
       "  background-color: #6687ed;\n",
       "  color: #f1f1f1;\n",
       "}\n",
       "#T_ec7fc_row4_col8, #T_ec7fc_row9_col12 {\n",
       "  background-color: #abc8fd;\n",
       "  color: #000000;\n",
       "}\n",
       "#T_ec7fc_row4_col9, #T_ec7fc_row7_col3, #T_ec7fc_row14_col9 {\n",
       "  background-color: #82a6fb;\n",
       "  color: #f1f1f1;\n",
       "}\n",
       "#T_ec7fc_row4_col10, #T_ec7fc_row18_col4 {\n",
       "  background-color: #ee8468;\n",
       "  color: #f1f1f1;\n",
       "}\n",
       "#T_ec7fc_row4_col11 {\n",
       "  background-color: #d65244;\n",
       "  color: #f1f1f1;\n",
       "}\n",
       "#T_ec7fc_row4_col12, #T_ec7fc_row11_col2, #T_ec7fc_row13_col11 {\n",
       "  background-color: #e8d6cc;\n",
       "  color: #000000;\n",
       "}\n",
       "#T_ec7fc_row4_col13 {\n",
       "  background-color: #dcdddd;\n",
       "  color: #000000;\n",
       "}\n",
       "#T_ec7fc_row4_col15, #T_ec7fc_row8_col6, #T_ec7fc_row10_col19 {\n",
       "  background-color: #86a9fc;\n",
       "  color: #f1f1f1;\n",
       "}\n",
       "#T_ec7fc_row4_col17 {\n",
       "  background-color: #e0dbd8;\n",
       "  color: #000000;\n",
       "}\n",
       "#T_ec7fc_row4_col18 {\n",
       "  background-color: #ec7f63;\n",
       "  color: #f1f1f1;\n",
       "}\n",
       "#T_ec7fc_row5_col2, #T_ec7fc_row9_col2, #T_ec7fc_row10_col9, #T_ec7fc_row16_col13, #T_ec7fc_row19_col2 {\n",
       "  background-color: #6c8ff1;\n",
       "  color: #f1f1f1;\n",
       "}\n",
       "#T_ec7fc_row5_col3, #T_ec7fc_row10_col15, #T_ec7fc_row17_col2, #T_ec7fc_row18_col5 {\n",
       "  background-color: #8badfd;\n",
       "  color: #000000;\n",
       "}\n",
       "#T_ec7fc_row5_col4, #T_ec7fc_row8_col17 {\n",
       "  background-color: #a2c1ff;\n",
       "  color: #000000;\n",
       "}\n",
       "#T_ec7fc_row5_col7 {\n",
       "  background-color: #4c66d6;\n",
       "  color: #f1f1f1;\n",
       "}\n",
       "#T_ec7fc_row5_col8, #T_ec7fc_row12_col19, #T_ec7fc_row13_col0 {\n",
       "  background-color: #6788ee;\n",
       "  color: #f1f1f1;\n",
       "}\n",
       "#T_ec7fc_row5_col9, #T_ec7fc_row7_col14 {\n",
       "  background-color: #90b2fe;\n",
       "  color: #000000;\n",
       "}\n",
       "#T_ec7fc_row5_col10, #T_ec7fc_row7_col4, #T_ec7fc_row16_col10 {\n",
       "  background-color: #8db0fe;\n",
       "  color: #000000;\n",
       "}\n",
       "#T_ec7fc_row5_col12, #T_ec7fc_row16_col4, #T_ec7fc_row16_col14 {\n",
       "  background-color: #7ea1fa;\n",
       "  color: #f1f1f1;\n",
       "}\n",
       "#T_ec7fc_row5_col13, #T_ec7fc_row7_col1 {\n",
       "  background-color: #9fbfff;\n",
       "  color: #000000;\n",
       "}\n",
       "#T_ec7fc_row5_col14, #T_ec7fc_row6_col14, #T_ec7fc_row13_col19, #T_ec7fc_row16_col3, #T_ec7fc_row19_col14 {\n",
       "  background-color: #779af7;\n",
       "  color: #f1f1f1;\n",
       "}\n",
       "#T_ec7fc_row5_col16, #T_ec7fc_row16_col19, #T_ec7fc_row19_col16 {\n",
       "  background-color: #4a63d3;\n",
       "  color: #f1f1f1;\n",
       "}\n",
       "#T_ec7fc_row5_col17, #T_ec7fc_row18_col13 {\n",
       "  background-color: #dedcdb;\n",
       "  color: #000000;\n",
       "}\n",
       "#T_ec7fc_row5_col18, #T_ec7fc_row12_col8 {\n",
       "  background-color: #a9c6fd;\n",
       "  color: #000000;\n",
       "}\n",
       "#T_ec7fc_row5_col19 {\n",
       "  background-color: #f39778;\n",
       "  color: #000000;\n",
       "}\n",
       "#T_ec7fc_row6_col2 {\n",
       "  background-color: #98b9ff;\n",
       "  color: #000000;\n",
       "}\n",
       "#T_ec7fc_row6_col4 {\n",
       "  background-color: #d3dbe7;\n",
       "  color: #000000;\n",
       "}\n",
       "#T_ec7fc_row6_col7, #T_ec7fc_row9_col3 {\n",
       "  background-color: #4e68d8;\n",
       "  color: #f1f1f1;\n",
       "}\n",
       "#T_ec7fc_row6_col9, #T_ec7fc_row17_col1 {\n",
       "  background-color: #506bda;\n",
       "  color: #f1f1f1;\n",
       "}\n",
       "#T_ec7fc_row6_col10 {\n",
       "  background-color: #e7d7ce;\n",
       "  color: #000000;\n",
       "}\n",
       "#T_ec7fc_row6_col11, #T_ec7fc_row6_col13, #T_ec7fc_row11_col6, #T_ec7fc_row13_col17 {\n",
       "  background-color: #f4c5ad;\n",
       "  color: #000000;\n",
       "}\n",
       "#T_ec7fc_row6_col15, #T_ec7fc_row17_col10 {\n",
       "  background-color: #a6c4fe;\n",
       "  color: #000000;\n",
       "}\n",
       "#T_ec7fc_row6_col18, #T_ec7fc_row8_col18 {\n",
       "  background-color: #cbd8ee;\n",
       "  color: #000000;\n",
       "}\n",
       "#T_ec7fc_row6_col19, #T_ec7fc_row7_col0, #T_ec7fc_row9_col4, #T_ec7fc_row10_col7, #T_ec7fc_row12_col0, #T_ec7fc_row12_col7, #T_ec7fc_row16_col0, #T_ec7fc_row18_col0 {\n",
       "  background-color: #5f7fe8;\n",
       "  color: #f1f1f1;\n",
       "}\n",
       "#T_ec7fc_row7_col8 {\n",
       "  background-color: #cedaeb;\n",
       "  color: #000000;\n",
       "}\n",
       "#T_ec7fc_row7_col15 {\n",
       "  background-color: #bad0f8;\n",
       "  color: #000000;\n",
       "}\n",
       "#T_ec7fc_row7_col16, #T_ec7fc_row9_col8, #T_ec7fc_row9_col16, #T_ec7fc_row15_col0 {\n",
       "  background-color: #5e7de7;\n",
       "  color: #f1f1f1;\n",
       "}\n",
       "#T_ec7fc_row7_col17, #T_ec7fc_row10_col12, #T_ec7fc_row18_col8 {\n",
       "  background-color: #aac7fd;\n",
       "  color: #000000;\n",
       "}\n",
       "#T_ec7fc_row8_col0, #T_ec7fc_row10_col0, #T_ec7fc_row12_col5, #T_ec7fc_row14_col7 {\n",
       "  background-color: #6384eb;\n",
       "  color: #f1f1f1;\n",
       "}\n",
       "#T_ec7fc_row8_col1, #T_ec7fc_row8_col7 {\n",
       "  background-color: #c9d7f0;\n",
       "  color: #000000;\n",
       "}\n",
       "#T_ec7fc_row8_col4, #T_ec7fc_row12_col3 {\n",
       "  background-color: #c1d4f4;\n",
       "  color: #000000;\n",
       "}\n",
       "#T_ec7fc_row8_col5, #T_ec7fc_row18_col14, #T_ec7fc_row18_col15 {\n",
       "  background-color: #7597f6;\n",
       "  color: #f1f1f1;\n",
       "}\n",
       "#T_ec7fc_row8_col9, #T_ec7fc_row11_col19, #T_ec7fc_row12_col10 {\n",
       "  background-color: #9ebeff;\n",
       "  color: #000000;\n",
       "}\n",
       "#T_ec7fc_row8_col10 {\n",
       "  background-color: #b6cefa;\n",
       "  color: #000000;\n",
       "}\n",
       "#T_ec7fc_row8_col12 {\n",
       "  background-color: #c6d6f1;\n",
       "  color: #000000;\n",
       "}\n",
       "#T_ec7fc_row8_col15 {\n",
       "  background-color: #c5d6f2;\n",
       "  color: #000000;\n",
       "}\n",
       "#T_ec7fc_row9_col7 {\n",
       "  background-color: #4b64d5;\n",
       "  color: #f1f1f1;\n",
       "}\n",
       "#T_ec7fc_row9_col11, #T_ec7fc_row16_col8, #T_ec7fc_row17_col12 {\n",
       "  background-color: #536edd;\n",
       "  color: #f1f1f1;\n",
       "}\n",
       "#T_ec7fc_row9_col15, #T_ec7fc_row15_col16, #T_ec7fc_row19_col11, #T_ec7fc_row19_col18 {\n",
       "  background-color: #b3cdfb;\n",
       "  color: #000000;\n",
       "}\n",
       "#T_ec7fc_row10_col4 {\n",
       "  background-color: #ed8366;\n",
       "  color: #f1f1f1;\n",
       "}\n",
       "#T_ec7fc_row10_col6 {\n",
       "  background-color: #edd1c2;\n",
       "  color: #000000;\n",
       "}\n",
       "#T_ec7fc_row10_col11 {\n",
       "  background-color: #ec8165;\n",
       "  color: #f1f1f1;\n",
       "}\n",
       "#T_ec7fc_row10_col13, #T_ec7fc_row13_col6 {\n",
       "  background-color: #f1ccb8;\n",
       "  color: #000000;\n",
       "}\n",
       "#T_ec7fc_row10_col17 {\n",
       "  background-color: #d9dce1;\n",
       "  color: #000000;\n",
       "}\n",
       "#T_ec7fc_row10_col18 {\n",
       "  background-color: #f18f71;\n",
       "  color: #f1f1f1;\n",
       "}\n",
       "#T_ec7fc_row11_col1 {\n",
       "  background-color: #f5c4ac;\n",
       "  color: #000000;\n",
       "}\n",
       "#T_ec7fc_row11_col3 {\n",
       "  background-color: #f59d7e;\n",
       "  color: #000000;\n",
       "}\n",
       "#T_ec7fc_row11_col4 {\n",
       "  background-color: #d75445;\n",
       "  color: #f1f1f1;\n",
       "}\n",
       "#T_ec7fc_row11_col13, #T_ec7fc_row18_col17 {\n",
       "  background-color: #eed0c0;\n",
       "  color: #000000;\n",
       "}\n",
       "#T_ec7fc_row11_col18 {\n",
       "  background-color: #ef886b;\n",
       "  color: #f1f1f1;\n",
       "}\n",
       "#T_ec7fc_row12_col1, #T_ec7fc_row18_col12 {\n",
       "  background-color: #b2ccfb;\n",
       "  color: #000000;\n",
       "}\n",
       "#T_ec7fc_row12_col4 {\n",
       "  background-color: #e4d9d2;\n",
       "  color: #000000;\n",
       "}\n",
       "#T_ec7fc_row12_col6, #T_ec7fc_row13_col7 {\n",
       "  background-color: #3e51c5;\n",
       "  color: #f1f1f1;\n",
       "}\n",
       "#T_ec7fc_row12_col9 {\n",
       "  background-color: #bed2f6;\n",
       "  color: #000000;\n",
       "}\n",
       "#T_ec7fc_row12_col11, #T_ec7fc_row12_col13 {\n",
       "  background-color: #6f92f3;\n",
       "  color: #f1f1f1;\n",
       "}\n",
       "#T_ec7fc_row12_col14, #T_ec7fc_row19_col3 {\n",
       "  background-color: #89acfd;\n",
       "  color: #000000;\n",
       "}\n",
       "#T_ec7fc_row12_col15 {\n",
       "  background-color: #c3d5f4;\n",
       "  color: #000000;\n",
       "}\n",
       "#T_ec7fc_row13_col1 {\n",
       "  background-color: #5a78e4;\n",
       "  color: #f1f1f1;\n",
       "}\n",
       "#T_ec7fc_row13_col3 {\n",
       "  background-color: #f0cdbb;\n",
       "  color: #000000;\n",
       "}\n",
       "#T_ec7fc_row13_col4, #T_ec7fc_row18_col6 {\n",
       "  background-color: #cad8ef;\n",
       "  color: #000000;\n",
       "}\n",
       "#T_ec7fc_row13_col8 {\n",
       "  background-color: #4055c8;\n",
       "  color: #f1f1f1;\n",
       "}\n",
       "#T_ec7fc_row13_col10, #T_ec7fc_row16_col15 {\n",
       "  background-color: #e5d8d1;\n",
       "  color: #000000;\n",
       "}\n",
       "#T_ec7fc_row13_col12 {\n",
       "  background-color: #5673e0;\n",
       "  color: #f1f1f1;\n",
       "}\n",
       "#T_ec7fc_row13_col18 {\n",
       "  background-color: #d6dce4;\n",
       "  color: #000000;\n",
       "}\n",
       "#T_ec7fc_row14_col3, #T_ec7fc_row14_col4, #T_ec7fc_row14_col6, #T_ec7fc_row19_col12 {\n",
       "  background-color: #80a3fa;\n",
       "  color: #f1f1f1;\n",
       "}\n",
       "#T_ec7fc_row14_col12, #T_ec7fc_row15_col12, #T_ec7fc_row16_col9, #T_ec7fc_row16_col18, #T_ec7fc_row19_col10 {\n",
       "  background-color: #8fb1fe;\n",
       "  color: #000000;\n",
       "}\n",
       "#T_ec7fc_row14_col17, #T_ec7fc_row17_col5, #T_ec7fc_row19_col4, #T_ec7fc_row19_col13 {\n",
       "  background-color: #a5c3fe;\n",
       "  color: #000000;\n",
       "}\n",
       "#T_ec7fc_row15_col7, #T_ec7fc_row19_col7 {\n",
       "  background-color: #4f69d9;\n",
       "  color: #f1f1f1;\n",
       "}\n",
       "#T_ec7fc_row15_col13, #T_ec7fc_row17_col16 {\n",
       "  background-color: #3d50c3;\n",
       "  color: #f1f1f1;\n",
       "}\n",
       "#T_ec7fc_row15_col14 {\n",
       "  background-color: #88abfd;\n",
       "  color: #000000;\n",
       "}\n",
       "#T_ec7fc_row16_col5 {\n",
       "  background-color: #465ecf;\n",
       "  color: #f1f1f1;\n",
       "}\n",
       "#T_ec7fc_row16_col7 {\n",
       "  background-color: #4257c9;\n",
       "  color: #f1f1f1;\n",
       "}\n",
       "#T_ec7fc_row16_col17 {\n",
       "  background-color: #96b7ff;\n",
       "  color: #000000;\n",
       "}\n",
       "#T_ec7fc_row17_col4 {\n",
       "  background-color: #b5cdfa;\n",
       "  color: #000000;\n",
       "}\n",
       "#T_ec7fc_row17_col9 {\n",
       "  background-color: #7699f6;\n",
       "  color: #f1f1f1;\n",
       "}\n",
       "#T_ec7fc_row17_col11, #T_ec7fc_row17_col18 {\n",
       "  background-color: #d7dce3;\n",
       "  color: #000000;\n",
       "}\n",
       "#T_ec7fc_row17_col13 {\n",
       "  background-color: #ecd3c5;\n",
       "  color: #000000;\n",
       "}\n",
       "#T_ec7fc_row17_col19 {\n",
       "  background-color: #afcafc;\n",
       "  color: #000000;\n",
       "}\n",
       "#T_ec7fc_row18_col2 {\n",
       "  background-color: #d5dbe5;\n",
       "  color: #000000;\n",
       "}\n",
       "#T_ec7fc_row18_col3 {\n",
       "  background-color: #f6bfa6;\n",
       "  color: #000000;\n",
       "}\n",
       "#T_ec7fc_row18_col10 {\n",
       "  background-color: #f39577;\n",
       "  color: #000000;\n",
       "}\n",
       "#T_ec7fc_row18_col11 {\n",
       "  background-color: #f08a6c;\n",
       "  color: #f1f1f1;\n",
       "}\n",
       "#T_ec7fc_row19_col17 {\n",
       "  background-color: #e2dad5;\n",
       "  color: #000000;\n",
       "}\n",
       "</style>\n",
       "<table id=\"T_ec7fc_\">\n",
       "  <thead>\n",
       "    <tr>\n",
       "      <th class=\"blank level0\" >&nbsp;</th>\n",
       "      <th class=\"col_heading level0 col0\" >id</th>\n",
       "      <th class=\"col_heading level0 col1\" >price</th>\n",
       "      <th class=\"col_heading level0 col2\" >bedrooms</th>\n",
       "      <th class=\"col_heading level0 col3\" >bathrooms</th>\n",
       "      <th class=\"col_heading level0 col4\" >sqft_living</th>\n",
       "      <th class=\"col_heading level0 col5\" >sqft_lot</th>\n",
       "      <th class=\"col_heading level0 col6\" >floors</th>\n",
       "      <th class=\"col_heading level0 col7\" >waterfront</th>\n",
       "      <th class=\"col_heading level0 col8\" >view</th>\n",
       "      <th class=\"col_heading level0 col9\" >condition</th>\n",
       "      <th class=\"col_heading level0 col10\" >grade</th>\n",
       "      <th class=\"col_heading level0 col11\" >sqft_above</th>\n",
       "      <th class=\"col_heading level0 col12\" >sqft_basement</th>\n",
       "      <th class=\"col_heading level0 col13\" >yr_built</th>\n",
       "      <th class=\"col_heading level0 col14\" >yr_renovated</th>\n",
       "      <th class=\"col_heading level0 col15\" >zipcode</th>\n",
       "      <th class=\"col_heading level0 col16\" >lat</th>\n",
       "      <th class=\"col_heading level0 col17\" >long</th>\n",
       "      <th class=\"col_heading level0 col18\" >sqft_living15</th>\n",
       "      <th class=\"col_heading level0 col19\" >sqft_lot15</th>\n",
       "    </tr>\n",
       "  </thead>\n",
       "  <tbody>\n",
       "    <tr>\n",
       "      <th id=\"T_ec7fc_level0_row0\" class=\"row_heading level0 row0\" >id</th>\n",
       "      <td id=\"T_ec7fc_row0_col0\" class=\"data row0 col0\" >1.00</td>\n",
       "      <td id=\"T_ec7fc_row0_col1\" class=\"data row0 col1\" >-0.02</td>\n",
       "      <td id=\"T_ec7fc_row0_col2\" class=\"data row0 col2\" >0.00</td>\n",
       "      <td id=\"T_ec7fc_row0_col3\" class=\"data row0 col3\" >0.01</td>\n",
       "      <td id=\"T_ec7fc_row0_col4\" class=\"data row0 col4\" >-0.01</td>\n",
       "      <td id=\"T_ec7fc_row0_col5\" class=\"data row0 col5\" >-0.13</td>\n",
       "      <td id=\"T_ec7fc_row0_col6\" class=\"data row0 col6\" >0.02</td>\n",
       "      <td id=\"T_ec7fc_row0_col7\" class=\"data row0 col7\" >-0.00</td>\n",
       "      <td id=\"T_ec7fc_row0_col8\" class=\"data row0 col8\" >0.01</td>\n",
       "      <td id=\"T_ec7fc_row0_col9\" class=\"data row0 col9\" >-0.02</td>\n",
       "      <td id=\"T_ec7fc_row0_col10\" class=\"data row0 col10\" >0.01</td>\n",
       "      <td id=\"T_ec7fc_row0_col11\" class=\"data row0 col11\" >-0.01</td>\n",
       "      <td id=\"T_ec7fc_row0_col12\" class=\"data row0 col12\" >-0.01</td>\n",
       "      <td id=\"T_ec7fc_row0_col13\" class=\"data row0 col13\" >0.02</td>\n",
       "      <td id=\"T_ec7fc_row0_col14\" class=\"data row0 col14\" >-0.02</td>\n",
       "      <td id=\"T_ec7fc_row0_col15\" class=\"data row0 col15\" >-0.01</td>\n",
       "      <td id=\"T_ec7fc_row0_col16\" class=\"data row0 col16\" >-0.00</td>\n",
       "      <td id=\"T_ec7fc_row0_col17\" class=\"data row0 col17\" >0.02</td>\n",
       "      <td id=\"T_ec7fc_row0_col18\" class=\"data row0 col18\" >-0.00</td>\n",
       "      <td id=\"T_ec7fc_row0_col19\" class=\"data row0 col19\" >-0.14</td>\n",
       "    </tr>\n",
       "    <tr>\n",
       "      <th id=\"T_ec7fc_level0_row1\" class=\"row_heading level0 row1\" >price</th>\n",
       "      <td id=\"T_ec7fc_row1_col0\" class=\"data row1 col0\" >-0.02</td>\n",
       "      <td id=\"T_ec7fc_row1_col1\" class=\"data row1 col1\" >1.00</td>\n",
       "      <td id=\"T_ec7fc_row1_col2\" class=\"data row1 col2\" >0.31</td>\n",
       "      <td id=\"T_ec7fc_row1_col3\" class=\"data row1 col3\" >0.53</td>\n",
       "      <td id=\"T_ec7fc_row1_col4\" class=\"data row1 col4\" >0.70</td>\n",
       "      <td id=\"T_ec7fc_row1_col5\" class=\"data row1 col5\" >0.09</td>\n",
       "      <td id=\"T_ec7fc_row1_col6\" class=\"data row1 col6\" >0.26</td>\n",
       "      <td id=\"T_ec7fc_row1_col7\" class=\"data row1 col7\" >0.27</td>\n",
       "      <td id=\"T_ec7fc_row1_col8\" class=\"data row1 col8\" >0.40</td>\n",
       "      <td id=\"T_ec7fc_row1_col9\" class=\"data row1 col9\" >0.04</td>\n",
       "      <td id=\"T_ec7fc_row1_col10\" class=\"data row1 col10\" >0.67</td>\n",
       "      <td id=\"T_ec7fc_row1_col11\" class=\"data row1 col11\" >0.61</td>\n",
       "      <td id=\"T_ec7fc_row1_col12\" class=\"data row1 col12\" >0.32</td>\n",
       "      <td id=\"T_ec7fc_row1_col13\" class=\"data row1 col13\" >0.05</td>\n",
       "      <td id=\"T_ec7fc_row1_col14\" class=\"data row1 col14\" >0.13</td>\n",
       "      <td id=\"T_ec7fc_row1_col15\" class=\"data row1 col15\" >-0.05</td>\n",
       "      <td id=\"T_ec7fc_row1_col16\" class=\"data row1 col16\" >0.31</td>\n",
       "      <td id=\"T_ec7fc_row1_col17\" class=\"data row1 col17\" >0.02</td>\n",
       "      <td id=\"T_ec7fc_row1_col18\" class=\"data row1 col18\" >0.59</td>\n",
       "      <td id=\"T_ec7fc_row1_col19\" class=\"data row1 col19\" >0.08</td>\n",
       "    </tr>\n",
       "    <tr>\n",
       "      <th id=\"T_ec7fc_level0_row2\" class=\"row_heading level0 row2\" >bedrooms</th>\n",
       "      <td id=\"T_ec7fc_row2_col0\" class=\"data row2 col0\" >0.00</td>\n",
       "      <td id=\"T_ec7fc_row2_col1\" class=\"data row2 col1\" >0.31</td>\n",
       "      <td id=\"T_ec7fc_row2_col2\" class=\"data row2 col2\" >1.00</td>\n",
       "      <td id=\"T_ec7fc_row2_col3\" class=\"data row2 col3\" >0.52</td>\n",
       "      <td id=\"T_ec7fc_row2_col4\" class=\"data row2 col4\" >0.58</td>\n",
       "      <td id=\"T_ec7fc_row2_col5\" class=\"data row2 col5\" >0.03</td>\n",
       "      <td id=\"T_ec7fc_row2_col6\" class=\"data row2 col6\" >0.18</td>\n",
       "      <td id=\"T_ec7fc_row2_col7\" class=\"data row2 col7\" >-0.01</td>\n",
       "      <td id=\"T_ec7fc_row2_col8\" class=\"data row2 col8\" >0.08</td>\n",
       "      <td id=\"T_ec7fc_row2_col9\" class=\"data row2 col9\" >0.03</td>\n",
       "      <td id=\"T_ec7fc_row2_col10\" class=\"data row2 col10\" >0.36</td>\n",
       "      <td id=\"T_ec7fc_row2_col11\" class=\"data row2 col11\" >0.48</td>\n",
       "      <td id=\"T_ec7fc_row2_col12\" class=\"data row2 col12\" >0.30</td>\n",
       "      <td id=\"T_ec7fc_row2_col13\" class=\"data row2 col13\" >0.15</td>\n",
       "      <td id=\"T_ec7fc_row2_col14\" class=\"data row2 col14\" >0.02</td>\n",
       "      <td id=\"T_ec7fc_row2_col15\" class=\"data row2 col15\" >-0.15</td>\n",
       "      <td id=\"T_ec7fc_row2_col16\" class=\"data row2 col16\" >-0.01</td>\n",
       "      <td id=\"T_ec7fc_row2_col17\" class=\"data row2 col17\" >0.13</td>\n",
       "      <td id=\"T_ec7fc_row2_col18\" class=\"data row2 col18\" >0.39</td>\n",
       "      <td id=\"T_ec7fc_row2_col19\" class=\"data row2 col19\" >0.03</td>\n",
       "    </tr>\n",
       "    <tr>\n",
       "      <th id=\"T_ec7fc_level0_row3\" class=\"row_heading level0 row3\" >bathrooms</th>\n",
       "      <td id=\"T_ec7fc_row3_col0\" class=\"data row3 col0\" >0.01</td>\n",
       "      <td id=\"T_ec7fc_row3_col1\" class=\"data row3 col1\" >0.53</td>\n",
       "      <td id=\"T_ec7fc_row3_col2\" class=\"data row3 col2\" >0.52</td>\n",
       "      <td id=\"T_ec7fc_row3_col3\" class=\"data row3 col3\" >1.00</td>\n",
       "      <td id=\"T_ec7fc_row3_col4\" class=\"data row3 col4\" >0.75</td>\n",
       "      <td id=\"T_ec7fc_row3_col5\" class=\"data row3 col5\" >0.09</td>\n",
       "      <td id=\"T_ec7fc_row3_col6\" class=\"data row3 col6\" >0.50</td>\n",
       "      <td id=\"T_ec7fc_row3_col7\" class=\"data row3 col7\" >0.06</td>\n",
       "      <td id=\"T_ec7fc_row3_col8\" class=\"data row3 col8\" >0.19</td>\n",
       "      <td id=\"T_ec7fc_row3_col9\" class=\"data row3 col9\" >-0.12</td>\n",
       "      <td id=\"T_ec7fc_row3_col10\" class=\"data row3 col10\" >0.66</td>\n",
       "      <td id=\"T_ec7fc_row3_col11\" class=\"data row3 col11\" >0.69</td>\n",
       "      <td id=\"T_ec7fc_row3_col12\" class=\"data row3 col12\" >0.28</td>\n",
       "      <td id=\"T_ec7fc_row3_col13\" class=\"data row3 col13\" >0.51</td>\n",
       "      <td id=\"T_ec7fc_row3_col14\" class=\"data row3 col14\" >0.05</td>\n",
       "      <td id=\"T_ec7fc_row3_col15\" class=\"data row3 col15\" >-0.20</td>\n",
       "      <td id=\"T_ec7fc_row3_col16\" class=\"data row3 col16\" >0.02</td>\n",
       "      <td id=\"T_ec7fc_row3_col17\" class=\"data row3 col17\" >0.22</td>\n",
       "      <td id=\"T_ec7fc_row3_col18\" class=\"data row3 col18\" >0.57</td>\n",
       "      <td id=\"T_ec7fc_row3_col19\" class=\"data row3 col19\" >0.09</td>\n",
       "    </tr>\n",
       "    <tr>\n",
       "      <th id=\"T_ec7fc_level0_row4\" class=\"row_heading level0 row4\" >sqft_living</th>\n",
       "      <td id=\"T_ec7fc_row4_col0\" class=\"data row4 col0\" >-0.01</td>\n",
       "      <td id=\"T_ec7fc_row4_col1\" class=\"data row4 col1\" >0.70</td>\n",
       "      <td id=\"T_ec7fc_row4_col2\" class=\"data row4 col2\" >0.58</td>\n",
       "      <td id=\"T_ec7fc_row4_col3\" class=\"data row4 col3\" >0.75</td>\n",
       "      <td id=\"T_ec7fc_row4_col4\" class=\"data row4 col4\" >1.00</td>\n",
       "      <td id=\"T_ec7fc_row4_col5\" class=\"data row4 col5\" >0.17</td>\n",
       "      <td id=\"T_ec7fc_row4_col6\" class=\"data row4 col6\" >0.35</td>\n",
       "      <td id=\"T_ec7fc_row4_col7\" class=\"data row4 col7\" >0.10</td>\n",
       "      <td id=\"T_ec7fc_row4_col8\" class=\"data row4 col8\" >0.28</td>\n",
       "      <td id=\"T_ec7fc_row4_col9\" class=\"data row4 col9\" >-0.06</td>\n",
       "      <td id=\"T_ec7fc_row4_col10\" class=\"data row4 col10\" >0.76</td>\n",
       "      <td id=\"T_ec7fc_row4_col11\" class=\"data row4 col11\" >0.88</td>\n",
       "      <td id=\"T_ec7fc_row4_col12\" class=\"data row4 col12\" >0.44</td>\n",
       "      <td id=\"T_ec7fc_row4_col13\" class=\"data row4 col13\" >0.32</td>\n",
       "      <td id=\"T_ec7fc_row4_col14\" class=\"data row4 col14\" >0.06</td>\n",
       "      <td id=\"T_ec7fc_row4_col15\" class=\"data row4 col15\" >-0.20</td>\n",
       "      <td id=\"T_ec7fc_row4_col16\" class=\"data row4 col16\" >0.05</td>\n",
       "      <td id=\"T_ec7fc_row4_col17\" class=\"data row4 col17\" >0.24</td>\n",
       "      <td id=\"T_ec7fc_row4_col18\" class=\"data row4 col18\" >0.76</td>\n",
       "      <td id=\"T_ec7fc_row4_col19\" class=\"data row4 col19\" >0.18</td>\n",
       "    </tr>\n",
       "    <tr>\n",
       "      <th id=\"T_ec7fc_level0_row5\" class=\"row_heading level0 row5\" >sqft_lot</th>\n",
       "      <td id=\"T_ec7fc_row5_col0\" class=\"data row5 col0\" >-0.13</td>\n",
       "      <td id=\"T_ec7fc_row5_col1\" class=\"data row5 col1\" >0.09</td>\n",
       "      <td id=\"T_ec7fc_row5_col2\" class=\"data row5 col2\" >0.03</td>\n",
       "      <td id=\"T_ec7fc_row5_col3\" class=\"data row5 col3\" >0.09</td>\n",
       "      <td id=\"T_ec7fc_row5_col4\" class=\"data row5 col4\" >0.17</td>\n",
       "      <td id=\"T_ec7fc_row5_col5\" class=\"data row5 col5\" >1.00</td>\n",
       "      <td id=\"T_ec7fc_row5_col6\" class=\"data row5 col6\" >-0.01</td>\n",
       "      <td id=\"T_ec7fc_row5_col7\" class=\"data row5 col7\" >0.02</td>\n",
       "      <td id=\"T_ec7fc_row5_col8\" class=\"data row5 col8\" >0.07</td>\n",
       "      <td id=\"T_ec7fc_row5_col9\" class=\"data row5 col9\" >-0.01</td>\n",
       "      <td id=\"T_ec7fc_row5_col10\" class=\"data row5 col10\" >0.11</td>\n",
       "      <td id=\"T_ec7fc_row5_col11\" class=\"data row5 col11\" >0.18</td>\n",
       "      <td id=\"T_ec7fc_row5_col12\" class=\"data row5 col12\" >0.02</td>\n",
       "      <td id=\"T_ec7fc_row5_col13\" class=\"data row5 col13\" >0.05</td>\n",
       "      <td id=\"T_ec7fc_row5_col14\" class=\"data row5 col14\" >0.01</td>\n",
       "      <td id=\"T_ec7fc_row5_col15\" class=\"data row5 col15\" >-0.13</td>\n",
       "      <td id=\"T_ec7fc_row5_col16\" class=\"data row5 col16\" >-0.09</td>\n",
       "      <td id=\"T_ec7fc_row5_col17\" class=\"data row5 col17\" >0.23</td>\n",
       "      <td id=\"T_ec7fc_row5_col18\" class=\"data row5 col18\" >0.14</td>\n",
       "      <td id=\"T_ec7fc_row5_col19\" class=\"data row5 col19\" >0.72</td>\n",
       "    </tr>\n",
       "    <tr>\n",
       "      <th id=\"T_ec7fc_level0_row6\" class=\"row_heading level0 row6\" >floors</th>\n",
       "      <td id=\"T_ec7fc_row6_col0\" class=\"data row6 col0\" >0.02</td>\n",
       "      <td id=\"T_ec7fc_row6_col1\" class=\"data row6 col1\" >0.26</td>\n",
       "      <td id=\"T_ec7fc_row6_col2\" class=\"data row6 col2\" >0.18</td>\n",
       "      <td id=\"T_ec7fc_row6_col3\" class=\"data row6 col3\" >0.50</td>\n",
       "      <td id=\"T_ec7fc_row6_col4\" class=\"data row6 col4\" >0.35</td>\n",
       "      <td id=\"T_ec7fc_row6_col5\" class=\"data row6 col5\" >-0.01</td>\n",
       "      <td id=\"T_ec7fc_row6_col6\" class=\"data row6 col6\" >1.00</td>\n",
       "      <td id=\"T_ec7fc_row6_col7\" class=\"data row6 col7\" >0.02</td>\n",
       "      <td id=\"T_ec7fc_row6_col8\" class=\"data row6 col8\" >0.03</td>\n",
       "      <td id=\"T_ec7fc_row6_col9\" class=\"data row6 col9\" >-0.26</td>\n",
       "      <td id=\"T_ec7fc_row6_col10\" class=\"data row6 col10\" >0.46</td>\n",
       "      <td id=\"T_ec7fc_row6_col11\" class=\"data row6 col11\" >0.52</td>\n",
       "      <td id=\"T_ec7fc_row6_col12\" class=\"data row6 col12\" >-0.25</td>\n",
       "      <td id=\"T_ec7fc_row6_col13\" class=\"data row6 col13\" >0.49</td>\n",
       "      <td id=\"T_ec7fc_row6_col14\" class=\"data row6 col14\" >0.01</td>\n",
       "      <td id=\"T_ec7fc_row6_col15\" class=\"data row6 col15\" >-0.06</td>\n",
       "      <td id=\"T_ec7fc_row6_col16\" class=\"data row6 col16\" >0.05</td>\n",
       "      <td id=\"T_ec7fc_row6_col17\" class=\"data row6 col17\" >0.13</td>\n",
       "      <td id=\"T_ec7fc_row6_col18\" class=\"data row6 col18\" >0.28</td>\n",
       "      <td id=\"T_ec7fc_row6_col19\" class=\"data row6 col19\" >-0.01</td>\n",
       "    </tr>\n",
       "    <tr>\n",
       "      <th id=\"T_ec7fc_level0_row7\" class=\"row_heading level0 row7\" >waterfront</th>\n",
       "      <td id=\"T_ec7fc_row7_col0\" class=\"data row7 col0\" >-0.00</td>\n",
       "      <td id=\"T_ec7fc_row7_col1\" class=\"data row7 col1\" >0.27</td>\n",
       "      <td id=\"T_ec7fc_row7_col2\" class=\"data row7 col2\" >-0.01</td>\n",
       "      <td id=\"T_ec7fc_row7_col3\" class=\"data row7 col3\" >0.06</td>\n",
       "      <td id=\"T_ec7fc_row7_col4\" class=\"data row7 col4\" >0.10</td>\n",
       "      <td id=\"T_ec7fc_row7_col5\" class=\"data row7 col5\" >0.02</td>\n",
       "      <td id=\"T_ec7fc_row7_col6\" class=\"data row7 col6\" >0.02</td>\n",
       "      <td id=\"T_ec7fc_row7_col7\" class=\"data row7 col7\" >1.00</td>\n",
       "      <td id=\"T_ec7fc_row7_col8\" class=\"data row7 col8\" >0.40</td>\n",
       "      <td id=\"T_ec7fc_row7_col9\" class=\"data row7 col9\" >0.02</td>\n",
       "      <td id=\"T_ec7fc_row7_col10\" class=\"data row7 col10\" >0.08</td>\n",
       "      <td id=\"T_ec7fc_row7_col11\" class=\"data row7 col11\" >0.07</td>\n",
       "      <td id=\"T_ec7fc_row7_col12\" class=\"data row7 col12\" >0.08</td>\n",
       "      <td id=\"T_ec7fc_row7_col13\" class=\"data row7 col13\" >-0.03</td>\n",
       "      <td id=\"T_ec7fc_row7_col14\" class=\"data row7 col14\" >0.09</td>\n",
       "      <td id=\"T_ec7fc_row7_col15\" class=\"data row7 col15\" >0.03</td>\n",
       "      <td id=\"T_ec7fc_row7_col16\" class=\"data row7 col16\" >-0.01</td>\n",
       "      <td id=\"T_ec7fc_row7_col17\" class=\"data row7 col17\" >-0.04</td>\n",
       "      <td id=\"T_ec7fc_row7_col18\" class=\"data row7 col18\" >0.09</td>\n",
       "      <td id=\"T_ec7fc_row7_col19\" class=\"data row7 col19\" >0.03</td>\n",
       "    </tr>\n",
       "    <tr>\n",
       "      <th id=\"T_ec7fc_level0_row8\" class=\"row_heading level0 row8\" >view</th>\n",
       "      <td id=\"T_ec7fc_row8_col0\" class=\"data row8 col0\" >0.01</td>\n",
       "      <td id=\"T_ec7fc_row8_col1\" class=\"data row8 col1\" >0.40</td>\n",
       "      <td id=\"T_ec7fc_row8_col2\" class=\"data row8 col2\" >0.08</td>\n",
       "      <td id=\"T_ec7fc_row8_col3\" class=\"data row8 col3\" >0.19</td>\n",
       "      <td id=\"T_ec7fc_row8_col4\" class=\"data row8 col4\" >0.28</td>\n",
       "      <td id=\"T_ec7fc_row8_col5\" class=\"data row8 col5\" >0.07</td>\n",
       "      <td id=\"T_ec7fc_row8_col6\" class=\"data row8 col6\" >0.03</td>\n",
       "      <td id=\"T_ec7fc_row8_col7\" class=\"data row8 col7\" >0.40</td>\n",
       "      <td id=\"T_ec7fc_row8_col8\" class=\"data row8 col8\" >1.00</td>\n",
       "      <td id=\"T_ec7fc_row8_col9\" class=\"data row8 col9\" >0.05</td>\n",
       "      <td id=\"T_ec7fc_row8_col10\" class=\"data row8 col10\" >0.25</td>\n",
       "      <td id=\"T_ec7fc_row8_col11\" class=\"data row8 col11\" >0.17</td>\n",
       "      <td id=\"T_ec7fc_row8_col12\" class=\"data row8 col12\" >0.28</td>\n",
       "      <td id=\"T_ec7fc_row8_col13\" class=\"data row8 col13\" >-0.05</td>\n",
       "      <td id=\"T_ec7fc_row8_col14\" class=\"data row8 col14\" >0.10</td>\n",
       "      <td id=\"T_ec7fc_row8_col15\" class=\"data row8 col15\" >0.08</td>\n",
       "      <td id=\"T_ec7fc_row8_col16\" class=\"data row8 col16\" >0.01</td>\n",
       "      <td id=\"T_ec7fc_row8_col17\" class=\"data row8 col17\" >-0.08</td>\n",
       "      <td id=\"T_ec7fc_row8_col18\" class=\"data row8 col18\" >0.28</td>\n",
       "      <td id=\"T_ec7fc_row8_col19\" class=\"data row8 col19\" >0.07</td>\n",
       "    </tr>\n",
       "    <tr>\n",
       "      <th id=\"T_ec7fc_level0_row9\" class=\"row_heading level0 row9\" >condition</th>\n",
       "      <td id=\"T_ec7fc_row9_col0\" class=\"data row9 col0\" >-0.02</td>\n",
       "      <td id=\"T_ec7fc_row9_col1\" class=\"data row9 col1\" >0.04</td>\n",
       "      <td id=\"T_ec7fc_row9_col2\" class=\"data row9 col2\" >0.03</td>\n",
       "      <td id=\"T_ec7fc_row9_col3\" class=\"data row9 col3\" >-0.12</td>\n",
       "      <td id=\"T_ec7fc_row9_col4\" class=\"data row9 col4\" >-0.06</td>\n",
       "      <td id=\"T_ec7fc_row9_col5\" class=\"data row9 col5\" >-0.01</td>\n",
       "      <td id=\"T_ec7fc_row9_col6\" class=\"data row9 col6\" >-0.26</td>\n",
       "      <td id=\"T_ec7fc_row9_col7\" class=\"data row9 col7\" >0.02</td>\n",
       "      <td id=\"T_ec7fc_row9_col8\" class=\"data row9 col8\" >0.05</td>\n",
       "      <td id=\"T_ec7fc_row9_col9\" class=\"data row9 col9\" >1.00</td>\n",
       "      <td id=\"T_ec7fc_row9_col10\" class=\"data row9 col10\" >-0.14</td>\n",
       "      <td id=\"T_ec7fc_row9_col11\" class=\"data row9 col11\" >-0.16</td>\n",
       "      <td id=\"T_ec7fc_row9_col12\" class=\"data row9 col12\" >0.17</td>\n",
       "      <td id=\"T_ec7fc_row9_col13\" class=\"data row9 col13\" >-0.36</td>\n",
       "      <td id=\"T_ec7fc_row9_col14\" class=\"data row9 col14\" >-0.06</td>\n",
       "      <td id=\"T_ec7fc_row9_col15\" class=\"data row9 col15\" >0.00</td>\n",
       "      <td id=\"T_ec7fc_row9_col16\" class=\"data row9 col16\" >-0.01</td>\n",
       "      <td id=\"T_ec7fc_row9_col17\" class=\"data row9 col17\" >-0.11</td>\n",
       "      <td id=\"T_ec7fc_row9_col18\" class=\"data row9 col18\" >-0.09</td>\n",
       "      <td id=\"T_ec7fc_row9_col19\" class=\"data row9 col19\" >-0.00</td>\n",
       "    </tr>\n",
       "    <tr>\n",
       "      <th id=\"T_ec7fc_level0_row10\" class=\"row_heading level0 row10\" >grade</th>\n",
       "      <td id=\"T_ec7fc_row10_col0\" class=\"data row10 col0\" >0.01</td>\n",
       "      <td id=\"T_ec7fc_row10_col1\" class=\"data row10 col1\" >0.67</td>\n",
       "      <td id=\"T_ec7fc_row10_col2\" class=\"data row10 col2\" >0.36</td>\n",
       "      <td id=\"T_ec7fc_row10_col3\" class=\"data row10 col3\" >0.66</td>\n",
       "      <td id=\"T_ec7fc_row10_col4\" class=\"data row10 col4\" >0.76</td>\n",
       "      <td id=\"T_ec7fc_row10_col5\" class=\"data row10 col5\" >0.11</td>\n",
       "      <td id=\"T_ec7fc_row10_col6\" class=\"data row10 col6\" >0.46</td>\n",
       "      <td id=\"T_ec7fc_row10_col7\" class=\"data row10 col7\" >0.08</td>\n",
       "      <td id=\"T_ec7fc_row10_col8\" class=\"data row10 col8\" >0.25</td>\n",
       "      <td id=\"T_ec7fc_row10_col9\" class=\"data row10 col9\" >-0.14</td>\n",
       "      <td id=\"T_ec7fc_row10_col10\" class=\"data row10 col10\" >1.00</td>\n",
       "      <td id=\"T_ec7fc_row10_col11\" class=\"data row10 col11\" >0.76</td>\n",
       "      <td id=\"T_ec7fc_row10_col12\" class=\"data row10 col12\" >0.17</td>\n",
       "      <td id=\"T_ec7fc_row10_col13\" class=\"data row10 col13\" >0.45</td>\n",
       "      <td id=\"T_ec7fc_row10_col14\" class=\"data row10 col14\" >0.01</td>\n",
       "      <td id=\"T_ec7fc_row10_col15\" class=\"data row10 col15\" >-0.18</td>\n",
       "      <td id=\"T_ec7fc_row10_col16\" class=\"data row10 col16\" >0.11</td>\n",
       "      <td id=\"T_ec7fc_row10_col17\" class=\"data row10 col17\" >0.20</td>\n",
       "      <td id=\"T_ec7fc_row10_col18\" class=\"data row10 col18\" >0.71</td>\n",
       "      <td id=\"T_ec7fc_row10_col19\" class=\"data row10 col19\" >0.12</td>\n",
       "    </tr>\n",
       "    <tr>\n",
       "      <th id=\"T_ec7fc_level0_row11\" class=\"row_heading level0 row11\" >sqft_above</th>\n",
       "      <td id=\"T_ec7fc_row11_col0\" class=\"data row11 col0\" >-0.01</td>\n",
       "      <td id=\"T_ec7fc_row11_col1\" class=\"data row11 col1\" >0.61</td>\n",
       "      <td id=\"T_ec7fc_row11_col2\" class=\"data row11 col2\" >0.48</td>\n",
       "      <td id=\"T_ec7fc_row11_col3\" class=\"data row11 col3\" >0.69</td>\n",
       "      <td id=\"T_ec7fc_row11_col4\" class=\"data row11 col4\" >0.88</td>\n",
       "      <td id=\"T_ec7fc_row11_col5\" class=\"data row11 col5\" >0.18</td>\n",
       "      <td id=\"T_ec7fc_row11_col6\" class=\"data row11 col6\" >0.52</td>\n",
       "      <td id=\"T_ec7fc_row11_col7\" class=\"data row11 col7\" >0.07</td>\n",
       "      <td id=\"T_ec7fc_row11_col8\" class=\"data row11 col8\" >0.17</td>\n",
       "      <td id=\"T_ec7fc_row11_col9\" class=\"data row11 col9\" >-0.16</td>\n",
       "      <td id=\"T_ec7fc_row11_col10\" class=\"data row11 col10\" >0.76</td>\n",
       "      <td id=\"T_ec7fc_row11_col11\" class=\"data row11 col11\" >1.00</td>\n",
       "      <td id=\"T_ec7fc_row11_col12\" class=\"data row11 col12\" >-0.05</td>\n",
       "      <td id=\"T_ec7fc_row11_col13\" class=\"data row11 col13\" >0.42</td>\n",
       "      <td id=\"T_ec7fc_row11_col14\" class=\"data row11 col14\" >0.02</td>\n",
       "      <td id=\"T_ec7fc_row11_col15\" class=\"data row11 col15\" >-0.26</td>\n",
       "      <td id=\"T_ec7fc_row11_col16\" class=\"data row11 col16\" >-0.00</td>\n",
       "      <td id=\"T_ec7fc_row11_col17\" class=\"data row11 col17\" >0.34</td>\n",
       "      <td id=\"T_ec7fc_row11_col18\" class=\"data row11 col18\" >0.73</td>\n",
       "      <td id=\"T_ec7fc_row11_col19\" class=\"data row11 col19\" >0.19</td>\n",
       "    </tr>\n",
       "    <tr>\n",
       "      <th id=\"T_ec7fc_level0_row12\" class=\"row_heading level0 row12\" >sqft_basement</th>\n",
       "      <td id=\"T_ec7fc_row12_col0\" class=\"data row12 col0\" >-0.01</td>\n",
       "      <td id=\"T_ec7fc_row12_col1\" class=\"data row12 col1\" >0.32</td>\n",
       "      <td id=\"T_ec7fc_row12_col2\" class=\"data row12 col2\" >0.30</td>\n",
       "      <td id=\"T_ec7fc_row12_col3\" class=\"data row12 col3\" >0.28</td>\n",
       "      <td id=\"T_ec7fc_row12_col4\" class=\"data row12 col4\" >0.44</td>\n",
       "      <td id=\"T_ec7fc_row12_col5\" class=\"data row12 col5\" >0.02</td>\n",
       "      <td id=\"T_ec7fc_row12_col6\" class=\"data row12 col6\" >-0.25</td>\n",
       "      <td id=\"T_ec7fc_row12_col7\" class=\"data row12 col7\" >0.08</td>\n",
       "      <td id=\"T_ec7fc_row12_col8\" class=\"data row12 col8\" >0.28</td>\n",
       "      <td id=\"T_ec7fc_row12_col9\" class=\"data row12 col9\" >0.17</td>\n",
       "      <td id=\"T_ec7fc_row12_col10\" class=\"data row12 col10\" >0.17</td>\n",
       "      <td id=\"T_ec7fc_row12_col11\" class=\"data row12 col11\" >-0.05</td>\n",
       "      <td id=\"T_ec7fc_row12_col12\" class=\"data row12 col12\" >1.00</td>\n",
       "      <td id=\"T_ec7fc_row12_col13\" class=\"data row12 col13\" >-0.13</td>\n",
       "      <td id=\"T_ec7fc_row12_col14\" class=\"data row12 col14\" >0.07</td>\n",
       "      <td id=\"T_ec7fc_row12_col15\" class=\"data row12 col15\" >0.07</td>\n",
       "      <td id=\"T_ec7fc_row12_col16\" class=\"data row12 col16\" >0.11</td>\n",
       "      <td id=\"T_ec7fc_row12_col17\" class=\"data row12 col17\" >-0.14</td>\n",
       "      <td id=\"T_ec7fc_row12_col18\" class=\"data row12 col18\" >0.20</td>\n",
       "      <td id=\"T_ec7fc_row12_col19\" class=\"data row12 col19\" >0.02</td>\n",
       "    </tr>\n",
       "    <tr>\n",
       "      <th id=\"T_ec7fc_level0_row13\" class=\"row_heading level0 row13\" >yr_built</th>\n",
       "      <td id=\"T_ec7fc_row13_col0\" class=\"data row13 col0\" >0.02</td>\n",
       "      <td id=\"T_ec7fc_row13_col1\" class=\"data row13 col1\" >0.05</td>\n",
       "      <td id=\"T_ec7fc_row13_col2\" class=\"data row13 col2\" >0.15</td>\n",
       "      <td id=\"T_ec7fc_row13_col3\" class=\"data row13 col3\" >0.51</td>\n",
       "      <td id=\"T_ec7fc_row13_col4\" class=\"data row13 col4\" >0.32</td>\n",
       "      <td id=\"T_ec7fc_row13_col5\" class=\"data row13 col5\" >0.05</td>\n",
       "      <td id=\"T_ec7fc_row13_col6\" class=\"data row13 col6\" >0.49</td>\n",
       "      <td id=\"T_ec7fc_row13_col7\" class=\"data row13 col7\" >-0.03</td>\n",
       "      <td id=\"T_ec7fc_row13_col8\" class=\"data row13 col8\" >-0.05</td>\n",
       "      <td id=\"T_ec7fc_row13_col9\" class=\"data row13 col9\" >-0.36</td>\n",
       "      <td id=\"T_ec7fc_row13_col10\" class=\"data row13 col10\" >0.45</td>\n",
       "      <td id=\"T_ec7fc_row13_col11\" class=\"data row13 col11\" >0.42</td>\n",
       "      <td id=\"T_ec7fc_row13_col12\" class=\"data row13 col12\" >-0.13</td>\n",
       "      <td id=\"T_ec7fc_row13_col13\" class=\"data row13 col13\" >1.00</td>\n",
       "      <td id=\"T_ec7fc_row13_col14\" class=\"data row13 col14\" >-0.22</td>\n",
       "      <td id=\"T_ec7fc_row13_col15\" class=\"data row13 col15\" >-0.35</td>\n",
       "      <td id=\"T_ec7fc_row13_col16\" class=\"data row13 col16\" >-0.15</td>\n",
       "      <td id=\"T_ec7fc_row13_col17\" class=\"data row13 col17\" >0.41</td>\n",
       "      <td id=\"T_ec7fc_row13_col18\" class=\"data row13 col18\" >0.33</td>\n",
       "      <td id=\"T_ec7fc_row13_col19\" class=\"data row13 col19\" >0.07</td>\n",
       "    </tr>\n",
       "    <tr>\n",
       "      <th id=\"T_ec7fc_level0_row14\" class=\"row_heading level0 row14\" >yr_renovated</th>\n",
       "      <td id=\"T_ec7fc_row14_col0\" class=\"data row14 col0\" >-0.02</td>\n",
       "      <td id=\"T_ec7fc_row14_col1\" class=\"data row14 col1\" >0.13</td>\n",
       "      <td id=\"T_ec7fc_row14_col2\" class=\"data row14 col2\" >0.02</td>\n",
       "      <td id=\"T_ec7fc_row14_col3\" class=\"data row14 col3\" >0.05</td>\n",
       "      <td id=\"T_ec7fc_row14_col4\" class=\"data row14 col4\" >0.06</td>\n",
       "      <td id=\"T_ec7fc_row14_col5\" class=\"data row14 col5\" >0.01</td>\n",
       "      <td id=\"T_ec7fc_row14_col6\" class=\"data row14 col6\" >0.01</td>\n",
       "      <td id=\"T_ec7fc_row14_col7\" class=\"data row14 col7\" >0.09</td>\n",
       "      <td id=\"T_ec7fc_row14_col8\" class=\"data row14 col8\" >0.10</td>\n",
       "      <td id=\"T_ec7fc_row14_col9\" class=\"data row14 col9\" >-0.06</td>\n",
       "      <td id=\"T_ec7fc_row14_col10\" class=\"data row14 col10\" >0.01</td>\n",
       "      <td id=\"T_ec7fc_row14_col11\" class=\"data row14 col11\" >0.02</td>\n",
       "      <td id=\"T_ec7fc_row14_col12\" class=\"data row14 col12\" >0.07</td>\n",
       "      <td id=\"T_ec7fc_row14_col13\" class=\"data row14 col13\" >-0.22</td>\n",
       "      <td id=\"T_ec7fc_row14_col14\" class=\"data row14 col14\" >1.00</td>\n",
       "      <td id=\"T_ec7fc_row14_col15\" class=\"data row14 col15\" >0.06</td>\n",
       "      <td id=\"T_ec7fc_row14_col16\" class=\"data row14 col16\" >0.03</td>\n",
       "      <td id=\"T_ec7fc_row14_col17\" class=\"data row14 col17\" >-0.07</td>\n",
       "      <td id=\"T_ec7fc_row14_col18\" class=\"data row14 col18\" >-0.00</td>\n",
       "      <td id=\"T_ec7fc_row14_col19\" class=\"data row14 col19\" >0.01</td>\n",
       "    </tr>\n",
       "    <tr>\n",
       "      <th id=\"T_ec7fc_level0_row15\" class=\"row_heading level0 row15\" >zipcode</th>\n",
       "      <td id=\"T_ec7fc_row15_col0\" class=\"data row15 col0\" >-0.01</td>\n",
       "      <td id=\"T_ec7fc_row15_col1\" class=\"data row15 col1\" >-0.05</td>\n",
       "      <td id=\"T_ec7fc_row15_col2\" class=\"data row15 col2\" >-0.15</td>\n",
       "      <td id=\"T_ec7fc_row15_col3\" class=\"data row15 col3\" >-0.20</td>\n",
       "      <td id=\"T_ec7fc_row15_col4\" class=\"data row15 col4\" >-0.20</td>\n",
       "      <td id=\"T_ec7fc_row15_col5\" class=\"data row15 col5\" >-0.13</td>\n",
       "      <td id=\"T_ec7fc_row15_col6\" class=\"data row15 col6\" >-0.06</td>\n",
       "      <td id=\"T_ec7fc_row15_col7\" class=\"data row15 col7\" >0.03</td>\n",
       "      <td id=\"T_ec7fc_row15_col8\" class=\"data row15 col8\" >0.08</td>\n",
       "      <td id=\"T_ec7fc_row15_col9\" class=\"data row15 col9\" >0.00</td>\n",
       "      <td id=\"T_ec7fc_row15_col10\" class=\"data row15 col10\" >-0.18</td>\n",
       "      <td id=\"T_ec7fc_row15_col11\" class=\"data row15 col11\" >-0.26</td>\n",
       "      <td id=\"T_ec7fc_row15_col12\" class=\"data row15 col12\" >0.07</td>\n",
       "      <td id=\"T_ec7fc_row15_col13\" class=\"data row15 col13\" >-0.35</td>\n",
       "      <td id=\"T_ec7fc_row15_col14\" class=\"data row15 col14\" >0.06</td>\n",
       "      <td id=\"T_ec7fc_row15_col15\" class=\"data row15 col15\" >1.00</td>\n",
       "      <td id=\"T_ec7fc_row15_col16\" class=\"data row15 col16\" >0.27</td>\n",
       "      <td id=\"T_ec7fc_row15_col17\" class=\"data row15 col17\" >-0.56</td>\n",
       "      <td id=\"T_ec7fc_row15_col18\" class=\"data row15 col18\" >-0.28</td>\n",
       "      <td id=\"T_ec7fc_row15_col19\" class=\"data row15 col19\" >-0.15</td>\n",
       "    </tr>\n",
       "    <tr>\n",
       "      <th id=\"T_ec7fc_level0_row16\" class=\"row_heading level0 row16\" >lat</th>\n",
       "      <td id=\"T_ec7fc_row16_col0\" class=\"data row16 col0\" >-0.00</td>\n",
       "      <td id=\"T_ec7fc_row16_col1\" class=\"data row16 col1\" >0.31</td>\n",
       "      <td id=\"T_ec7fc_row16_col2\" class=\"data row16 col2\" >-0.01</td>\n",
       "      <td id=\"T_ec7fc_row16_col3\" class=\"data row16 col3\" >0.02</td>\n",
       "      <td id=\"T_ec7fc_row16_col4\" class=\"data row16 col4\" >0.05</td>\n",
       "      <td id=\"T_ec7fc_row16_col5\" class=\"data row16 col5\" >-0.09</td>\n",
       "      <td id=\"T_ec7fc_row16_col6\" class=\"data row16 col6\" >0.05</td>\n",
       "      <td id=\"T_ec7fc_row16_col7\" class=\"data row16 col7\" >-0.01</td>\n",
       "      <td id=\"T_ec7fc_row16_col8\" class=\"data row16 col8\" >0.01</td>\n",
       "      <td id=\"T_ec7fc_row16_col9\" class=\"data row16 col9\" >-0.01</td>\n",
       "      <td id=\"T_ec7fc_row16_col10\" class=\"data row16 col10\" >0.11</td>\n",
       "      <td id=\"T_ec7fc_row16_col11\" class=\"data row16 col11\" >-0.00</td>\n",
       "      <td id=\"T_ec7fc_row16_col12\" class=\"data row16 col12\" >0.11</td>\n",
       "      <td id=\"T_ec7fc_row16_col13\" class=\"data row16 col13\" >-0.15</td>\n",
       "      <td id=\"T_ec7fc_row16_col14\" class=\"data row16 col14\" >0.03</td>\n",
       "      <td id=\"T_ec7fc_row16_col15\" class=\"data row16 col15\" >0.27</td>\n",
       "      <td id=\"T_ec7fc_row16_col16\" class=\"data row16 col16\" >1.00</td>\n",
       "      <td id=\"T_ec7fc_row16_col17\" class=\"data row16 col17\" >-0.14</td>\n",
       "      <td id=\"T_ec7fc_row16_col18\" class=\"data row16 col18\" >0.05</td>\n",
       "      <td id=\"T_ec7fc_row16_col19\" class=\"data row16 col19\" >-0.09</td>\n",
       "    </tr>\n",
       "    <tr>\n",
       "      <th id=\"T_ec7fc_level0_row17\" class=\"row_heading level0 row17\" >long</th>\n",
       "      <td id=\"T_ec7fc_row17_col0\" class=\"data row17 col0\" >0.02</td>\n",
       "      <td id=\"T_ec7fc_row17_col1\" class=\"data row17 col1\" >0.02</td>\n",
       "      <td id=\"T_ec7fc_row17_col2\" class=\"data row17 col2\" >0.13</td>\n",
       "      <td id=\"T_ec7fc_row17_col3\" class=\"data row17 col3\" >0.22</td>\n",
       "      <td id=\"T_ec7fc_row17_col4\" class=\"data row17 col4\" >0.24</td>\n",
       "      <td id=\"T_ec7fc_row17_col5\" class=\"data row17 col5\" >0.23</td>\n",
       "      <td id=\"T_ec7fc_row17_col6\" class=\"data row17 col6\" >0.13</td>\n",
       "      <td id=\"T_ec7fc_row17_col7\" class=\"data row17 col7\" >-0.04</td>\n",
       "      <td id=\"T_ec7fc_row17_col8\" class=\"data row17 col8\" >-0.08</td>\n",
       "      <td id=\"T_ec7fc_row17_col9\" class=\"data row17 col9\" >-0.11</td>\n",
       "      <td id=\"T_ec7fc_row17_col10\" class=\"data row17 col10\" >0.20</td>\n",
       "      <td id=\"T_ec7fc_row17_col11\" class=\"data row17 col11\" >0.34</td>\n",
       "      <td id=\"T_ec7fc_row17_col12\" class=\"data row17 col12\" >-0.14</td>\n",
       "      <td id=\"T_ec7fc_row17_col13\" class=\"data row17 col13\" >0.41</td>\n",
       "      <td id=\"T_ec7fc_row17_col14\" class=\"data row17 col14\" >-0.07</td>\n",
       "      <td id=\"T_ec7fc_row17_col15\" class=\"data row17 col15\" >-0.56</td>\n",
       "      <td id=\"T_ec7fc_row17_col16\" class=\"data row17 col16\" >-0.14</td>\n",
       "      <td id=\"T_ec7fc_row17_col17\" class=\"data row17 col17\" >1.00</td>\n",
       "      <td id=\"T_ec7fc_row17_col18\" class=\"data row17 col18\" >0.33</td>\n",
       "      <td id=\"T_ec7fc_row17_col19\" class=\"data row17 col19\" >0.25</td>\n",
       "    </tr>\n",
       "    <tr>\n",
       "      <th id=\"T_ec7fc_level0_row18\" class=\"row_heading level0 row18\" >sqft_living15</th>\n",
       "      <td id=\"T_ec7fc_row18_col0\" class=\"data row18 col0\" >-0.00</td>\n",
       "      <td id=\"T_ec7fc_row18_col1\" class=\"data row18 col1\" >0.59</td>\n",
       "      <td id=\"T_ec7fc_row18_col2\" class=\"data row18 col2\" >0.39</td>\n",
       "      <td id=\"T_ec7fc_row18_col3\" class=\"data row18 col3\" >0.57</td>\n",
       "      <td id=\"T_ec7fc_row18_col4\" class=\"data row18 col4\" >0.76</td>\n",
       "      <td id=\"T_ec7fc_row18_col5\" class=\"data row18 col5\" >0.14</td>\n",
       "      <td id=\"T_ec7fc_row18_col6\" class=\"data row18 col6\" >0.28</td>\n",
       "      <td id=\"T_ec7fc_row18_col7\" class=\"data row18 col7\" >0.09</td>\n",
       "      <td id=\"T_ec7fc_row18_col8\" class=\"data row18 col8\" >0.28</td>\n",
       "      <td id=\"T_ec7fc_row18_col9\" class=\"data row18 col9\" >-0.09</td>\n",
       "      <td id=\"T_ec7fc_row18_col10\" class=\"data row18 col10\" >0.71</td>\n",
       "      <td id=\"T_ec7fc_row18_col11\" class=\"data row18 col11\" >0.73</td>\n",
       "      <td id=\"T_ec7fc_row18_col12\" class=\"data row18 col12\" >0.20</td>\n",
       "      <td id=\"T_ec7fc_row18_col13\" class=\"data row18 col13\" >0.33</td>\n",
       "      <td id=\"T_ec7fc_row18_col14\" class=\"data row18 col14\" >-0.00</td>\n",
       "      <td id=\"T_ec7fc_row18_col15\" class=\"data row18 col15\" >-0.28</td>\n",
       "      <td id=\"T_ec7fc_row18_col16\" class=\"data row18 col16\" >0.05</td>\n",
       "      <td id=\"T_ec7fc_row18_col17\" class=\"data row18 col17\" >0.33</td>\n",
       "      <td id=\"T_ec7fc_row18_col18\" class=\"data row18 col18\" >1.00</td>\n",
       "      <td id=\"T_ec7fc_row18_col19\" class=\"data row18 col19\" >0.18</td>\n",
       "    </tr>\n",
       "    <tr>\n",
       "      <th id=\"T_ec7fc_level0_row19\" class=\"row_heading level0 row19\" >sqft_lot15</th>\n",
       "      <td id=\"T_ec7fc_row19_col0\" class=\"data row19 col0\" >-0.14</td>\n",
       "      <td id=\"T_ec7fc_row19_col1\" class=\"data row19 col1\" >0.08</td>\n",
       "      <td id=\"T_ec7fc_row19_col2\" class=\"data row19 col2\" >0.03</td>\n",
       "      <td id=\"T_ec7fc_row19_col3\" class=\"data row19 col3\" >0.09</td>\n",
       "      <td id=\"T_ec7fc_row19_col4\" class=\"data row19 col4\" >0.18</td>\n",
       "      <td id=\"T_ec7fc_row19_col5\" class=\"data row19 col5\" >0.72</td>\n",
       "      <td id=\"T_ec7fc_row19_col6\" class=\"data row19 col6\" >-0.01</td>\n",
       "      <td id=\"T_ec7fc_row19_col7\" class=\"data row19 col7\" >0.03</td>\n",
       "      <td id=\"T_ec7fc_row19_col8\" class=\"data row19 col8\" >0.07</td>\n",
       "      <td id=\"T_ec7fc_row19_col9\" class=\"data row19 col9\" >-0.00</td>\n",
       "      <td id=\"T_ec7fc_row19_col10\" class=\"data row19 col10\" >0.12</td>\n",
       "      <td id=\"T_ec7fc_row19_col11\" class=\"data row19 col11\" >0.19</td>\n",
       "      <td id=\"T_ec7fc_row19_col12\" class=\"data row19 col12\" >0.02</td>\n",
       "      <td id=\"T_ec7fc_row19_col13\" class=\"data row19 col13\" >0.07</td>\n",
       "      <td id=\"T_ec7fc_row19_col14\" class=\"data row19 col14\" >0.01</td>\n",
       "      <td id=\"T_ec7fc_row19_col15\" class=\"data row19 col15\" >-0.15</td>\n",
       "      <td id=\"T_ec7fc_row19_col16\" class=\"data row19 col16\" >-0.09</td>\n",
       "      <td id=\"T_ec7fc_row19_col17\" class=\"data row19 col17\" >0.25</td>\n",
       "      <td id=\"T_ec7fc_row19_col18\" class=\"data row19 col18\" >0.18</td>\n",
       "      <td id=\"T_ec7fc_row19_col19\" class=\"data row19 col19\" >1.00</td>\n",
       "    </tr>\n",
       "  </tbody>\n",
       "</table>\n"
      ],
      "text/plain": [
       "<pandas.io.formats.style.Styler at 0x7f51a8b3f2d0>"
      ]
     },
     "execution_count": 14,
     "metadata": {},
     "output_type": "execute_result"
    }
   ],
   "source": [
    "# checking correlation for the whole dataset.\n",
    "rs = np.random.RandomState(0)\n",
    "df = pd.DataFrame(rs.rand(10, 10))\n",
    "corr = housing_data.corr()\n",
    "corr.style.background_gradient(cmap='coolwarm').set_precision(2)"
   ]
  },
  {
   "cell_type": "code",
   "execution_count": 15,
   "id": "76eddc28",
   "metadata": {
    "execution": {
     "iopub.execute_input": "2021-10-06T07:26:35.759607Z",
     "iopub.status.busy": "2021-10-06T07:26:35.759033Z",
     "iopub.status.idle": "2021-10-06T07:26:35.934157Z",
     "shell.execute_reply": "2021-10-06T07:26:35.934875Z",
     "shell.execute_reply.started": "2021-10-06T05:05:36.375275Z"
    },
    "papermill": {
     "duration": 0.226921,
     "end_time": "2021-10-06T07:26:35.935157",
     "exception": false,
     "start_time": "2021-10-06T07:26:35.708236",
     "status": "completed"
    },
    "tags": []
   },
   "outputs": [
    {
     "data": {
      "text/plain": [
       "<AxesSubplot:xlabel='waterfront', ylabel='price'>"
      ]
     },
     "execution_count": 15,
     "metadata": {},
     "output_type": "execute_result"
    },
    {
     "data": {
      "image/png": "[encoded data removed]",
      "text/plain": [
       "<Figure size 432x288 with 1 Axes>"
      ]
     },
     "metadata": {
      "needs_background": "light"
     },
     "output_type": "display_data"
    }
   ],
   "source": [
    "# checking the distribution of waterfront in relation to price.\n",
    "sn.boxplot(x=\"waterfront\", y=\"price\", data=housing_data)"
   ]
  },
  {
   "cell_type": "code",
   "execution_count": 16,
   "id": "03a69bf9",
   "metadata": {
    "execution": {
     "iopub.execute_input": "2021-10-06T07:26:36.038835Z",
     "iopub.status.busy": "2021-10-06T07:26:36.038263Z",
     "iopub.status.idle": "2021-10-06T07:26:37.259080Z",
     "shell.execute_reply": "2021-10-06T07:26:37.259476Z",
     "shell.execute_reply.started": "2021-10-06T05:05:36.575572Z"
    },
    "papermill": {
     "duration": 1.273285,
     "end_time": "2021-10-06T07:26:37.259641",
     "exception": false,
     "start_time": "2021-10-06T07:26:35.986356",
     "status": "completed"
    },
    "tags": []
   },
   "outputs": [
    {
     "data": {
      "text/plain": [
       "(0.0, 8081250.0)"
      ]
     },
     "execution_count": 16,
     "metadata": {},
     "output_type": "execute_result"
    },
    {
     "data": {
      "image/png": "[encoded data removed]",
      "text/plain": [
       "<Figure size 432x288 with 1 Axes>"
      ]
     },
     "metadata": {
      "needs_background": "light"
     },
     "output_type": "display_data"
    }
   ],
   "source": [
    "# plotting the regression plot to check the correlation between sqft_above and price.\n",
    "sn.regplot(x=\"sqft_above\", y=\"price\", data=housing_data)\n",
    "plt.ylim(0,)"
   ]
  },
  {
   "cell_type": "markdown",
   "id": "b9252792",
   "metadata": {
    "papermill": {
     "duration": 0.047949,
     "end_time": "2021-10-06T07:26:37.356190",
     "exception": false,
     "start_time": "2021-10-06T07:26:37.308241",
     "status": "completed"
    },
    "tags": []
   },
   "source": [
    "# # Linear Regression"
   ]
  },
  {
   "cell_type": "code",
   "execution_count": 17,
   "id": "3cab7659",
   "metadata": {
    "execution": {
     "iopub.execute_input": "2021-10-06T07:26:37.455847Z",
     "iopub.status.busy": "2021-10-06T07:26:37.455299Z",
     "iopub.status.idle": "2021-10-06T07:26:37.669815Z",
     "shell.execute_reply": "2021-10-06T07:26:37.669285Z",
     "shell.execute_reply.started": "2021-10-06T05:05:37.912861Z"
    },
    "papermill": {
     "duration": 0.265464,
     "end_time": "2021-10-06T07:26:37.669969",
     "exception": false,
     "start_time": "2021-10-06T07:26:37.404505",
     "status": "completed"
    },
    "tags": []
   },
   "outputs": [],
   "source": [
    "# importing the libraries for linear regression from scikit learn\n",
    "from sklearn.linear_model import LinearRegression"
   ]
  },
  {
   "cell_type": "code",
   "execution_count": 18,
   "id": "7cba3c27",
   "metadata": {
    "execution": {
     "iopub.execute_input": "2021-10-06T07:26:37.770656Z",
     "iopub.status.busy": "2021-10-06T07:26:37.769760Z",
     "iopub.status.idle": "2021-10-06T07:26:37.775684Z",
     "shell.execute_reply": "2021-10-06T07:26:37.776145Z",
     "shell.execute_reply.started": "2021-10-06T05:05:38.273359Z"
    },
    "papermill": {
     "duration": 0.057641,
     "end_time": "2021-10-06T07:26:37.776306",
     "exception": false,
     "start_time": "2021-10-06T07:26:37.718665",
     "status": "completed"
    },
    "tags": []
   },
   "outputs": [],
   "source": [
    "# specifying individual objects or variable for sqft_living and price.\n",
    "lm = LinearRegression()\n",
    "X = housing_data[['sqft_living']]\n",
    "y = housing_data[['price']]"
   ]
  },
  {
   "cell_type": "code",
   "execution_count": 19,
   "id": "8581546d",
   "metadata": {
    "execution": {
     "iopub.execute_input": "2021-10-06T07:26:37.877941Z",
     "iopub.status.busy": "2021-10-06T07:26:37.877081Z",
     "iopub.status.idle": "2021-10-06T07:26:37.888758Z",
     "shell.execute_reply": "2021-10-06T07:26:37.889230Z",
     "shell.execute_reply.started": "2021-10-06T05:05:38.281348Z"
    },
    "papermill": {
     "duration": 0.063949,
     "end_time": "2021-10-06T07:26:37.889393",
     "exception": false,
     "start_time": "2021-10-06T07:26:37.825444",
     "status": "completed"
    },
    "tags": []
   },
   "outputs": [
    {
     "data": {
      "text/plain": [
       "LinearRegression()"
      ]
     },
     "execution_count": 19,
     "metadata": {},
     "output_type": "execute_result"
    }
   ],
   "source": [
    "#fitting the linear regression model.\n",
    "lm.fit(X,y)"
   ]
  },
  {
   "cell_type": "code",
   "execution_count": 20,
   "id": "3c673c4a",
   "metadata": {
    "execution": {
     "iopub.execute_input": "2021-10-06T07:26:37.992548Z",
     "iopub.status.busy": "2021-10-06T07:26:37.991991Z",
     "iopub.status.idle": "2021-10-06T07:26:37.994477Z",
     "shell.execute_reply": "2021-10-06T07:26:37.994897Z",
     "shell.execute_reply.started": "2021-10-06T05:05:38.301828Z"
    },
    "papermill": {
     "duration": 0.056956,
     "end_time": "2021-10-06T07:26:37.995096",
     "exception": false,
     "start_time": "2021-10-06T07:26:37.938140",
     "status": "completed"
    },
    "tags": []
   },
   "outputs": [],
   "source": [
    "# predicting the model.\n",
    "housing_pred = lm.predict(X)"
   ]
  },
  {
   "cell_type": "code",
   "execution_count": 21,
   "id": "c6fa53fa",
   "metadata": {
    "execution": {
     "iopub.execute_input": "2021-10-06T07:26:38.096163Z",
     "iopub.status.busy": "2021-10-06T07:26:38.095605Z",
     "iopub.status.idle": "2021-10-06T07:26:38.100168Z",
     "shell.execute_reply": "2021-10-06T07:26:38.100577Z",
     "shell.execute_reply.started": "2021-10-06T05:05:38.308924Z"
    },
    "papermill": {
     "duration": 0.057237,
     "end_time": "2021-10-06T07:26:38.100732",
     "exception": false,
     "start_time": "2021-10-06T07:26:38.043495",
     "status": "completed"
    },
    "tags": []
   },
   "outputs": [
    {
     "data": {
      "text/plain": [
       "array([[287555.06702451],\n",
       "       [677621.82640197],\n",
       "       [172499.40418656],\n",
       "       [506441.44998452],\n",
       "       [427866.85097324]])"
      ]
     },
     "execution_count": 21,
     "metadata": {},
     "output_type": "execute_result"
    }
   ],
   "source": [
    "# viewing the predicted array.\n",
    "housing_pred[0:5]"
   ]
  },
  {
   "cell_type": "code",
   "execution_count": 22,
   "id": "38660f1e",
   "metadata": {
    "execution": {
     "iopub.execute_input": "2021-10-06T07:26:38.203835Z",
     "iopub.status.busy": "2021-10-06T07:26:38.203265Z",
     "iopub.status.idle": "2021-10-06T07:26:38.205833Z",
     "shell.execute_reply": "2021-10-06T07:26:38.206267Z",
     "shell.execute_reply.started": "2021-10-06T05:05:38.320157Z"
    },
    "papermill": {
     "duration": 0.056366,
     "end_time": "2021-10-06T07:26:38.206427",
     "exception": false,
     "start_time": "2021-10-06T07:26:38.150061",
     "status": "completed"
    },
    "tags": []
   },
   "outputs": [
    {
     "name": "stdout",
     "output_type": "stream",
     "text": [
      "Intercept: [-43580.74309447] coefficient: [[280.6235679]]\n"
     ]
    }
   ],
   "source": [
    "# printing the intercept and coefficient for the simple linear regression.\n",
    "print(\"Intercept:\",lm.intercept_, \"coefficient:\", lm.coef_)"
   ]
  },
  {
   "cell_type": "code",
   "execution_count": 23,
   "id": "8eb06b62",
   "metadata": {
    "execution": {
     "iopub.execute_input": "2021-10-06T07:26:38.308705Z",
     "iopub.status.busy": "2021-10-06T07:26:38.306413Z",
     "iopub.status.idle": "2021-10-06T07:26:38.315788Z",
     "shell.execute_reply": "2021-10-06T07:26:38.316303Z",
     "shell.execute_reply.started": "2021-10-06T05:05:38.330594Z"
    },
    "papermill": {
     "duration": 0.06131,
     "end_time": "2021-10-06T07:26:38.316461",
     "exception": false,
     "start_time": "2021-10-06T07:26:38.255151",
     "status": "completed"
    },
    "tags": []
   },
   "outputs": [
    {
     "name": "stdout",
     "output_type": "stream",
     "text": [
      "Mean square error for the linear regression: 68351286833.039825\n",
      "R square for the linear regression is: 0.4928532179037931\n"
     ]
    }
   ],
   "source": [
    "#measuring mse and R^2\n",
    "from sklearn.metrics import mean_squared_error\n",
    "housing_data_mse = mean_squared_error(housing_data['price'], housing_pred)\n",
    "print(\"Mean square error for the linear regression:\", housing_data_mse)\n",
    "print(\"R square for the linear regression is:\", lm.score(X,y))"
   ]
  },
  {
   "cell_type": "code",
   "execution_count": 24,
   "id": "69c50ffd",
   "metadata": {
    "execution": {
     "iopub.execute_input": "2021-10-06T07:26:38.420889Z",
     "iopub.status.busy": "2021-10-06T07:26:38.420026Z",
     "iopub.status.idle": "2021-10-06T07:26:38.699896Z",
     "shell.execute_reply": "2021-10-06T07:26:38.699426Z",
     "shell.execute_reply.started": "2021-10-06T05:05:38.344614Z"
    },
    "papermill": {
     "duration": 0.334521,
     "end_time": "2021-10-06T07:26:38.700060",
     "exception": false,
     "start_time": "2021-10-06T07:26:38.365539",
     "status": "completed"
    },
    "tags": []
   },
   "outputs": [
    {
     "name": "stderr",
     "output_type": "stream",
     "text": [
      "/opt/conda/lib/python3.7/site-packages/seaborn/_decorators.py:43: FutureWarning: Pass the following variables as keyword args: x, y. From version 0.12, the only valid positional argument will be `data`, and passing other arguments without an explicit keyword will result in an error or misinterpretation.\n",
      "  FutureWarning\n"
     ]
    },
    {
     "data": {
      "image/png": "[encoded data removed]",
      "text/plain": [
       "<Figure size 864x720 with 1 Axes>"
      ]
     },
     "metadata": {
      "needs_background": "light"
     },
     "output_type": "display_data"
    }
   ],
   "source": [
    "#plotting the residual plot to see the distribution to determine whether it is linear or non-linear.\n",
    "width = 12\n",
    "height = 10\n",
    "plt.figure(figsize=(width, height))\n",
    "sn.residplot(housing_data['sqft_living'], housing_data['price'])\n",
    "plt.show()"
   ]
  },
  {
   "cell_type": "code",
   "execution_count": 25,
   "id": "94229396",
   "metadata": {
    "execution": {
     "iopub.execute_input": "2021-10-06T07:26:38.806480Z",
     "iopub.status.busy": "2021-10-06T07:26:38.805899Z",
     "iopub.status.idle": "2021-10-06T07:26:38.810324Z",
     "shell.execute_reply": "2021-10-06T07:26:38.810757Z",
     "shell.execute_reply.started": "2021-10-06T05:05:38.642542Z"
    },
    "papermill": {
     "duration": 0.059424,
     "end_time": "2021-10-06T07:26:38.810945",
     "exception": false,
     "start_time": "2021-10-06T07:26:38.751521",
     "status": "completed"
    },
    "tags": []
   },
   "outputs": [],
   "source": [
    "# Creating a dataframe to include wanted attributes or feature for further analysis.\n",
    "housing_data_mlr = housing_data.filter(['bedrooms', 'bathrooms', 'sqft_living','floors', 'waterfront', 'view', 'grade','sqft_above', 'sqft_basement', 'lat', 'sqft_living15'], axis = 1)"
   ]
  },
  {
   "cell_type": "code",
   "execution_count": 26,
   "id": "5c9c5390",
   "metadata": {
    "execution": {
     "iopub.execute_input": "2021-10-06T07:26:38.919159Z",
     "iopub.status.busy": "2021-10-06T07:26:38.918538Z",
     "iopub.status.idle": "2021-10-06T07:26:38.924343Z",
     "shell.execute_reply": "2021-10-06T07:26:38.924765Z",
     "shell.execute_reply.started": "2021-10-06T05:05:38.649545Z"
    },
    "papermill": {
     "duration": 0.060742,
     "end_time": "2021-10-06T07:26:38.924955",
     "exception": false,
     "start_time": "2021-10-06T07:26:38.864213",
     "status": "completed"
    },
    "tags": []
   },
   "outputs": [
    {
     "data": {
      "text/plain": [
       "bedrooms           int64\n",
       "bathrooms        float64\n",
       "sqft_living        int64\n",
       "floors           float64\n",
       "waterfront         int64\n",
       "view               int64\n",
       "grade              int64\n",
       "sqft_above         int64\n",
       "sqft_basement      int64\n",
       "lat              float64\n",
       "sqft_living15      int64\n",
       "dtype: object"
      ]
     },
     "execution_count": 26,
     "metadata": {},
     "output_type": "execute_result"
    }
   ],
   "source": [
    "#checking all data types are as desired.\n",
    "housing_data_mlr.dtypes"
   ]
  },
  {
   "cell_type": "code",
   "execution_count": 27,
   "id": "1ac37e82",
   "metadata": {
    "execution": {
     "iopub.execute_input": "2021-10-06T07:26:39.031699Z",
     "iopub.status.busy": "2021-10-06T07:26:39.031166Z",
     "iopub.status.idle": "2021-10-06T07:26:39.034983Z",
     "shell.execute_reply": "2021-10-06T07:26:39.035418Z",
     "shell.execute_reply.started": "2021-10-06T05:05:38.662984Z"
    },
    "papermill": {
     "duration": 0.05855,
     "end_time": "2021-10-06T07:26:39.035580",
     "exception": false,
     "start_time": "2021-10-06T07:26:38.977030",
     "status": "completed"
    },
    "tags": []
   },
   "outputs": [],
   "source": [
    "# creating one more list to hold price attribute.\n",
    "housing_data_target = housing_data.filter(['price'], axis = 1)"
   ]
  },
  {
   "cell_type": "code",
   "execution_count": 28,
   "id": "d66902e0",
   "metadata": {
    "execution": {
     "iopub.execute_input": "2021-10-06T07:26:39.143946Z",
     "iopub.status.busy": "2021-10-06T07:26:39.143320Z",
     "iopub.status.idle": "2021-10-06T07:26:39.147621Z",
     "shell.execute_reply": "2021-10-06T07:26:39.148100Z",
     "shell.execute_reply.started": "2021-10-06T05:05:38.67816Z"
    },
    "papermill": {
     "duration": 0.060777,
     "end_time": "2021-10-06T07:26:39.148270",
     "exception": false,
     "start_time": "2021-10-06T07:26:39.087493",
     "status": "completed"
    },
    "tags": []
   },
   "outputs": [
    {
     "data": {
      "text/plain": [
       "price    float64\n",
       "dtype: object"
      ]
     },
     "execution_count": 28,
     "metadata": {},
     "output_type": "execute_result"
    }
   ],
   "source": [
    "housing_data_target.dtypes"
   ]
  },
  {
   "cell_type": "code",
   "execution_count": 29,
   "id": "5ab1369b",
   "metadata": {
    "execution": {
     "iopub.execute_input": "2021-10-06T07:26:39.256314Z",
     "iopub.status.busy": "2021-10-06T07:26:39.255670Z",
     "iopub.status.idle": "2021-10-06T07:26:39.259228Z",
     "shell.execute_reply": "2021-10-06T07:26:39.259618Z",
     "shell.execute_reply.started": "2021-10-06T05:05:38.689051Z"
    },
    "papermill": {
     "duration": 0.059119,
     "end_time": "2021-10-06T07:26:39.259779",
     "exception": false,
     "start_time": "2021-10-06T07:26:39.200660",
     "status": "completed"
    },
    "tags": []
   },
   "outputs": [],
   "source": [
    "# importing the test train split function from scikit learn.\n",
    "from sklearn.model_selection import train_test_split"
   ]
  },
  {
   "cell_type": "code",
   "execution_count": 30,
   "id": "f5c0ea25",
   "metadata": {
    "execution": {
     "iopub.execute_input": "2021-10-06T07:26:39.368314Z",
     "iopub.status.busy": "2021-10-06T07:26:39.367376Z",
     "iopub.status.idle": "2021-10-06T07:26:39.377023Z",
     "shell.execute_reply": "2021-10-06T07:26:39.377433Z",
     "shell.execute_reply.started": "2021-10-06T05:05:38.696691Z"
    },
    "papermill": {
     "duration": 0.065631,
     "end_time": "2021-10-06T07:26:39.377603",
     "exception": false,
     "start_time": "2021-10-06T07:26:39.311972",
     "status": "completed"
    },
    "tags": []
   },
   "outputs": [],
   "source": [
    "# splitting the dataset into 75:25.\n",
    "X_train, X_test ,Y_train ,Y_test =train_test_split(housing_data_mlr, housing_data_target,test_size=0.25,random_state=101)"
   ]
  },
  {
   "cell_type": "code",
   "execution_count": 31,
   "id": "d8463dd2",
   "metadata": {
    "execution": {
     "iopub.execute_input": "2021-10-06T07:26:39.487646Z",
     "iopub.status.busy": "2021-10-06T07:26:39.486836Z",
     "iopub.status.idle": "2021-10-06T07:26:39.490683Z",
     "shell.execute_reply": "2021-10-06T07:26:39.491289Z",
     "shell.execute_reply.started": "2021-10-06T05:05:38.712418Z"
    },
    "papermill": {
     "duration": 0.061852,
     "end_time": "2021-10-06T07:26:39.491523",
     "exception": false,
     "start_time": "2021-10-06T07:26:39.429671",
     "status": "completed"
    },
    "tags": []
   },
   "outputs": [
    {
     "name": "stdout",
     "output_type": "stream",
     "text": [
      "(16209, 11) (5404, 11) (16209, 1) (5404, 1)\n"
     ]
    }
   ],
   "source": [
    "# printing the shape of the splitted dataset.\n",
    "print(X_train.shape, X_test.shape, Y_train.shape, Y_test.shape)"
   ]
  },
  {
   "cell_type": "markdown",
   "id": "7ce52cfb",
   "metadata": {
    "papermill": {
     "duration": 0.052189,
     "end_time": "2021-10-06T07:26:39.596989",
     "exception": false,
     "start_time": "2021-10-06T07:26:39.544800",
     "status": "completed"
    },
    "tags": []
   },
   "source": [
    "# # Multiple Linear Regression"
   ]
  },
  {
   "cell_type": "code",
   "execution_count": 32,
   "id": "57ccb263",
   "metadata": {
    "execution": {
     "iopub.execute_input": "2021-10-06T07:26:39.706698Z",
     "iopub.status.busy": "2021-10-06T07:26:39.706129Z",
     "iopub.status.idle": "2021-10-06T07:26:39.716250Z",
     "shell.execute_reply": "2021-10-06T07:26:39.715735Z",
     "shell.execute_reply.started": "2021-10-06T05:05:38.719531Z"
    },
    "papermill": {
     "duration": 0.067469,
     "end_time": "2021-10-06T07:26:39.716407",
     "exception": false,
     "start_time": "2021-10-06T07:26:39.648938",
     "status": "completed"
    },
    "tags": []
   },
   "outputs": [],
   "source": [
    "# fitting the model with multiple linear regression\n",
    "housing_mlr = lm.fit(X_train, Y_train)"
   ]
  },
  {
   "cell_type": "code",
   "execution_count": 33,
   "id": "922d3f9c",
   "metadata": {
    "execution": {
     "iopub.execute_input": "2021-10-06T07:26:39.829996Z",
     "iopub.status.busy": "2021-10-06T07:26:39.829019Z",
     "iopub.status.idle": "2021-10-06T07:26:39.834626Z",
     "shell.execute_reply": "2021-10-06T07:26:39.835348Z",
     "shell.execute_reply.started": "2021-10-06T05:05:38.740327Z"
    },
    "papermill": {
     "duration": 0.065952,
     "end_time": "2021-10-06T07:26:39.835618",
     "exception": false,
     "start_time": "2021-10-06T07:26:39.769666",
     "status": "completed"
    },
    "tags": []
   },
   "outputs": [],
   "source": [
    "housing_mlr_pred = lm.predict(X_test)"
   ]
  },
  {
   "cell_type": "code",
   "execution_count": 34,
   "id": "beb2ce11",
   "metadata": {
    "execution": {
     "iopub.execute_input": "2021-10-06T07:26:40.004553Z",
     "iopub.status.busy": "2021-10-06T07:26:40.003811Z",
     "iopub.status.idle": "2021-10-06T07:26:40.006779Z",
     "shell.execute_reply": "2021-10-06T07:26:40.007221Z",
     "shell.execute_reply.started": "2021-10-06T05:05:38.759685Z"
    },
    "papermill": {
     "duration": 0.065857,
     "end_time": "2021-10-06T07:26:40.007381",
     "exception": false,
     "start_time": "2021-10-06T07:26:39.941524",
     "status": "completed"
    },
    "tags": []
   },
   "outputs": [
    {
     "data": {
      "text/plain": [
       "array([[428642.25811884],\n",
       "       [652951.39777316],\n",
       "       [613366.82043268],\n",
       "       ...,\n",
       "       [778336.22211777],\n",
       "       [240503.72979035],\n",
       "       [733912.25508883]])"
      ]
     },
     "execution_count": 34,
     "metadata": {},
     "output_type": "execute_result"
    }
   ],
   "source": [
    "housing_mlr_pred[:,]"
   ]
  },
  {
   "cell_type": "code",
   "execution_count": 35,
   "id": "cc1c3bbf",
   "metadata": {
    "execution": {
     "iopub.execute_input": "2021-10-06T07:26:40.116601Z",
     "iopub.status.busy": "2021-10-06T07:26:40.115670Z",
     "iopub.status.idle": "2021-10-06T07:26:40.128814Z",
     "shell.execute_reply": "2021-10-06T07:26:40.129808Z",
     "shell.execute_reply.started": "2021-10-06T05:05:38.779383Z"
    },
    "papermill": {
     "duration": 0.070062,
     "end_time": "2021-10-06T07:26:40.130093",
     "exception": false,
     "start_time": "2021-10-06T07:26:40.060031",
     "status": "completed"
    },
    "tags": []
   },
   "outputs": [
    {
     "name": "stdout",
     "output_type": "stream",
     "text": [
      "Mean square error for the linear regression: 46345995990.94238\n",
      "R square for the linear regression is: 0.6730854212468296\n",
      "Intercept: [-32391858.69013657] coefficient: [[-2.61576271e+04 -8.27995196e+03  1.28215060e+02 -2.53733105e+04\n",
      "   5.75791588e+05  6.56834412e+04  8.20534693e+04  6.45630024e+01\n",
      "   6.36520573e+01  6.73040744e+05  8.63919044e+00]]\n"
     ]
    }
   ],
   "source": [
    "#measuring mse and R^2\n",
    "from sklearn.metrics import mean_squared_error\n",
    "housing_mlr_mse = mean_squared_error(Y_test['price'], housing_mlr_pred)\n",
    "print(\"Mean square error for the linear regression:\", housing_mlr_mse)\n",
    "print(\"R square for the linear regression is:\", lm.score(X_test,Y_test))\n",
    "print(\"Intercept:\",lm.intercept_, \"coefficient:\", lm.coef_)"
   ]
  },
  {
   "cell_type": "code",
   "execution_count": 36,
   "id": "4cc9e161",
   "metadata": {
    "execution": {
     "iopub.execute_input": "2021-10-06T07:26:40.401290Z",
     "iopub.status.busy": "2021-10-06T07:26:40.400644Z",
     "iopub.status.idle": "2021-10-06T07:26:40.674715Z",
     "shell.execute_reply": "2021-10-06T07:26:40.674212Z",
     "shell.execute_reply.started": "2021-10-06T05:05:38.809445Z"
    },
    "papermill": {
     "duration": 0.438966,
     "end_time": "2021-10-06T07:26:40.674863",
     "exception": false,
     "start_time": "2021-10-06T07:26:40.235897",
     "status": "completed"
    },
    "tags": []
   },
   "outputs": [
    {
     "name": "stderr",
     "output_type": "stream",
     "text": [
      "/opt/conda/lib/python3.7/site-packages/seaborn/distributions.py:2619: FutureWarning: `distplot` is a deprecated function and will be removed in a future version. Please adapt your code to use either `displot` (a figure-level function with similar flexibility) or `kdeplot` (an axes-level function for kernel density plots).\n",
      "  warnings.warn(msg, FutureWarning)\n",
      "/opt/conda/lib/python3.7/site-packages/seaborn/distributions.py:2619: FutureWarning: `distplot` is a deprecated function and will be removed in a future version. Please adapt your code to use either `displot` (a figure-level function with similar flexibility) or `kdeplot` (an axes-level function for kernel density plots).\n",
      "  warnings.warn(msg, FutureWarning)\n"
     ]
    },
    {
     "data": {
      "image/png": "[encoded data removed]",
      "text/plain": [
       "<Figure size 864x720 with 1 Axes>"
      ]
     },
     "metadata": {
      "needs_background": "light"
     },
     "output_type": "display_data"
    }
   ],
   "source": [
    "# plotting the model to see how well it is fitting to the actual data.\n",
    "width = 12\n",
    "height = 10\n",
    "\n",
    "plt.figure(figsize=(width, height))\n",
    "a = sn.distplot(Y_test['price'], hist=False, color=\"purple\", label=\"Actual Value\")\n",
    "sn.distplot(housing_mlr_pred, hist=False, color=\"orange\", label=\"Fitted Values\" , ax=a)\n",
    "plt.title('Actual vs Fitted Values for Price')\n",
    "plt.xlabel('Price (in dollars)')\n",
    "plt.ylabel('Proportion of ')\n",
    "plt.legend()\n",
    "plt.show()\n",
    "plt.close()"
   ]
  },
  {
   "cell_type": "markdown",
   "id": "cf79207e",
   "metadata": {
    "papermill": {
     "duration": 0.054787,
     "end_time": "2021-10-06T07:26:40.784615",
     "exception": false,
     "start_time": "2021-10-06T07:26:40.729828",
     "status": "completed"
    },
    "tags": []
   },
   "source": [
    "# # Pipeline for Linear Regression"
   ]
  },
  {
   "cell_type": "code",
   "execution_count": 37,
   "id": "50b7e850",
   "metadata": {
    "execution": {
     "iopub.execute_input": "2021-10-06T07:26:40.900104Z",
     "iopub.status.busy": "2021-10-06T07:26:40.899109Z",
     "iopub.status.idle": "2021-10-06T07:26:40.901131Z",
     "shell.execute_reply": "2021-10-06T07:26:40.901534Z",
     "shell.execute_reply.started": "2021-10-06T05:06:42.777764Z"
    },
    "papermill": {
     "duration": 0.062056,
     "end_time": "2021-10-06T07:26:40.901702",
     "exception": false,
     "start_time": "2021-10-06T07:26:40.839646",
     "status": "completed"
    },
    "tags": []
   },
   "outputs": [],
   "source": [
    "# standardizing the variable before using multiple linear regression to fit the data to predict the price of the house using features.\n",
    "from sklearn.preprocessing import StandardScaler\n",
    "scaler = StandardScaler()"
   ]
  },
  {
   "cell_type": "code",
   "execution_count": 38,
   "id": "7c853c04",
   "metadata": {
    "execution": {
     "iopub.execute_input": "2021-10-06T07:26:41.016665Z",
     "iopub.status.busy": "2021-10-06T07:26:41.016061Z",
     "iopub.status.idle": "2021-10-06T07:26:41.021300Z",
     "shell.execute_reply": "2021-10-06T07:26:41.020663Z",
     "shell.execute_reply.started": "2021-10-06T05:07:11.040783Z"
    },
    "papermill": {
     "duration": 0.064748,
     "end_time": "2021-10-06T07:26:41.021475",
     "exception": false,
     "start_time": "2021-10-06T07:26:40.956727",
     "status": "completed"
    },
    "tags": []
   },
   "outputs": [],
   "source": [
    "# pipeline for linear regression.\n",
    "from sklearn.pipeline import Pipeline\n",
    "function =[('scale',StandardScaler()), ('model',LinearRegression())]"
   ]
  },
  {
   "cell_type": "code",
   "execution_count": 39,
   "id": "8c4c409f",
   "metadata": {
    "execution": {
     "iopub.execute_input": "2021-10-06T07:26:41.135734Z",
     "iopub.status.busy": "2021-10-06T07:26:41.135132Z",
     "iopub.status.idle": "2021-10-06T07:26:41.140668Z",
     "shell.execute_reply": "2021-10-06T07:26:41.141094Z",
     "shell.execute_reply.started": "2021-10-06T05:07:18.082654Z"
    },
    "papermill": {
     "duration": 0.06412,
     "end_time": "2021-10-06T07:26:41.141265",
     "exception": false,
     "start_time": "2021-10-06T07:26:41.077145",
     "status": "completed"
    },
    "tags": []
   },
   "outputs": [
    {
     "data": {
      "text/plain": [
       "Pipeline(steps=[('scale', StandardScaler()), ('model', LinearRegression())])"
      ]
     },
     "execution_count": 39,
     "metadata": {},
     "output_type": "execute_result"
    }
   ],
   "source": [
    "# creating funnel object for pipeline function.\n",
    "funnel = Pipeline(function)\n",
    "funnel"
   ]
  },
  {
   "cell_type": "code",
   "execution_count": 40,
   "id": "613c3a8b",
   "metadata": {
    "execution": {
     "iopub.execute_input": "2021-10-06T07:26:41.256188Z",
     "iopub.status.busy": "2021-10-06T07:26:41.253192Z",
     "iopub.status.idle": "2021-10-06T07:26:41.269287Z",
     "shell.execute_reply": "2021-10-06T07:26:41.268739Z",
     "shell.execute_reply.started": "2021-10-06T05:07:20.658743Z"
    },
    "papermill": {
     "duration": 0.073495,
     "end_time": "2021-10-06T07:26:41.269452",
     "exception": false,
     "start_time": "2021-10-06T07:26:41.195957",
     "status": "completed"
    },
    "tags": []
   },
   "outputs": [],
   "source": [
    "# fitting the Linear regression via pipeline that we created.\n",
    "housing_poly_linear_fit = funnel.fit(X_train, Y_train)"
   ]
  },
  {
   "cell_type": "code",
   "execution_count": 41,
   "id": "592e5d9f",
   "metadata": {
    "execution": {
     "iopub.execute_input": "2021-10-06T07:26:41.392256Z",
     "iopub.status.busy": "2021-10-06T07:26:41.391060Z",
     "iopub.status.idle": "2021-10-06T07:26:41.393994Z",
     "shell.execute_reply": "2021-10-06T07:26:41.393170Z",
     "shell.execute_reply.started": "2021-10-06T05:07:24.814569Z"
    },
    "papermill": {
     "duration": 0.068047,
     "end_time": "2021-10-06T07:26:41.394213",
     "exception": false,
     "start_time": "2021-10-06T07:26:41.326166",
     "status": "completed"
    },
    "tags": []
   },
   "outputs": [],
   "source": [
    "# prediction through the pipeline.\n",
    "housing_poly_linear_pred = funnel.predict(X_test)"
   ]
  },
  {
   "cell_type": "code",
   "execution_count": 42,
   "id": "258ed11c",
   "metadata": {
    "execution": {
     "iopub.execute_input": "2021-10-06T07:26:41.564153Z",
     "iopub.status.busy": "2021-10-06T07:26:41.563563Z",
     "iopub.status.idle": "2021-10-06T07:26:41.565527Z",
     "shell.execute_reply": "2021-10-06T07:26:41.565978Z",
     "shell.execute_reply.started": "2021-10-06T05:07:27.397532Z"
    },
    "papermill": {
     "duration": 0.063814,
     "end_time": "2021-10-06T07:26:41.566139",
     "exception": false,
     "start_time": "2021-10-06T07:26:41.502325",
     "status": "completed"
    },
    "tags": []
   },
   "outputs": [],
   "source": [
    "#measuring mse and R^2\n",
    "from sklearn.metrics import mean_squared_error\n",
    "from sklearn.metrics import r2_score"
   ]
  },
  {
   "cell_type": "code",
   "execution_count": 43,
   "id": "4a598f38",
   "metadata": {
    "execution": {
     "iopub.execute_input": "2021-10-06T07:26:41.679302Z",
     "iopub.status.busy": "2021-10-06T07:26:41.678689Z",
     "iopub.status.idle": "2021-10-06T07:26:41.684865Z",
     "shell.execute_reply": "2021-10-06T07:26:41.685336Z",
     "shell.execute_reply.started": "2021-10-06T05:07:38.333985Z"
    },
    "papermill": {
     "duration": 0.063726,
     "end_time": "2021-10-06T07:26:41.685513",
     "exception": false,
     "start_time": "2021-10-06T07:26:41.621787",
     "status": "completed"
    },
    "tags": []
   },
   "outputs": [
    {
     "data": {
      "text/plain": [
       "0.6730854212468294"
      ]
     },
     "execution_count": 43,
     "metadata": {},
     "output_type": "execute_result"
    }
   ],
   "source": [
    "# measuring R^2 value for the pipeline linear regression.\n",
    "r_square = r2_score(Y_test, housing_poly_linear_pred)\n",
    "r_square"
   ]
  },
  {
   "cell_type": "markdown",
   "id": "76d8ad57",
   "metadata": {
    "papermill": {
     "duration": 0.055204,
     "end_time": "2021-10-06T07:26:41.795858",
     "exception": false,
     "start_time": "2021-10-06T07:26:41.740654",
     "status": "completed"
    },
    "tags": []
   },
   "source": [
    "# # Ridge Regression"
   ]
  },
  {
   "cell_type": "code",
   "execution_count": 44,
   "id": "3b358780",
   "metadata": {
    "execution": {
     "iopub.execute_input": "2021-10-06T07:26:41.908135Z",
     "iopub.status.busy": "2021-10-06T07:26:41.907378Z",
     "iopub.status.idle": "2021-10-06T07:26:41.910632Z",
     "shell.execute_reply": "2021-10-06T07:26:41.911073Z",
     "shell.execute_reply.started": "2021-10-06T05:07:41.216821Z"
    },
    "papermill": {
     "duration": 0.060851,
     "end_time": "2021-10-06T07:26:41.911233",
     "exception": false,
     "start_time": "2021-10-06T07:26:41.850382",
     "status": "completed"
    },
    "tags": []
   },
   "outputs": [],
   "source": [
    "# Ridge regression with alpha parameter to 0.1\n",
    "from sklearn.linear_model import Ridge\n",
    "ridge=Ridge(alpha=0.1)"
   ]
  },
  {
   "cell_type": "code",
   "execution_count": 45,
   "id": "f8560670",
   "metadata": {
    "execution": {
     "iopub.execute_input": "2021-10-06T07:26:42.025261Z",
     "iopub.status.busy": "2021-10-06T07:26:42.024667Z",
     "iopub.status.idle": "2021-10-06T07:26:42.037873Z",
     "shell.execute_reply": "2021-10-06T07:26:42.037081Z",
     "shell.execute_reply.started": "2021-10-06T05:07:45.861938Z"
    },
    "papermill": {
     "duration": 0.072145,
     "end_time": "2021-10-06T07:26:42.038114",
     "exception": false,
     "start_time": "2021-10-06T07:26:41.965969",
     "status": "completed"
    },
    "tags": []
   },
   "outputs": [],
   "source": [
    "housing_ridge_fit =  ridge.fit(X_train, Y_train)"
   ]
  },
  {
   "cell_type": "code",
   "execution_count": 46,
   "id": "f45b571b",
   "metadata": {
    "execution": {
     "iopub.execute_input": "2021-10-06T07:26:42.207433Z",
     "iopub.status.busy": "2021-10-06T07:26:42.206817Z",
     "iopub.status.idle": "2021-10-06T07:26:42.215752Z",
     "shell.execute_reply": "2021-10-06T07:26:42.216459Z",
     "shell.execute_reply.started": "2021-10-06T05:07:50.755295Z"
    },
    "papermill": {
     "duration": 0.069591,
     "end_time": "2021-10-06T07:26:42.216738",
     "exception": false,
     "start_time": "2021-10-06T07:26:42.147147",
     "status": "completed"
    },
    "tags": []
   },
   "outputs": [],
   "source": [
    "housing_ridge_pred = ridge.predict(X_test)"
   ]
  },
  {
   "cell_type": "code",
   "execution_count": 47,
   "id": "603e3d76",
   "metadata": {
    "execution": {
     "iopub.execute_input": "2021-10-06T07:26:42.387647Z",
     "iopub.status.busy": "2021-10-06T07:26:42.387079Z",
     "iopub.status.idle": "2021-10-06T07:26:42.390489Z",
     "shell.execute_reply": "2021-10-06T07:26:42.391032Z",
     "shell.execute_reply.started": "2021-10-06T05:07:54.054864Z"
    },
    "papermill": {
     "duration": 0.066741,
     "end_time": "2021-10-06T07:26:42.391191",
     "exception": false,
     "start_time": "2021-10-06T07:26:42.324450",
     "status": "completed"
    },
    "tags": []
   },
   "outputs": [
    {
     "data": {
      "text/plain": [
       "0.6730803422668254"
      ]
     },
     "execution_count": 47,
     "metadata": {},
     "output_type": "execute_result"
    }
   ],
   "source": [
    "# measuring R^2 value for the ridge regression.\n",
    "r_square_ridge = r2_score(Y_test, housing_ridge_pred)\n",
    "r_square_ridge"
   ]
  },
  {
   "cell_type": "markdown",
   "id": "93753a68",
   "metadata": {
    "papermill": {
     "duration": 0.055243,
     "end_time": "2021-10-06T07:26:42.501448",
     "exception": false,
     "start_time": "2021-10-06T07:26:42.446205",
     "status": "completed"
    },
    "tags": []
   },
   "source": [
    "# # Polynomial Ridge Regression"
   ]
  },
  {
   "cell_type": "code",
   "execution_count": 48,
   "id": "7079ae35",
   "metadata": {
    "execution": {
     "iopub.execute_input": "2021-10-06T07:26:42.614252Z",
     "iopub.status.busy": "2021-10-06T07:26:42.613688Z",
     "iopub.status.idle": "2021-10-06T07:26:42.616750Z",
     "shell.execute_reply": "2021-10-06T07:26:42.617267Z",
     "shell.execute_reply.started": "2021-10-06T05:07:58.720818Z"
    },
    "papermill": {
     "duration": 0.060806,
     "end_time": "2021-10-06T07:26:42.617427",
     "exception": false,
     "start_time": "2021-10-06T07:26:42.556621",
     "status": "completed"
    },
    "tags": []
   },
   "outputs": [],
   "source": [
    "# Creating a second order polynomial transform and training it using trainin set with alpha parameter set to 0.1.\n",
    "from sklearn.preprocessing import PolynomialFeatures\n",
    "poly = PolynomialFeatures(degree=2)"
   ]
  },
  {
   "cell_type": "code",
   "execution_count": 49,
   "id": "6a3afb7d",
   "metadata": {
    "execution": {
     "iopub.execute_input": "2021-10-06T07:26:42.729812Z",
     "iopub.status.busy": "2021-10-06T07:26:42.729274Z",
     "iopub.status.idle": "2021-10-06T07:26:42.754647Z",
     "shell.execute_reply": "2021-10-06T07:26:42.755123Z",
     "shell.execute_reply.started": "2021-10-06T05:08:02.984054Z"
    },
    "papermill": {
     "duration": 0.083122,
     "end_time": "2021-10-06T07:26:42.755291",
     "exception": false,
     "start_time": "2021-10-06T07:26:42.672169",
     "status": "completed"
    },
    "tags": []
   },
   "outputs": [],
   "source": [
    "x_train_poly=poly.fit_transform(X_train[['bedrooms', 'bathrooms', 'sqft_living','floors', 'waterfront', 'view', 'grade','sqft_above', 'sqft_basement', 'lat', 'sqft_living15']])\n",
    "x_test_poly=poly.fit_transform(X_test[['bedrooms', 'bathrooms', 'sqft_living','floors', 'waterfront', 'view', 'grade','sqft_above', 'sqft_basement', 'lat', 'sqft_living15']])"
   ]
  },
  {
   "cell_type": "code",
   "execution_count": 50,
   "id": "4a49f134",
   "metadata": {
    "execution": {
     "iopub.execute_input": "2021-10-06T07:26:42.870317Z",
     "iopub.status.busy": "2021-10-06T07:26:42.869701Z",
     "iopub.status.idle": "2021-10-06T07:26:42.973393Z",
     "shell.execute_reply": "2021-10-06T07:26:42.974230Z",
     "shell.execute_reply.started": "2021-10-06T05:08:07.262893Z"
    },
    "papermill": {
     "duration": 0.164383,
     "end_time": "2021-10-06T07:26:42.974497",
     "exception": false,
     "start_time": "2021-10-06T07:26:42.810114",
     "status": "completed"
    },
    "tags": []
   },
   "outputs": [],
   "source": [
    "housing_ridge_poly = ridge.fit(x_train_poly, Y_train)"
   ]
  },
  {
   "cell_type": "code",
   "execution_count": 51,
   "id": "f086b99a",
   "metadata": {
    "execution": {
     "iopub.execute_input": "2021-10-06T07:26:43.153068Z",
     "iopub.status.busy": "2021-10-06T07:26:43.151384Z",
     "iopub.status.idle": "2021-10-06T07:26:43.157288Z",
     "shell.execute_reply": "2021-10-06T07:26:43.158196Z",
     "shell.execute_reply.started": "2021-10-06T05:08:13.824779Z"
    },
    "papermill": {
     "duration": 0.066091,
     "end_time": "2021-10-06T07:26:43.158449",
     "exception": false,
     "start_time": "2021-10-06T07:26:43.092358",
     "status": "completed"
    },
    "tags": []
   },
   "outputs": [],
   "source": [
    "housing_rid_pol_pred = ridge.predict(x_test_poly)"
   ]
  },
  {
   "cell_type": "code",
   "execution_count": 52,
   "id": "70573f32",
   "metadata": {
    "execution": {
     "iopub.execute_input": "2021-10-06T07:26:43.330896Z",
     "iopub.status.busy": "2021-10-06T07:26:43.328860Z",
     "iopub.status.idle": "2021-10-06T07:26:43.335700Z",
     "shell.execute_reply": "2021-10-06T07:26:43.335253Z",
     "shell.execute_reply.started": "2021-10-06T05:08:17.391928Z"
    },
    "papermill": {
     "duration": 0.067821,
     "end_time": "2021-10-06T07:26:43.335834",
     "exception": false,
     "start_time": "2021-10-06T07:26:43.268013",
     "status": "completed"
    },
    "tags": []
   },
   "outputs": [
    {
     "data": {
      "text/plain": [
       "36091338041.97423"
      ]
     },
     "execution_count": 52,
     "metadata": {},
     "output_type": "execute_result"
    }
   ],
   "source": [
    "# calculating the mean square error for the polynomial ridge regression.\n",
    "housing_rid_pol_mse = mean_squared_error(Y_test['price'], housing_rid_pol_pred)\n",
    "housing_rid_pol_mse"
   ]
  },
  {
   "cell_type": "code",
   "execution_count": 53,
   "id": "a5748033",
   "metadata": {
    "execution": {
     "iopub.execute_input": "2021-10-06T07:26:43.457235Z",
     "iopub.status.busy": "2021-10-06T07:26:43.456581Z",
     "iopub.status.idle": "2021-10-06T07:26:43.458888Z",
     "shell.execute_reply": "2021-10-06T07:26:43.459322Z",
     "shell.execute_reply.started": "2021-10-06T05:08:20.228476Z"
    },
    "papermill": {
     "duration": 0.06646,
     "end_time": "2021-10-06T07:26:43.459478",
     "exception": false,
     "start_time": "2021-10-06T07:26:43.393018",
     "status": "completed"
    },
    "tags": []
   },
   "outputs": [
    {
     "data": {
      "text/plain": [
       "0.745419548758081"
      ]
     },
     "execution_count": 53,
     "metadata": {},
     "output_type": "execute_result"
    }
   ],
   "source": [
    "# measuring R^2 value for the polynamial transform ridge regression.\n",
    "r_square_ridge_pol = r2_score(Y_test, housing_rid_pol_pred)\n",
    "r_square_ridge_pol"
   ]
  },
  {
   "cell_type": "code",
   "execution_count": 54,
   "id": "9beeb903",
   "metadata": {
    "execution": {
     "iopub.execute_input": "2021-10-06T07:26:43.573985Z",
     "iopub.status.busy": "2021-10-06T07:26:43.573417Z",
     "iopub.status.idle": "2021-10-06T07:27:19.098130Z",
     "shell.execute_reply": "2021-10-06T07:27:19.099079Z",
     "shell.execute_reply.started": "2021-10-06T05:08:23.60558Z"
    },
    "papermill": {
     "duration": 35.58397,
     "end_time": "2021-10-06T07:27:19.099340",
     "exception": false,
     "start_time": "2021-10-06T07:26:43.515370",
     "status": "completed"
    },
    "tags": []
   },
   "outputs": [
    {
     "name": "stderr",
     "output_type": "stream",
     "text": [
      "  1%|          | 11/1000 [00:01<01:44,  9.42it/s, Test Score=0.747, Train Score=0.728]/opt/conda/lib/python3.7/site-packages/sklearn/linear_model/_ridge.py:148: LinAlgWarning: Ill-conditioned matrix (rcond=6.33741e-18): result may not be accurate.\n",
      "  overwrite_a=True).T\n",
      "  1%|          | 11/1000 [00:01<01:44,  9.42it/s, Test Score=0.746, Train Score=0.728]/opt/conda/lib/python3.7/site-packages/sklearn/linear_model/_ridge.py:148: LinAlgWarning: Ill-conditioned matrix (rcond=3.63003e-18): result may not be accurate.\n",
      "  overwrite_a=True).T\n",
      "  1%|▏         | 14/1000 [00:01<01:17, 12.71it/s, Test Score=0.746, Train Score=0.728]/opt/conda/lib/python3.7/site-packages/sklearn/linear_model/_ridge.py:148: LinAlgWarning: Ill-conditioned matrix (rcond=2.8329e-17): result may not be accurate.\n",
      "  overwrite_a=True).T\n",
      "  1%|▏         | 14/1000 [00:01<01:17, 12.71it/s, Test Score=0.746, Train Score=0.728]/opt/conda/lib/python3.7/site-packages/sklearn/linear_model/_ridge.py:148: LinAlgWarning: Ill-conditioned matrix (rcond=8.7898e-18): result may not be accurate.\n",
      "  overwrite_a=True).T\n",
      "  1%|▏         | 14/1000 [00:01<01:17, 12.71it/s, Test Score=0.746, Train Score=0.728]/opt/conda/lib/python3.7/site-packages/sklearn/linear_model/_ridge.py:148: LinAlgWarning: Ill-conditioned matrix (rcond=1.83926e-19): result may not be accurate.\n",
      "  overwrite_a=True).T\n",
      "  2%|▏         | 17/1000 [00:01<00:57, 17.09it/s, Test Score=0.746, Train Score=0.728]/opt/conda/lib/python3.7/site-packages/sklearn/linear_model/_ridge.py:148: LinAlgWarning: Ill-conditioned matrix (rcond=2.86409e-17): result may not be accurate.\n",
      "  overwrite_a=True).T\n",
      "  2%|▏         | 17/1000 [00:01<00:57, 17.09it/s, Test Score=0.746, Train Score=0.728]/opt/conda/lib/python3.7/site-packages/sklearn/linear_model/_ridge.py:148: LinAlgWarning: Ill-conditioned matrix (rcond=2.30229e-17): result may not be accurate.\n",
      "  overwrite_a=True).T\n",
      "  2%|▏         | 17/1000 [00:01<00:57, 17.09it/s, Test Score=0.746, Train Score=0.728]/opt/conda/lib/python3.7/site-packages/sklearn/linear_model/_ridge.py:148: LinAlgWarning: Ill-conditioned matrix (rcond=2.09034e-17): result may not be accurate.\n",
      "  overwrite_a=True).T\n",
      "  2%|▏         | 20/1000 [00:01<00:47, 20.47it/s, Test Score=0.746, Train Score=0.728]/opt/conda/lib/python3.7/site-packages/sklearn/linear_model/_ridge.py:148: LinAlgWarning: Ill-conditioned matrix (rcond=3.13231e-17): result may not be accurate.\n",
      "  overwrite_a=True).T\n",
      "  2%|▏         | 20/1000 [00:01<00:47, 20.47it/s, Test Score=0.746, Train Score=0.728]/opt/conda/lib/python3.7/site-packages/sklearn/linear_model/_ridge.py:148: LinAlgWarning: Ill-conditioned matrix (rcond=5.12431e-17): result may not be accurate.\n",
      "  overwrite_a=True).T\n",
      "  2%|▏         | 23/1000 [00:01<00:50, 19.17it/s, Test Score=0.746, Train Score=0.728]/opt/conda/lib/python3.7/site-packages/sklearn/linear_model/_ridge.py:148: LinAlgWarning: Ill-conditioned matrix (rcond=4.6274e-17): result may not be accurate.\n",
      "  overwrite_a=True).T\n",
      "  2%|▏         | 23/1000 [00:01<00:50, 19.17it/s, Test Score=0.746, Train Score=0.728]/opt/conda/lib/python3.7/site-packages/sklearn/linear_model/_ridge.py:148: LinAlgWarning: Ill-conditioned matrix (rcond=2.30503e-17): result may not be accurate.\n",
      "  overwrite_a=True).T\n",
      "  2%|▏         | 23/1000 [00:01<00:50, 19.17it/s, Test Score=0.746, Train Score=0.728]/opt/conda/lib/python3.7/site-packages/sklearn/linear_model/_ridge.py:148: LinAlgWarning: Ill-conditioned matrix (rcond=2.59859e-17): result may not be accurate.\n",
      "  overwrite_a=True).T\n",
      "  3%|▎         | 26/1000 [00:01<00:45, 21.61it/s, Test Score=0.746, Train Score=0.728]/opt/conda/lib/python3.7/site-packages/sklearn/linear_model/_ridge.py:148: LinAlgWarning: Ill-conditioned matrix (rcond=2.94283e-17): result may not be accurate.\n",
      "  overwrite_a=True).T\n",
      "  3%|▎         | 26/1000 [00:01<00:45, 21.61it/s, Test Score=0.746, Train Score=0.728]/opt/conda/lib/python3.7/site-packages/sklearn/linear_model/_ridge.py:148: LinAlgWarning: Ill-conditioned matrix (rcond=2.26883e-17): result may not be accurate.\n",
      "  overwrite_a=True).T\n",
      "  3%|▎         | 26/1000 [00:01<00:45, 21.61it/s, Test Score=0.746, Train Score=0.728]/opt/conda/lib/python3.7/site-packages/sklearn/linear_model/_ridge.py:148: LinAlgWarning: Ill-conditioned matrix (rcond=3.10292e-17): result may not be accurate.\n",
      "  overwrite_a=True).T\n",
      "  3%|▎         | 29/1000 [00:01<00:41, 23.57it/s, Test Score=0.746, Train Score=0.728]/opt/conda/lib/python3.7/site-packages/sklearn/linear_model/_ridge.py:148: LinAlgWarning: Ill-conditioned matrix (rcond=6.65541e-17): result may not be accurate.\n",
      "  overwrite_a=True).T\n",
      "  3%|▎         | 29/1000 [00:01<00:41, 23.57it/s, Test Score=0.746, Train Score=0.728]/opt/conda/lib/python3.7/site-packages/sklearn/linear_model/_ridge.py:148: LinAlgWarning: Ill-conditioned matrix (rcond=9.36218e-17): result may not be accurate.\n",
      "  overwrite_a=True).T\n",
      "  3%|▎         | 29/1000 [00:02<00:41, 23.57it/s, Test Score=0.746, Train Score=0.728]/opt/conda/lib/python3.7/site-packages/sklearn/linear_model/_ridge.py:148: LinAlgWarning: Ill-conditioned matrix (rcond=8.35119e-17): result may not be accurate.\n",
      "  overwrite_a=True).T\n",
      "  3%|▎         | 32/1000 [00:02<00:38, 24.87it/s, Test Score=0.746, Train Score=0.728]/opt/conda/lib/python3.7/site-packages/sklearn/linear_model/_ridge.py:148: LinAlgWarning: Ill-conditioned matrix (rcond=7.34751e-17): result may not be accurate.\n",
      "  overwrite_a=True).T\n",
      "  3%|▎         | 32/1000 [00:02<00:38, 24.87it/s, Test Score=0.746, Train Score=0.728]/opt/conda/lib/python3.7/site-packages/sklearn/linear_model/_ridge.py:148: LinAlgWarning: Ill-conditioned matrix (rcond=3.78458e-17): result may not be accurate.\n",
      "  overwrite_a=True).T\n",
      "  3%|▎         | 32/1000 [00:02<00:38, 24.87it/s, Test Score=0.746, Train Score=0.728]/opt/conda/lib/python3.7/site-packages/sklearn/linear_model/_ridge.py:148: LinAlgWarning: Ill-conditioned matrix (rcond=5.9325e-17): result may not be accurate.\n",
      "  overwrite_a=True).T\n",
      "  4%|▎         | 35/1000 [00:02<00:36, 26.22it/s, Test Score=0.746, Train Score=0.728]/opt/conda/lib/python3.7/site-packages/sklearn/linear_model/_ridge.py:148: LinAlgWarning: Ill-conditioned matrix (rcond=5.85458e-17): result may not be accurate.\n",
      "  overwrite_a=True).T\n",
      "  4%|▎         | 35/1000 [00:02<00:36, 26.22it/s, Test Score=0.746, Train Score=0.728]/opt/conda/lib/python3.7/site-packages/sklearn/linear_model/_ridge.py:148: LinAlgWarning: Ill-conditioned matrix (rcond=1.07775e-16): result may not be accurate.\n",
      "  overwrite_a=True).T\n",
      "  4%|▎         | 35/1000 [00:02<00:36, 26.22it/s, Test Score=0.746, Train Score=0.728]/opt/conda/lib/python3.7/site-packages/sklearn/linear_model/_ridge.py:148: LinAlgWarning: Ill-conditioned matrix (rcond=8.41813e-17): result may not be accurate.\n",
      "  overwrite_a=True).T\n",
      "  4%|▍         | 38/1000 [00:02<00:35, 27.10it/s, Test Score=0.746, Train Score=0.728]/opt/conda/lib/python3.7/site-packages/sklearn/linear_model/_ridge.py:148: LinAlgWarning: Ill-conditioned matrix (rcond=7.01238e-17): result may not be accurate.\n",
      "  overwrite_a=True).T\n",
      "  4%|▍         | 38/1000 [00:02<00:35, 27.10it/s, Test Score=0.746, Train Score=0.728]/opt/conda/lib/python3.7/site-packages/sklearn/linear_model/_ridge.py:148: LinAlgWarning: Ill-conditioned matrix (rcond=9.10083e-17): result may not be accurate.\n",
      "  overwrite_a=True).T\n",
      "  4%|▍         | 42/1000 [00:02<00:33, 28.43it/s, Test Score=0.746, Train Score=0.728]/opt/conda/lib/python3.7/site-packages/sklearn/linear_model/_ridge.py:148: LinAlgWarning: Ill-conditioned matrix (rcond=1.02143e-16): result may not be accurate.\n",
      "  overwrite_a=True).T\n",
      "  4%|▍         | 42/1000 [00:02<00:33, 28.43it/s, Test Score=0.746, Train Score=0.728]/opt/conda/lib/python3.7/site-packages/sklearn/linear_model/_ridge.py:148: LinAlgWarning: Ill-conditioned matrix (rcond=1.02274e-16): result may not be accurate.\n",
      "  overwrite_a=True).T\n",
      "  5%|▍         | 46/1000 [00:02<00:33, 28.90it/s, Test Score=0.747, Train Score=0.728]/opt/conda/lib/python3.7/site-packages/sklearn/linear_model/_ridge.py:148: LinAlgWarning: Ill-conditioned matrix (rcond=1.03862e-16): result may not be accurate.\n",
      "  overwrite_a=True).T\n",
      "  5%|▌         | 53/1000 [00:02<00:31, 29.88it/s, Test Score=0.747, Train Score=0.728]/opt/conda/lib/python3.7/site-packages/sklearn/linear_model/_ridge.py:148: LinAlgWarning: Ill-conditioned matrix (rcond=9.95062e-17): result may not be accurate.\n",
      "  overwrite_a=True).T\n",
      "100%|██████████| 1000/1000 [00:35<00:00, 28.16it/s, Test Score=0.757, Train Score=0.726]\n"
     ]
    }
   ],
   "source": [
    "# installing libraries for the plot and training and testing the modle with different alpha parameters to fit the model.\n",
    "from tqdm import tqdm\n",
    "\n",
    "Rsqu_test = []\n",
    "Rsqu_train = []\n",
    "dummy1 = []\n",
    "Alpha = 10 * np.array(range(0,1000))\n",
    "pbar = tqdm(Alpha)\n",
    "\n",
    "for alpha in pbar:\n",
    "    RigeModel = Ridge(alpha=alpha) \n",
    "    RigeModel.fit(x_train_poly, Y_train)\n",
    "    test_score, train_score = RigeModel.score(x_test_poly, Y_test), RigeModel.score(x_train_poly, Y_train)\n",
    "    \n",
    "    pbar.set_postfix({\"Test Score\": test_score, \"Train Score\": train_score})\n",
    "\n",
    "    Rsqu_test.append(test_score)\n",
    "    Rsqu_train.append(train_score)"
   ]
  },
  {
   "cell_type": "code",
   "execution_count": 55,
   "id": "f21a1f6a",
   "metadata": {
    "execution": {
     "iopub.execute_input": "2021-10-06T07:27:19.884434Z",
     "iopub.status.busy": "2021-10-06T07:27:19.883515Z",
     "iopub.status.idle": "2021-10-06T07:27:20.148572Z",
     "shell.execute_reply": "2021-10-06T07:27:20.149119Z",
     "shell.execute_reply.started": "2021-10-06T05:09:52.830429Z"
    },
    "papermill": {
     "duration": 0.62149,
     "end_time": "2021-10-06T07:27:20.149291",
     "exception": false,
     "start_time": "2021-10-06T07:27:19.527801",
     "status": "completed"
    },
    "tags": []
   },
   "outputs": [
    {
     "data": {
      "text/plain": [
       "<matplotlib.legend.Legend at 0x7f519834dfd0>"
      ]
     },
     "execution_count": 55,
     "metadata": {},
     "output_type": "execute_result"
    },
    {
     "data": {
      "image/png": "[encoded data removed]",
      "text/plain": [
       "<Figure size 864x720 with 1 Axes>"
      ]
     },
     "metadata": {
      "needs_background": "light"
     },
     "output_type": "display_data"
    }
   ],
   "source": [
    "# plottig the training iteration of polynomia ridge regression.\n",
    "width = 12\n",
    "height = 10\n",
    "plt.figure(figsize=(width, height))\n",
    "\n",
    "plt.plot(Alpha,Rsqu_test, label='validation data  ')\n",
    "plt.plot(Alpha,Rsqu_train, 'r', label='training Data ')\n",
    "plt.xlabel('alpha')\n",
    "plt.ylabel('R^2')\n",
    "plt.legend()"
   ]
  },
  {
   "cell_type": "code",
   "execution_count": 56,
   "id": "7b694fd8",
   "metadata": {
    "execution": {
     "iopub.execute_input": "2021-10-06T07:27:20.853862Z",
     "iopub.status.busy": "2021-10-06T07:27:20.852973Z",
     "iopub.status.idle": "2021-10-06T07:27:20.859414Z",
     "shell.execute_reply": "2021-10-06T07:27:20.858980Z",
     "shell.execute_reply.started": "2021-10-06T05:23:08.39898Z"
    },
    "papermill": {
     "duration": 0.358573,
     "end_time": "2021-10-06T07:27:20.859548",
     "exception": false,
     "start_time": "2021-10-06T07:27:20.500975",
     "status": "completed"
    },
    "tags": []
   },
   "outputs": [],
   "source": [
    "# creating data frame for projection on to map with lat and long\n",
    "housing_data_geo = housing_data.filter(['price','bedrooms', 'bathrooms', 'sqft_living','floors', 'waterfront', 'view', 'grade','sqft_above', 'sqft_basement', 'long','lat', 'sqft_living15'], axis = 1)"
   ]
  },
  {
   "cell_type": "code",
   "execution_count": 57,
   "id": "c0c6b5b8",
   "metadata": {
    "execution": {
     "iopub.execute_input": "2021-10-06T07:27:21.562122Z",
     "iopub.status.busy": "2021-10-06T07:27:21.561183Z",
     "iopub.status.idle": "2021-10-06T07:27:21.604952Z",
     "shell.execute_reply": "2021-10-06T07:27:21.605457Z",
     "shell.execute_reply.started": "2021-10-06T05:23:20.350613Z"
    },
    "papermill": {
     "duration": 0.398397,
     "end_time": "2021-10-06T07:27:21.605618",
     "exception": false,
     "start_time": "2021-10-06T07:27:21.207221",
     "status": "completed"
    },
    "tags": []
   },
   "outputs": [
    {
     "data": {
      "text/html": [
       "<div>\n",
       "<style scoped>\n",
       "    .dataframe tbody tr th:only-of-type {\n",
       "        vertical-align: middle;\n",
       "    }\n",
       "\n",
       "    .dataframe tbody tr th {\n",
       "        vertical-align: top;\n",
       "    }\n",
       "\n",
       "    .dataframe thead th {\n",
       "        text-align: right;\n",
       "    }\n",
       "</style>\n",
       "<table border=\"1\" class=\"dataframe\">\n",
       "  <thead>\n",
       "    <tr style=\"text-align: right;\">\n",
       "      <th></th>\n",
       "      <th>price</th>\n",
       "      <th>bedrooms</th>\n",
       "      <th>bathrooms</th>\n",
       "      <th>sqft_living</th>\n",
       "      <th>floors</th>\n",
       "      <th>waterfront</th>\n",
       "      <th>view</th>\n",
       "      <th>grade</th>\n",
       "      <th>sqft_above</th>\n",
       "      <th>sqft_basement</th>\n",
       "      <th>long</th>\n",
       "      <th>lat</th>\n",
       "      <th>sqft_living15</th>\n",
       "    </tr>\n",
       "  </thead>\n",
       "  <tbody>\n",
       "    <tr>\n",
       "      <th>count</th>\n",
       "      <td>2.161300e+04</td>\n",
       "      <td>21613.000000</td>\n",
       "      <td>21613.000000</td>\n",
       "      <td>21613.000000</td>\n",
       "      <td>21613.000000</td>\n",
       "      <td>21613.000000</td>\n",
       "      <td>21613.000000</td>\n",
       "      <td>21613.000000</td>\n",
       "      <td>21613.000000</td>\n",
       "      <td>21613.000000</td>\n",
       "      <td>21613.000000</td>\n",
       "      <td>21613.000000</td>\n",
       "      <td>21613.000000</td>\n",
       "    </tr>\n",
       "    <tr>\n",
       "      <th>mean</th>\n",
       "      <td>5.400881e+05</td>\n",
       "      <td>3.370842</td>\n",
       "      <td>2.114757</td>\n",
       "      <td>2079.899736</td>\n",
       "      <td>1.494309</td>\n",
       "      <td>0.007542</td>\n",
       "      <td>0.234303</td>\n",
       "      <td>7.656873</td>\n",
       "      <td>1788.390691</td>\n",
       "      <td>291.509045</td>\n",
       "      <td>-122.213896</td>\n",
       "      <td>47.560053</td>\n",
       "      <td>1986.552492</td>\n",
       "    </tr>\n",
       "    <tr>\n",
       "      <th>std</th>\n",
       "      <td>3.671272e+05</td>\n",
       "      <td>0.930062</td>\n",
       "      <td>0.770163</td>\n",
       "      <td>918.440897</td>\n",
       "      <td>0.539989</td>\n",
       "      <td>0.086517</td>\n",
       "      <td>0.766318</td>\n",
       "      <td>1.175459</td>\n",
       "      <td>828.090978</td>\n",
       "      <td>442.575043</td>\n",
       "      <td>0.140828</td>\n",
       "      <td>0.138564</td>\n",
       "      <td>685.391304</td>\n",
       "    </tr>\n",
       "    <tr>\n",
       "      <th>min</th>\n",
       "      <td>7.500000e+04</td>\n",
       "      <td>0.000000</td>\n",
       "      <td>0.000000</td>\n",
       "      <td>290.000000</td>\n",
       "      <td>1.000000</td>\n",
       "      <td>0.000000</td>\n",
       "      <td>0.000000</td>\n",
       "      <td>1.000000</td>\n",
       "      <td>290.000000</td>\n",
       "      <td>0.000000</td>\n",
       "      <td>-122.519000</td>\n",
       "      <td>47.155900</td>\n",
       "      <td>399.000000</td>\n",
       "    </tr>\n",
       "    <tr>\n",
       "      <th>25%</th>\n",
       "      <td>3.219500e+05</td>\n",
       "      <td>3.000000</td>\n",
       "      <td>1.750000</td>\n",
       "      <td>1427.000000</td>\n",
       "      <td>1.000000</td>\n",
       "      <td>0.000000</td>\n",
       "      <td>0.000000</td>\n",
       "      <td>7.000000</td>\n",
       "      <td>1190.000000</td>\n",
       "      <td>0.000000</td>\n",
       "      <td>-122.328000</td>\n",
       "      <td>47.471000</td>\n",
       "      <td>1490.000000</td>\n",
       "    </tr>\n",
       "    <tr>\n",
       "      <th>50%</th>\n",
       "      <td>4.500000e+05</td>\n",
       "      <td>3.000000</td>\n",
       "      <td>2.250000</td>\n",
       "      <td>1910.000000</td>\n",
       "      <td>1.500000</td>\n",
       "      <td>0.000000</td>\n",
       "      <td>0.000000</td>\n",
       "      <td>7.000000</td>\n",
       "      <td>1560.000000</td>\n",
       "      <td>0.000000</td>\n",
       "      <td>-122.230000</td>\n",
       "      <td>47.571800</td>\n",
       "      <td>1840.000000</td>\n",
       "    </tr>\n",
       "    <tr>\n",
       "      <th>75%</th>\n",
       "      <td>6.450000e+05</td>\n",
       "      <td>4.000000</td>\n",
       "      <td>2.500000</td>\n",
       "      <td>2550.000000</td>\n",
       "      <td>2.000000</td>\n",
       "      <td>0.000000</td>\n",
       "      <td>0.000000</td>\n",
       "      <td>8.000000</td>\n",
       "      <td>2210.000000</td>\n",
       "      <td>560.000000</td>\n",
       "      <td>-122.125000</td>\n",
       "      <td>47.678000</td>\n",
       "      <td>2360.000000</td>\n",
       "    </tr>\n",
       "    <tr>\n",
       "      <th>max</th>\n",
       "      <td>7.700000e+06</td>\n",
       "      <td>33.000000</td>\n",
       "      <td>8.000000</td>\n",
       "      <td>13540.000000</td>\n",
       "      <td>3.500000</td>\n",
       "      <td>1.000000</td>\n",
       "      <td>4.000000</td>\n",
       "      <td>13.000000</td>\n",
       "      <td>9410.000000</td>\n",
       "      <td>4820.000000</td>\n",
       "      <td>-121.315000</td>\n",
       "      <td>47.777600</td>\n",
       "      <td>6210.000000</td>\n",
       "    </tr>\n",
       "  </tbody>\n",
       "</table>\n",
       "</div>"
      ],
      "text/plain": [
       "              price      bedrooms     bathrooms   sqft_living        floors  \\\n",
       "count  2.161300e+04  21613.000000  21613.000000  21613.000000  21613.000000   \n",
       "mean   5.400881e+05      3.370842      2.114757   2079.899736      1.494309   \n",
       "std    3.671272e+05      0.930062      0.770163    918.440897      0.539989   \n",
       "min    7.500000e+04      0.000000      0.000000    290.000000      1.000000   \n",
       "25%    3.219500e+05      3.000000      1.750000   1427.000000      1.000000   \n",
       "50%    4.500000e+05      3.000000      2.250000   1910.000000      1.500000   \n",
       "75%    6.450000e+05      4.000000      2.500000   2550.000000      2.000000   \n",
       "max    7.700000e+06     33.000000      8.000000  13540.000000      3.500000   \n",
       "\n",
       "         waterfront          view         grade    sqft_above  sqft_basement  \\\n",
       "count  21613.000000  21613.000000  21613.000000  21613.000000   21613.000000   \n",
       "mean       0.007542      0.234303      7.656873   1788.390691     291.509045   \n",
       "std        0.086517      0.766318      1.175459    828.090978     442.575043   \n",
       "min        0.000000      0.000000      1.000000    290.000000       0.000000   \n",
       "25%        0.000000      0.000000      7.000000   1190.000000       0.000000   \n",
       "50%        0.000000      0.000000      7.000000   1560.000000       0.000000   \n",
       "75%        0.000000      0.000000      8.000000   2210.000000     560.000000   \n",
       "max        1.000000      4.000000     13.000000   9410.000000    4820.000000   \n",
       "\n",
       "               long           lat  sqft_living15  \n",
       "count  21613.000000  21613.000000   21613.000000  \n",
       "mean    -122.213896     47.560053    1986.552492  \n",
       "std        0.140828      0.138564     685.391304  \n",
       "min     -122.519000     47.155900     399.000000  \n",
       "25%     -122.328000     47.471000    1490.000000  \n",
       "50%     -122.230000     47.571800    1840.000000  \n",
       "75%     -122.125000     47.678000    2360.000000  \n",
       "max     -121.315000     47.777600    6210.000000  "
      ]
     },
     "execution_count": 57,
     "metadata": {},
     "output_type": "execute_result"
    }
   ],
   "source": [
    "housing_data_geo.describe()"
   ]
  },
  {
   "cell_type": "markdown",
   "id": "17121c4f",
   "metadata": {
    "papermill": {
     "duration": 0.358485,
     "end_time": "2021-10-06T07:27:22.311029",
     "exception": false,
     "start_time": "2021-10-06T07:27:21.952544",
     "status": "completed"
    },
    "tags": []
   },
   "source": [
    "# Conditional formating to see with price category is dominant in King County USA"
   ]
  },
  {
   "cell_type": "code",
   "execution_count": 58,
   "id": "b26b426b",
   "metadata": {
    "execution": {
     "iopub.execute_input": "2021-10-06T07:27:23.013300Z",
     "iopub.status.busy": "2021-10-06T07:27:23.012449Z",
     "iopub.status.idle": "2021-10-06T07:27:23.016035Z",
     "shell.execute_reply": "2021-10-06T07:27:23.015473Z",
     "shell.execute_reply.started": "2021-10-06T05:23:33.090644Z"
    },
    "papermill": {
     "duration": 0.35759,
     "end_time": "2021-10-06T07:27:23.016169",
     "exception": false,
     "start_time": "2021-10-06T07:27:22.658579",
     "status": "completed"
    },
    "tags": []
   },
   "outputs": [],
   "source": [
    "# specifing conditions to form a new column named price_range.\n",
    "conditions = [\n",
    "    (housing_data_geo['price'] <= 200000),\n",
    "    (housing_data_geo['price'] > 200000) & (housing_data_geo['price'] <= 450000),\n",
    "    (housing_data_geo['price'] > 450000) & (housing_data_geo['price'] <= 1000000),\n",
    "    (housing_data_geo['price'] > 1000000)\n",
    "    ]\n",
    "    "
   ]
  },
  {
   "cell_type": "code",
   "execution_count": 59,
   "id": "8cb6206d",
   "metadata": {
    "execution": {
     "iopub.execute_input": "2021-10-06T07:27:23.730862Z",
     "iopub.status.busy": "2021-10-06T07:27:23.730269Z",
     "iopub.status.idle": "2021-10-06T07:27:23.731822Z",
     "shell.execute_reply": "2021-10-06T07:27:23.732234Z",
     "shell.execute_reply.started": "2021-10-06T05:23:37.463754Z"
    },
    "papermill": {
     "duration": 0.369238,
     "end_time": "2021-10-06T07:27:23.732403",
     "exception": false,
     "start_time": "2021-10-06T07:27:23.363165",
     "status": "completed"
    },
    "tags": []
   },
   "outputs": [],
   "source": [
    "# create a list of the values we want to assign for each condition\n",
    "values = ['low', 'medium', 'high', 'very_high']"
   ]
  },
  {
   "cell_type": "code",
   "execution_count": 60,
   "id": "33f6fa5a",
   "metadata": {
    "execution": {
     "iopub.execute_input": "2021-10-06T07:27:24.450062Z",
     "iopub.status.busy": "2021-10-06T07:27:24.449409Z",
     "iopub.status.idle": "2021-10-06T07:27:24.455621Z",
     "shell.execute_reply": "2021-10-06T07:27:24.456069Z",
     "shell.execute_reply.started": "2021-10-06T05:23:40.646902Z"
    },
    "papermill": {
     "duration": 0.366277,
     "end_time": "2021-10-06T07:27:24.456231",
     "exception": false,
     "start_time": "2021-10-06T07:27:24.089954",
     "status": "completed"
    },
    "tags": []
   },
   "outputs": [],
   "source": [
    "# creating joing the condition and value to form new column.\n",
    "housing_data_geo['price_range'] = np.select(conditions, values)"
   ]
  },
  {
   "cell_type": "code",
   "execution_count": 61,
   "id": "e0e7ea98",
   "metadata": {
    "execution": {
     "iopub.execute_input": "2021-10-06T07:27:25.164465Z",
     "iopub.status.busy": "2021-10-06T07:27:25.163766Z",
     "iopub.status.idle": "2021-10-06T07:27:25.178164Z",
     "shell.execute_reply": "2021-10-06T07:27:25.178651Z",
     "shell.execute_reply.started": "2021-10-06T05:23:44.975945Z"
    },
    "papermill": {
     "duration": 0.371325,
     "end_time": "2021-10-06T07:27:25.178815",
     "exception": false,
     "start_time": "2021-10-06T07:27:24.807490",
     "status": "completed"
    },
    "tags": []
   },
   "outputs": [
    {
     "data": {
      "text/html": [
       "<div>\n",
       "<style scoped>\n",
       "    .dataframe tbody tr th:only-of-type {\n",
       "        vertical-align: middle;\n",
       "    }\n",
       "\n",
       "    .dataframe tbody tr th {\n",
       "        vertical-align: top;\n",
       "    }\n",
       "\n",
       "    .dataframe thead th {\n",
       "        text-align: right;\n",
       "    }\n",
       "</style>\n",
       "<table border=\"1\" class=\"dataframe\">\n",
       "  <thead>\n",
       "    <tr style=\"text-align: right;\">\n",
       "      <th></th>\n",
       "      <th>price</th>\n",
       "      <th>bedrooms</th>\n",
       "      <th>bathrooms</th>\n",
       "      <th>sqft_living</th>\n",
       "      <th>floors</th>\n",
       "      <th>waterfront</th>\n",
       "      <th>view</th>\n",
       "      <th>grade</th>\n",
       "      <th>sqft_above</th>\n",
       "      <th>sqft_basement</th>\n",
       "      <th>long</th>\n",
       "      <th>lat</th>\n",
       "      <th>sqft_living15</th>\n",
       "      <th>price_range</th>\n",
       "    </tr>\n",
       "  </thead>\n",
       "  <tbody>\n",
       "    <tr>\n",
       "      <th>0</th>\n",
       "      <td>221900.0</td>\n",
       "      <td>3</td>\n",
       "      <td>1.00</td>\n",
       "      <td>1180</td>\n",
       "      <td>1.0</td>\n",
       "      <td>0</td>\n",
       "      <td>0</td>\n",
       "      <td>7</td>\n",
       "      <td>1180</td>\n",
       "      <td>0</td>\n",
       "      <td>-122.257</td>\n",
       "      <td>47.5112</td>\n",
       "      <td>1340</td>\n",
       "      <td>medium</td>\n",
       "    </tr>\n",
       "    <tr>\n",
       "      <th>1</th>\n",
       "      <td>538000.0</td>\n",
       "      <td>3</td>\n",
       "      <td>2.25</td>\n",
       "      <td>2570</td>\n",
       "      <td>2.0</td>\n",
       "      <td>0</td>\n",
       "      <td>0</td>\n",
       "      <td>7</td>\n",
       "      <td>2170</td>\n",
       "      <td>400</td>\n",
       "      <td>-122.319</td>\n",
       "      <td>47.7210</td>\n",
       "      <td>1690</td>\n",
       "      <td>high</td>\n",
       "    </tr>\n",
       "    <tr>\n",
       "      <th>2</th>\n",
       "      <td>180000.0</td>\n",
       "      <td>2</td>\n",
       "      <td>1.00</td>\n",
       "      <td>770</td>\n",
       "      <td>1.0</td>\n",
       "      <td>0</td>\n",
       "      <td>0</td>\n",
       "      <td>6</td>\n",
       "      <td>770</td>\n",
       "      <td>0</td>\n",
       "      <td>-122.233</td>\n",
       "      <td>47.7379</td>\n",
       "      <td>2720</td>\n",
       "      <td>low</td>\n",
       "    </tr>\n",
       "    <tr>\n",
       "      <th>3</th>\n",
       "      <td>604000.0</td>\n",
       "      <td>4</td>\n",
       "      <td>3.00</td>\n",
       "      <td>1960</td>\n",
       "      <td>1.0</td>\n",
       "      <td>0</td>\n",
       "      <td>0</td>\n",
       "      <td>7</td>\n",
       "      <td>1050</td>\n",
       "      <td>910</td>\n",
       "      <td>-122.393</td>\n",
       "      <td>47.5208</td>\n",
       "      <td>1360</td>\n",
       "      <td>high</td>\n",
       "    </tr>\n",
       "    <tr>\n",
       "      <th>4</th>\n",
       "      <td>510000.0</td>\n",
       "      <td>3</td>\n",
       "      <td>2.00</td>\n",
       "      <td>1680</td>\n",
       "      <td>1.0</td>\n",
       "      <td>0</td>\n",
       "      <td>0</td>\n",
       "      <td>8</td>\n",
       "      <td>1680</td>\n",
       "      <td>0</td>\n",
       "      <td>-122.045</td>\n",
       "      <td>47.6168</td>\n",
       "      <td>1800</td>\n",
       "      <td>high</td>\n",
       "    </tr>\n",
       "  </tbody>\n",
       "</table>\n",
       "</div>"
      ],
      "text/plain": [
       "      price  bedrooms  bathrooms  sqft_living  floors  waterfront  view  \\\n",
       "0  221900.0         3       1.00         1180     1.0           0     0   \n",
       "1  538000.0         3       2.25         2570     2.0           0     0   \n",
       "2  180000.0         2       1.00          770     1.0           0     0   \n",
       "3  604000.0         4       3.00         1960     1.0           0     0   \n",
       "4  510000.0         3       2.00         1680     1.0           0     0   \n",
       "\n",
       "   grade  sqft_above  sqft_basement     long      lat  sqft_living15  \\\n",
       "0      7        1180              0 -122.257  47.5112           1340   \n",
       "1      7        2170            400 -122.319  47.7210           1690   \n",
       "2      6         770              0 -122.233  47.7379           2720   \n",
       "3      7        1050            910 -122.393  47.5208           1360   \n",
       "4      8        1680              0 -122.045  47.6168           1800   \n",
       "\n",
       "  price_range  \n",
       "0      medium  \n",
       "1        high  \n",
       "2         low  \n",
       "3        high  \n",
       "4        high  "
      ]
     },
     "execution_count": 61,
     "metadata": {},
     "output_type": "execute_result"
    }
   ],
   "source": [
    "housing_data_geo.head()"
   ]
  },
  {
   "cell_type": "code",
   "execution_count": 62,
   "id": "bf18dfc1",
   "metadata": {
    "execution": {
     "iopub.execute_input": "2021-10-06T07:27:25.882154Z",
     "iopub.status.busy": "2021-10-06T07:27:25.878741Z",
     "iopub.status.idle": "2021-10-06T07:27:25.884808Z",
     "shell.execute_reply": "2021-10-06T07:27:25.885225Z",
     "shell.execute_reply.started": "2021-10-06T05:23:49.346774Z"
    },
    "papermill": {
     "duration": 0.359174,
     "end_time": "2021-10-06T07:27:25.885407",
     "exception": false,
     "start_time": "2021-10-06T07:27:25.526233",
     "status": "completed"
    },
    "tags": []
   },
   "outputs": [
    {
     "data": {
      "text/plain": [
       "price            float64\n",
       "bedrooms           int64\n",
       "bathrooms        float64\n",
       "sqft_living        int64\n",
       "floors           float64\n",
       "waterfront         int64\n",
       "view               int64\n",
       "grade              int64\n",
       "sqft_above         int64\n",
       "sqft_basement      int64\n",
       "long             float64\n",
       "lat              float64\n",
       "sqft_living15      int64\n",
       "price_range       object\n",
       "dtype: object"
      ]
     },
     "execution_count": 62,
     "metadata": {},
     "output_type": "execute_result"
    }
   ],
   "source": [
    "housing_data_geo.dtypes"
   ]
  },
  {
   "cell_type": "code",
   "execution_count": 63,
   "id": "b8c3c0d2",
   "metadata": {
    "execution": {
     "iopub.execute_input": "2021-10-06T07:27:26.641234Z",
     "iopub.status.busy": "2021-10-06T07:27:26.630790Z",
     "iopub.status.idle": "2021-10-06T07:27:26.858637Z",
     "shell.execute_reply": "2021-10-06T07:27:26.858169Z",
     "shell.execute_reply.started": "2021-10-06T05:54:39.287581Z"
    },
    "papermill": {
     "duration": 0.582548,
     "end_time": "2021-10-06T07:27:26.858777",
     "exception": false,
     "start_time": "2021-10-06T07:27:26.276229",
     "status": "completed"
    },
    "tags": []
   },
   "outputs": [
    {
     "data": {
      "image/png": "[encoded data removed]",
      "text/plain": [
       "<Figure size 432x288 with 1 Axes>"
      ]
     },
     "metadata": {},
     "output_type": "display_data"
    }
   ],
   "source": [
    "#plotting to find with of the price range is dominant in king county.\n",
    "#from the graph below we know that most of the houses are in a range of 200,000 to 450,000.\n",
    "sn.set_theme(style=\"darkgrid\")\n",
    "ax = sn.countplot(x=\"price_range\", data=housing_data_geo)"
   ]
  },
  {
   "cell_type": "code",
   "execution_count": null,
   "id": "bb596ed8",
   "metadata": {
    "papermill": {
     "duration": 0.34857,
     "end_time": "2021-10-06T07:27:27.563583",
     "exception": false,
     "start_time": "2021-10-06T07:27:27.215013",
     "status": "completed"
    },
    "tags": []
   },
   "outputs": [],
   "source": []
  },
  {
   "cell_type": "code",
   "execution_count": null,
   "id": "fe0442a1",
   "metadata": {
    "papermill": {
     "duration": 0.348377,
     "end_time": "2021-10-06T07:27:28.267246",
     "exception": false,
     "start_time": "2021-10-06T07:27:27.918869",
     "status": "completed"
    },
    "tags": []
   },
   "outputs": [],
   "source": []
  },
  {
   "cell_type": "code",
   "execution_count": null,
   "id": "b6c798eb",
   "metadata": {
    "papermill": {
     "duration": 0.358486,
     "end_time": "2021-10-06T07:27:28.974084",
     "exception": false,
     "start_time": "2021-10-06T07:27:28.615598",
     "status": "completed"
    },
    "tags": []
   },
   "outputs": [],
   "source": []
  },
  {
   "cell_type": "code",
   "execution_count": null,
   "id": "56305a86",
   "metadata": {
    "papermill": {
     "duration": 0.349907,
     "end_time": "2021-10-06T07:27:29.675119",
     "exception": false,
     "start_time": "2021-10-06T07:27:29.325212",
     "status": "completed"
    },
    "tags": []
   },
   "outputs": [],
   "source": []
  }
 ],
 "metadata": {
  "kernelspec": {
   "display_name": "Python 3",
   "language": "python",
   "name": "python3"
  },
  "language_info": {
   "codemirror_mode": {
    "name": "ipython",
    "version": 3
   },
   "file_extension": ".py",
   "mimetype": "text/x-python",
   "name": "python",
   "nbconvert_exporter": "python",
   "pygments_lexer": "ipython3",
   "version": "3.7.10"
  },
  "papermill": {
   "default_parameters": {},
   "duration": 64.774364,
   "end_time": "2021-10-06T07:27:30.644437",
   "environment_variables": {},
   "exception": null,
   "input_path": "__notebook__.ipynb",
   "output_path": "__notebook__.ipynb",
   "parameters": {},
   "start_time": "2021-10-06T07:26:25.870073",
   "version": "2.3.3"
  }
 },
 "nbformat": 4,
 "nbformat_minor": 5
}
